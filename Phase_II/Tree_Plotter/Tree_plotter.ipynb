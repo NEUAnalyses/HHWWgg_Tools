{
 "cells": [
  {
   "cell_type": "code",
   "execution_count": 1,
   "id": "trying-substitute",
   "metadata": {},
   "outputs": [
    {
     "data": {
      "text/plain": [
       "'\\nThe purpose of this notebook is to plot root tree variables with uproot and matplotlib \\n'"
      ]
     },
     "execution_count": 1,
     "metadata": {},
     "output_type": "execute_result"
    }
   ],
   "source": [
    "\"\"\"\n",
    "The purpose of this notebook is to plot root tree variables with uproot and matplotlib.\n",
    "\"\"\""
   ]
  },
  {
   "cell_type": "code",
   "execution_count": 41,
   "id": "demographic-judge",
   "metadata": {},
   "outputs": [
    {
     "name": "stdout",
     "output_type": "stream",
     "text": [
      "Welcome to JupyROOT 6.24/00\n"
     ]
    }
   ],
   "source": [
    "%matplotlib inline\n",
    "import uproot \n",
    "import os \n",
    "import numpy as np\n",
    "from matplotlib import pyplot as plt \n",
    "from ROOT import TLorentzVector"
   ]
  },
  {
   "cell_type": "code",
   "execution_count": 7,
   "id": "silver-awareness",
   "metadata": {},
   "outputs": [],
   "source": [
    "file_path = \"/eos/user/a/atishelm/ntuples/Delphes/VBFHHTo2G2Qlnu_CV_1_C2V_1_C3_0_TuneCP5_14TeV-madgraph-pythia8_ntuple_0_0.root\"\n",
    "tree_path = \"myana/mytree\""
   ]
  },
  {
   "cell_type": "code",
   "execution_count": 44,
   "id": "relative-egypt",
   "metadata": {},
   "outputs": [],
   "source": [
    "##-- Bimodal statistical uncertainty \n",
    "def bimod_unc(a, b):\n",
    "    ratio = a / b\n",
    "    uncertainty = ratio * np.sqrt((1/a) + (1/b))\n",
    "    return uncertainty\n",
    "\n",
    "\n",
    "# def Add_CMS_Header(plt, lumi, isWide, ax):\n",
    "def Add_CMS_Header(plt, isWide, ax):\n",
    "    ##-- Upper left plot text\n",
    "    ##-- CMS \n",
    "    plt.text(\n",
    "        # 0.05, 0.9, u\"CMS $\\it{Preliminary}$\",\n",
    "        0., 1., u\"CMS \",\n",
    "        fontsize=20, fontweight='bold',\n",
    "        horizontalalignment='left',\n",
    "        verticalalignment='bottom',\n",
    "        transform=ax.transAxes\n",
    "    )\n",
    "    \n",
    "    if(isWide):\n",
    "        prelim_x = 0.08\n",
    "    else:\n",
    "        prelim_x = 0.08\n",
    "#         prelim_x = 0.12\n",
    "    \n",
    "    ##-- Preliminary \n",
    "    plt.text(\n",
    "        prelim_x, 0.998, u\"$\\it{Simulation}$ $\\it{Preliminary}$\",\n",
    "        fontsize=18,\n",
    "        horizontalalignment='left',\n",
    "        verticalalignment='bottom',\n",
    "        transform=ax.transAxes\n",
    "    )    \n",
    "\n",
    "    ##-- Lumi \n",
    "    plt.text(\n",
    "#         1., 1., r\"%s fb$^{-1}$ (13 TeV)\"%(lumi),\n",
    "#         1., 1., \"(13 TeV)\",\n",
    "        1., 1., \"(14 TeV)\",\n",
    "        fontsize=16, horizontalalignment='right', \n",
    "        verticalalignment='bottom', \n",
    "        transform=ax.transAxes\n",
    "    )  \n",
    "    \n",
    "    \n",
    "def DeltaR(eta_0_, eta_1_, phi_0_, phi_1_):\n",
    "    dEta = np.subtract(eta_0_, eta_1_)\n",
    "    dPhi = np.subtract(phi_0_, phi_1_)\n",
    "    dEta_squared = np.square(dEta)\n",
    "    dPhi_squared = np.square(dPhi)\n",
    "    dR = np.sqrt(np.add(dEta_squared, dPhi_squared))      \n",
    "    return dR\n",
    "\n",
    "def InvMass(pt_0_, eta_0_, phi_0_, mass_0_, pt_1_, eta_1_, phi_1_, mass_1_):\n",
    "    v1 = TLorentzVector() \n",
    "    v1.SetPtEtaPhiM(pt_0_, eta_0_, phi_0_, mass_0_) \n",
    "    \n",
    "    v2 = TLorentzVector()\n",
    "    v2.SetPtEtaPhiM(pt_1_, eta_1_, phi_1_, mass_1_)\n",
    "    \n",
    "    TwoBodyVector = v1 + v2 \n",
    "    TwoBodyMass = TwoBodyVector.M()\n",
    "    \n",
    "    return TwoBodyMass"
   ]
  },
  {
   "cell_type": "code",
   "execution_count": 57,
   "id": "listed-belarus",
   "metadata": {},
   "outputs": [],
   "source": [
    "BinDict = {\n",
    "    \"N_goodElectrons\" : [0, 5, 5], \n",
    "    \"N_goodMuons\" : [0, 5, 5], \n",
    "    \"N_allElectrons\" : [0, 5, 5], \n",
    "    \"N_allMuons\" : [0, 5, 5],  \n",
    "    \"N_allLeptons\" : [0, 10, 10],\n",
    "    \"N_goodLeptons\" : [0, 3, 3],\n",
    "    \"N_allJets\" : [0, 20, 20],\n",
    "    \"N_goodJets\" : [0, 10, 10],\n",
    "    \"GEN_Lepton_0_pt\" : [0, 400, 40],\n",
    "    \"GEN_Quark_0_pt\" : [0, 400, 40],\n",
    "    \"GEN_Quark_1_pt\" : [0, 400, 40],\n",
    "    \"GEN_Lepton_0_eta\" : [-3, 3, 40],\n",
    "    \"GEN_Quark_0_eta\" : [-3, 3, 40],\n",
    "    \"GEN_Quark_1_eta\" : [-3, 3, 40],\n",
    "    \"GEN_Lepton_0_phi\" : [-3, 3, 40],\n",
    "    \"GEN_Quark_0_phi\" : [-3, 3, 40],\n",
    "    \"GEN_Quark_1_phi\" : [-3, 3, 40],\n",
    "    \"GEN_Lepton_0_pdgId\" : [-20, 7, 60],\n",
    "    \"GEN_DR_Lepton_Quark0\" : [0, 7, 60],\n",
    "    \"GEN_DR_Lepton_Quark1\" : [0, 7, 60],\n",
    "    \"GEN_Leading_W_mass_over_pt\" : [0, 10, 80],\n",
    "    \"GEN_Subleading_W_mass_over_pt\" : [0, 10, 80],\n",
    "    \"GEN_Leading_H_mass_over_pt\" : [0, 10, 80],\n",
    "    \"GEN_Subleading_H_mass_over_pt\" : [0, 10, 80],\n",
    "    \"npuVertices\" : [140, 260, 40],\n",
    "    \"vtx_pt2\" : [0, 10000, 40],\n",
    "    \"mgg\" : [115, 135, 80],\n",
    "    \"mjj\" : [0, 90, 90]\n",
    "}"
   ]
  },
  {
   "cell_type": "code",
   "execution_count": 62,
   "id": "supposed-hormone",
   "metadata": {
    "scrolled": false
   },
   "outputs": [
    {
     "name": "stdout",
     "output_type": "stream",
     "text": [
      "Variable: mgg\n",
      "file: /eos/user/a/atishelm/ntuples/Delphes/VBFHHTo2G2Qlnu_CV_1_C2V_1_C3_0_TuneCP5_14TeV-madgraph-pythia8_ntuple_0_0.root\n"
     ]
    },
    {
     "data": {
      "image/png": "[encoded data removed]",
      "text/plain": [
       "<Figure size 720x540 with 1 Axes>"
      ]
     },
     "metadata": {
      "needs_background": "light"
     },
     "output_type": "display_data"
    },
    {
     "name": "stdout",
     "output_type": "stream",
     "text": [
      "Variable: vtx_pt2\n",
      "file: /eos/user/a/atishelm/ntuples/Delphes/VBFHHTo2G2Qlnu_CV_1_C2V_1_C3_0_TuneCP5_14TeV-madgraph-pythia8_ntuple_0_0.root\n"
     ]
    },
    {
     "data": {
      "image/png": "[encoded data removed]",
      "text/plain": [
       "<Figure size 720x540 with 1 Axes>"
      ]
     },
     "metadata": {
      "needs_background": "light"
     },
     "output_type": "display_data"
    },
    {
     "name": "stdout",
     "output_type": "stream",
     "text": [
      "Variable: npuVertices\n",
      "file: /eos/user/a/atishelm/ntuples/Delphes/VBFHHTo2G2Qlnu_CV_1_C2V_1_C3_0_TuneCP5_14TeV-madgraph-pythia8_ntuple_0_0.root\n"
     ]
    },
    {
     "data": {
      "image/png": "[encoded data removed]",
      "text/plain": [
       "<Figure size 720x540 with 1 Axes>"
      ]
     },
     "metadata": {
      "needs_background": "light"
     },
     "output_type": "display_data"
    },
    {
     "name": "stdout",
     "output_type": "stream",
     "text": [
      "DONE\n"
     ]
    }
   ],
   "source": [
    "variables = [\n",
    "#     \"mjj\"\n",
    "    \"mgg\",\n",
    "    \"vtx_pt2\",\n",
    "    \"npuVertices\"\n",
    "#     \"GEN_Leading_H_mass_over_pt\",\n",
    "#     \"GEN_Subleading_H_mass_over_pt\"    \n",
    "#     \"GEN_Leading_W_mass_over_pt\",\n",
    "#     \"GEN_Subleading_W_mass_over_pt\"\n",
    "#     \"GEN_DR_Lepton_Quark0\",\n",
    "#     \"GEN_DR_Lepton_Quark1\",\n",
    "#     \"GEN_Lepton_0_pdgId\"\n",
    "#     \"GEN_Lepton_0_pt\",\n",
    "#     \"GEN_Quark_0_pt\",\n",
    "#     \"GEN_Quark_1_pt\" ,  \n",
    "#     \"GEN_Lepton_0_eta\", \n",
    "#     \"GEN_Quark_0_eta\", \n",
    "#     \"GEN_Quark_1_eta\", \n",
    "#     \"GEN_Lepton_0_phi\",\n",
    "#     \"GEN_Quark_0_phi\", \n",
    "#     \"GEN_Quark_1_phi\",    \n",
    "#     \"N_allElectrons\",\n",
    "#     \"N_allMuons\",\n",
    "#     \"N_allLeptons\",\n",
    "#     \"N_goodLeptons\",\n",
    "#     \"N_allJets\",\n",
    "#     \"N_goodJets\",\n",
    "#     \"N_goodElectrons\",\n",
    "#     \"N_goodMuons\"\n",
    "]\n",
    "\n",
    "isWide = 0 \n",
    "\n",
    "specialVariables = {\n",
    "    \"N_allLeptons\" : ['add', 'N_allElectrons', \"N_allMuons\"],\n",
    "    \"N_goodLeptons\" : ['add', 'N_goodElectrons', \"N_goodMuons\"],\n",
    "    \"GEN_DR_Lepton_Quark0\" : ['dR', 'GEN_Lepton_0', 'GEN_Quark_0'],\n",
    "    \"GEN_DR_Lepton_Quark1\" : ['dR', 'GEN_Lepton_0', 'GEN_Quark_1'],\n",
    "    \"GEN_Leading_W_mass_over_pt\" : ['divide', 'Leading_GEN_W_M', \"Leading_GEN_W_pt\"],\n",
    "    \"GEN_Subleading_W_mass_over_pt\" : ['divide', 'Subleading_GEN_W_M', \"Subleading_GEN_W_pt\"],\n",
    "    \"GEN_Leading_H_mass_over_pt\" : ['divide', 'Leading_GEN_Higgs_M', \"Leading_GEN_Higgs_pt\"],\n",
    "    \"GEN_Subleading_H_mass_over_pt\" : ['divide', 'Subleading_GEN_Higgs_M', \"Subleading_GEN_Higgs_pt\"],    \n",
    "    \"mgg\" : ['invMass', \"gamma\", \"gamma\"],\n",
    "    \"mjj\" : ['invMass', \"jetpuppi\", \"jetpuppi\"],\n",
    "}\n",
    "\n",
    "# tags = [i for i in range(0,4)]\n",
    "# colors = ['C0', 'C1', 'C2']\n",
    "# lineStyles = [\"solid\", \"dashed\", \"dotted\"]\n",
    "\n",
    "for v in variables:\n",
    "    fig, ax = plt.subplots()\n",
    "#     fig.set_dpi(200)\n",
    "    fig.set_size_inches(10, 7.5)\n",
    "    print(\"Variable:\",v)\n",
    "    xmin, xmax, nbins = BinDict[v]\n",
    "    bins = np.linspace(xmin, xmax, nbins + 1)  \n",
    "    \n",
    "    ##-- Plot each file on the same artist \n",
    "#     for f_i, f in enumerate(SL_files):\n",
    "#     for f_i, f in enumerate(files):\n",
    "    print(\"file:\",file_path)\n",
    "#     color = colors[f_i]\n",
    "#     lineStyle = lineStyles[f_i]\n",
    "    u_f = uproot.open(file_path)\n",
    "    tree = u_f[tree_path]\n",
    "#     fEnd = f.split('/')[-1]\n",
    "#     fileLabel = fEnd.split('_')[1]\n",
    "#     tree_name = tree_names[fEnd]    \n",
    "    vals = []\n",
    "    weights = []        \n",
    "\n",
    "#         for tag_i in tags:\n",
    "#             print(\"Tag:\",tag_i)\n",
    "#     fullTreeName = \"%s_HHWWggTag_%s\"%(tree_name, tag_i)\n",
    "#     MC_weights = u_f['tagsDumper/trees'][fullTreeName][\"weight\"].array()\n",
    "\n",
    "    ##-- Special vars which need adding, multiply, etc. of existing branches \n",
    "    if(v in specialVariables.keys()):\n",
    "        operation, v1_name, v2_name = specialVariables[v]\n",
    "\n",
    "        if(operation == 'dR'):\n",
    "            exec(\"eta_0 =    u_f[tree_path]['%s_eta'].array()\"%(v1_name))\n",
    "            exec(\"eta_1 =    u_f[tree_path]['%s_eta'].array()\"%(v2_name))\n",
    "            exec(\"phi_0 =    u_f[tree_path]['%s_phi'].array()\"%(v1_name))\n",
    "            exec(\"phi_1 =    u_f[tree_path]['%s_phi'].array()\"%(v2_name))\n",
    "\n",
    "            variable_values = DeltaR(eta_0, eta_1, phi_0, phi_1)\n",
    "            \n",
    "        elif(operation == 'invMass'):\n",
    "            ##-- Need four vector values for each \n",
    "            exec(\"MASK = tree['%s_size'].array() > 2\"%(v1_name))\n",
    "            exec(\"pt_0 = tree['%s_pt'].array()[MASK][:,0]\"%(v1_name)) ##-- Leading object\n",
    "            exec(\"eta_0 = tree['%s_eta'].array()[MASK][:,0]\"%(v1_name)) ##-- Leading object\n",
    "            exec(\"phi_0 = tree['%s_phi'].array()[MASK][:,0]\"%(v1_name)) ##-- Leading object\n",
    "            exec(\"mass_0 = tree['%s_mass'].array()[MASK][:,0]\"%(v1_name)) ##-- Leading object\n",
    "            \n",
    "            exec(\"pt_1 = tree['%s_pt'].array()[MASK][:,1]\"%(v2_name)) ##-- Subleading object \n",
    "            exec(\"eta_1 = tree['%s_eta'].array()[MASK][:,1]\"%(v2_name))\n",
    "            exec(\"phi_1 = tree['%s_phi'].array()[MASK][:,1]\"%(v2_name)) \n",
    "            exec(\"mass_1 = tree['%s_mass'].array()[MASK][:,1]\"%(v2_name))            \n",
    "            \n",
    "#             variable_values = np.array(map(InvMass, pt_0, eta_0, phi_0, mass_0, pt_1, eta_1, phi_1, mass_1))\n",
    "            map_vals = map(InvMass, pt_0, eta_0, phi_0, mass_0, pt_1, eta_1, phi_1, mass_1)\n",
    "            variable_values = list(map_vals)\n",
    "\n",
    "        else:\n",
    "            v1_values = u_f[tree_path][v1_name].array()\n",
    "            v2_values = u_f[tree_path][v2_name].array()\n",
    "            exec(\"variable_values = np.%s(v1_values, v2_values)\"%(operation))\n",
    "    else:\n",
    "        if(v == \"vtx_pt2\"):\n",
    "            variable_values = u_f[tree_path][v].array()[:,0] ##-- 0th vertex \n",
    "        else:\n",
    "            variable_values = u_f[tree_path][v].array()\n",
    "\n",
    "#     print(\"Variable_values:\",variable_values)\n",
    "        \n",
    "    ##-- Update variable values with tag \n",
    "    vals = np.append(vals, np.array(variable_values))\n",
    "#     weights = np.append(weights, np.array(MC_weights))\n",
    "\n",
    "    ##-- Make histogram \n",
    "#     binVals, edges = np.histogram(vals, bins = bins, weights = weights) ##-- Make numpy histogram to get histogram height values in order to avoid drawing on pyplot artist \n",
    "#     binVals_noweights, edges_noweights = np.histogram(vals, bins = bins) ##-- Make numpy histogram to get histogram height values in order to avoid drawing on pyplot artist \n",
    "    binVals, edges = np.histogram(vals, bins = bins) ##-- Make numpy histogram to get histogram height values in order to avoid drawing on pyplot artist \n",
    "    binWidth = (xmax - xmin) / nbins\n",
    "    binCenters = [float(a) + (float(binWidth)/2.) for a in edges[:-1]]      \n",
    "\n",
    "    ##-- Stat uncertainty - poissonian per bin then scale with normalization\n",
    "#     rel_yerrors = [0 if N == 0 else (np.sqrt(N) / N) for N in binVals_noweights] #-- delta(y)\n",
    "    rel_yerrors = [0 if N == 0 else (np.sqrt(N) / N) for N in binVals] #-- delta(y)\n",
    "\n",
    "    ##-- Normalize to unity so that each bin is a probability \n",
    "    hist_sum = np.sum(binVals)\n",
    "    binVals = binVals / hist_sum\n",
    "\n",
    "    normed_yerrors = np.multiply(binVals, rel_yerrors)\n",
    "\n",
    "    plt.hist(bins[:-1], \n",
    "             weights = binVals, \n",
    "             bins = bins, \n",
    "             histtype = 'step', \n",
    "#              label = fileLabel, \n",
    "#              linestyle=(lineStyle), \n",
    "             linewidth=2,\n",
    "             color = 'C0'\n",
    "            )\n",
    "    plt.errorbar(x = binCenters, \n",
    "                 y = binVals, \n",
    "                 yerr = normed_yerrors, \n",
    "                 color = 'C0', \n",
    "                 fmt = \" \", # Removes the line \n",
    "#                      zorder = 2\n",
    "                ) \n",
    "    Add_CMS_Header(plt, isWide, ax)\n",
    "    fig.tight_layout()\n",
    "#     plt.legend(fontsize = 20, loc = 'best')\n",
    "    plt.xlabel(v, fontsize = 20)\n",
    "    plt.ylabel(\"Probability\", fontsize = 20)\n",
    "    plt.xticks(fontsize=15)\n",
    "    plt.yticks(fontsize=15) \n",
    "    plt.grid()\n",
    "    if(\"DR\" in v):\n",
    "        ax.axvline(0.4, linestyle = 'solid', color = 'black') ##-- line at 0.4 because of 0.4 selection on dR for jets, leptons and photons. axvlines is by default from min to max \n",
    "        plt.text(\n",
    "            0.12, 0.8, r\"$\\Delta$R $=$ 0.4\",\n",
    "            fontsize=25,\n",
    "            horizontalalignment='left',\n",
    "            verticalalignment='bottom',\n",
    "            transform=ax.transAxes\n",
    "        )   \n",
    "    plt.show()\n",
    "    plt.close()\n",
    "    \n",
    "print(\"DONE\")"
   ]
  },
  {
   "cell_type": "code",
   "execution_count": null,
   "id": "funky-mustang",
   "metadata": {},
   "outputs": [],
   "source": []
  }
 ],
 "metadata": {
  "kernelspec": {
   "display_name": "Python 3",
   "language": "python",
   "name": "python3"
  },
  "language_info": {
   "codemirror_mode": {
    "name": "ipython",
    "version": 3
   },
   "file_extension": ".py",
   "mimetype": "text/x-python",
   "name": "python",
   "nbconvert_exporter": "python",
   "pygments_lexer": "ipython3",
   "version": "3.8.6"
  }
 },
 "nbformat": 4,
 "nbformat_minor": 5
}
