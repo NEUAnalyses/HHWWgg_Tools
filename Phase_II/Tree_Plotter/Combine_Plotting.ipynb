{
 "cells": [
  {
   "cell_type": "code",
   "execution_count": 36,
   "id": "a5774efa",
   "metadata": {},
   "outputs": [
    {
     "data": {
      "text/plain": [
       "'\\n2 November 2021\\nAbraham Tishelman-Charny \\n\\nThe purpose of this notebook is to first make plots of histograms input into combine to make sense of results.\\n'"
      ]
     },
     "execution_count": 36,
     "metadata": {},
     "output_type": "execute_result"
    }
   ],
   "source": [
    "\"\"\"\n",
    "2 November 2021\n",
    "Abraham Tishelman-Charny \n",
    "\n",
    "The purpose of this notebook is to first make plots of histograms input into combine to make sense of results.\n",
    "\"\"\""
   ]
  },
  {
   "cell_type": "code",
   "execution_count": 37,
   "id": "5f1d67ce",
   "metadata": {},
   "outputs": [],
   "source": [
    "import uproot \n",
    "import numpy as np \n",
    "from matplotlib import pyplot as plt "
   ]
  },
  {
   "cell_type": "code",
   "execution_count": 38,
   "id": "1e6dda62",
   "metadata": {},
   "outputs": [],
   "source": [
    "# Get uprooted file \n",
    "def UprootFile(d_, f_name_):\n",
    "    f_path_ = \"%s/%s\"%(d_, f_name_)\n",
    "    f_ = uproot.open(f_path_)\n",
    "    return f_, f_.keys()\n",
    "\n",
    "# Plot a histogram from the uprooted file \n",
    "def PlotHist(histName_, f_, show_, ol_):\n",
    "    label = histName_.replace(\";1\",\"\")\n",
    "    hist = f_[histName_]\n",
    "    binVals = hist.values()\n",
    "    bins = np.linspace(100, 180, 81) # binning for invariant mass of the diphoton from 100 to 180 GeV \n",
    "    fig, ax = plt.subplots()\n",
    "    plt.hist(bins[:-1], weights = binVals, bins = bins, label = label) # plot bin heights \n",
    "    plt.title(label)\n",
    "    plt.ylabel(\"Yield\")\n",
    "    plt.xlabel(r\"$m_{\\gamma\\gamma}$\")\n",
    "    plt.legend()\n",
    "    if(show_):\n",
    "        plt.show()\n",
    "    else:\n",
    "        plt.savefig(\"%s/%s.png\"%(ol_, label))\n",
    "        plt.savefig(\"%s/%s.pdf\"%(ol_, label))\n",
    "    plt.close()\n",
    "    "
   ]
  },
  {
   "cell_type": "code",
   "execution_count": 35,
   "id": "1adcd62c",
   "metadata": {},
   "outputs": [
    {
     "name": "stdout",
     "output_type": "stream",
     "text": [
      "DONE\n"
     ]
    }
   ],
   "source": [
    "%matplotlib inline # allow for inline plotting \n",
    "show = 0 # (0): Do not show plots inline, just save to output directory. (1): Show plots inline - do not save to output directory\n",
    "\n",
    "# Plot all histograms from uprooted file \n",
    "\n",
    "# Define SWAN accessible directory and file name\n",
    "d = \"/eos/user/a/atishelm/ntuples/HHWWgg_Phase_II/Combine/\" # directory \n",
    "f_name = \"Inv_mass_gghasOneL_HL-LHC.root\" # file name \n",
    "f, histNames = UprootFile(d, f_name) # get uprooted file and all histogram names \n",
    "ol = \"/eos/user/a/atishelm/www/HHWWgg/Phase_II/Combine/\" # output location for plots if not showing inline \n",
    "\n",
    "# Plot each histogram \n",
    "for histName in histNames: # for each histogram \n",
    "    PlotHist(histName, f, show, ol) # plot \n",
    "\n",
    "print(\"DONE\") # indicate the cell has completed its commands "
   ]
  }
 ],
 "metadata": {
  "kernelspec": {
   "display_name": "Python 3",
   "language": "python",
   "name": "python3"
  },
  "language_info": {
   "codemirror_mode": {
    "name": "ipython",
    "version": 3
   },
   "file_extension": ".py",
   "mimetype": "text/x-python",
   "name": "python",
   "nbconvert_exporter": "python",
   "pygments_lexer": "ipython3",
   "version": "3.9.6"
  }
 },
 "nbformat": 4,
 "nbformat_minor": 5
}
