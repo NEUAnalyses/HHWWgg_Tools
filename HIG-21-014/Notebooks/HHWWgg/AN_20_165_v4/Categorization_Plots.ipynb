{
 "cells": [
  {
   "cell_type": "code",
   "execution_count": 18,
   "id": "authorized-moldova",
   "metadata": {},
   "outputs": [],
   "source": [
    "from matplotlib import pyplot as plt \n",
    "import os \n",
    "import pandas as pd "
   ]
  },
  {
   "cell_type": "code",
   "execution_count": 19,
   "id": "imperial-manitoba",
   "metadata": {},
   "outputs": [],
   "source": [
    "# d = \"/eos/user/a/atishelm/www/HHWWgg/DNN/HHWWyyDNN_WithHggFactor2-200Epochs-3ClassMulticlass_EvenSingleH_2Hgg_withKinWeightCut10_BalanceYields/Categorization_MoreInfo/\"\n",
    "d = \"/eos/user/a/atishelm/www/HHWWgg/DNN/HHWWyyDNN_WithHggFactor2-200Epochs-3ClassMulticlass_EvenSingleH_2Hgg_withKinWeightCut10_BalanceYields/Categorization_UpdatedSmoothingNoNegatives/\"\n",
    "d_soversqrtb = \"/eos/user/a/atishelm/www/HHWWgg/DNN/HHWWyyDNN_WithHggFactor2-200Epochs-3ClassMulticlass_EvenSingleH_2Hgg_withKinWeightCut10_BalanceYields/Categorization_UpdatedSmoothingNoNegatives_SoversqrtB/\""
   ]
  },
  {
   "cell_type": "code",
   "execution_count": 20,
   "id": "overall-jacob",
   "metadata": {},
   "outputs": [],
   "source": [
    "files = [\"%s/%s\"%(d,f) for f in os.listdir(d) if \"nBins_70\" in f and \"massMin122\" in f and \"v2.txt\" in f]\n",
    "files_sOversqrtB = [\"%s/%s\"%(d_soversqrtb,f) for f in os.listdir(d_soversqrtb) if \"nBins_70\" in f and \"massMin122\" in f and \"v2.txt\" in f]"
   ]
  },
  {
   "cell_type": "code",
   "execution_count": 4,
   "id": "compatible-vehicle",
   "metadata": {},
   "outputs": [
    {
     "name": "stdout",
     "output_type": "stream",
     "text": [
      "files: ['/eos/user/a/atishelm/www/HHWWgg/DNN/HHWWyyDNN_WithHggFactor2-200Epochs-3ClassMulticlass_EvenSingleH_2Hgg_withKinWeightCut10_BalanceYields/Categorization_UpdatedSmoothingNoNegatives//categorize_nBins_70_nCat_1_massMin122.0_massMax128.0_v2.txt', '/eos/user/a/atishelm/www/HHWWgg/DNN/HHWWyyDNN_WithHggFactor2-200Epochs-3ClassMulticlass_EvenSingleH_2Hgg_withKinWeightCut10_BalanceYields/Categorization_UpdatedSmoothingNoNegatives//categorize_nBins_70_nCat_2_massMin122.0_massMax128.0_v2.txt', '/eos/user/a/atishelm/www/HHWWgg/DNN/HHWWyyDNN_WithHggFactor2-200Epochs-3ClassMulticlass_EvenSingleH_2Hgg_withKinWeightCut10_BalanceYields/Categorization_UpdatedSmoothingNoNegatives//categorize_nBins_70_nCat_3_massMin122.0_massMax128.0_v2.txt', '/eos/user/a/atishelm/www/HHWWgg/DNN/HHWWyyDNN_WithHggFactor2-200Epochs-3ClassMulticlass_EvenSingleH_2Hgg_withKinWeightCut10_BalanceYields/Categorization_UpdatedSmoothingNoNegatives//categorize_nBins_70_nCat_4_massMin122.0_massMax128.0_v2.txt', '/eos/user/a/atishelm/www/HHWWgg/DNN/HHWWyyDNN_WithHggFactor2-200Epochs-3ClassMulticlass_EvenSingleH_2Hgg_withKinWeightCut10_BalanceYields/Categorization_UpdatedSmoothingNoNegatives//categorize_nBins_70_nCat_5_massMin122.0_massMax128.0_v2.txt']\n"
     ]
    }
   ],
   "source": [
    "print(\"files:\",files)\n",
    "# print(\"files_sOversqrtB\",files_sOversqrtB)"
   ]
  },
  {
   "cell_type": "code",
   "execution_count": 22,
   "id": "difficult-stockholm",
   "metadata": {},
   "outputs": [
    {
     "name": "stdout",
     "output_type": "stream",
     "text": [
      "\\begin{table}[H]\n",
      "  \\begin{center}\n",
      "    \\begin{tabular}{c|c|c|c|c|c|c}\n",
      "    CatN & DNN Min & DNN Max & S & $B_{SR}$ & $Data_{Sideband}$ & Significance\\\\ \\hline\n",
      "    0 & 0.92286 & 1.0 & 0.03778 & 1.29894 & 11.0 & 0.03299 \\\\ \n",
      "    \\end{tabular}\n",
      "  \\end{center}\n",
      "\\caption{\n",
      "    Semi-Leptonic DNN Category Boundaries and yields in signal region for 1 Categories\n",
      "}\n",
      "\\label{tab:SLcategories_1}\n",
      "\\end{table}\n",
      " \n",
      "\\begin{table}[H]\n",
      "  \\begin{center}\n",
      "    \\begin{tabular}{c|c|c|c|c|c|c}\n",
      "    CatN & DNN Min & DNN Max & S & $B_{SR}$ & $Data_{Sideband}$ & Significance\\\\ \\hline\n",
      "    0 & 0.92286 & 1.0 & 0.03778 & 1.29894 & 11.0 & 0.03299 \\\\ \n",
      "    1 & 0.1 & 0.92286 & 0.19094 & 679.29034 & 4595.0 & 0.00733 \\\\ \n",
      "    \\end{tabular}\n",
      "  \\end{center}\n",
      "\\caption{\n",
      "    Semi-Leptonic DNN Category Boundaries and yields in signal region for 2 Categories\n",
      "}\n",
      "\\label{tab:SLcategories_2}\n",
      "\\end{table}\n",
      " \n",
      "\\begin{table}[H]\n",
      "  \\begin{center}\n",
      "    \\begin{tabular}{c|c|c|c|c|c|c}\n",
      "    CatN & DNN Min & DNN Max & S & $B_{SR}$ & $Data_{Sideband}$ & Significance\\\\ \\hline\n",
      "    0 & 0.94857 & 1.0 & 0.02086 & 0.45013 & 8.0 & 0.03085 \\\\ \n",
      "    1 & 0.87143 & 0.94857 & 0.0463 & 4.6932 & 27.0 & 0.02134 \\\\ \n",
      "    2 & 0.1 & 0.87143 & 0.16157 & 675.44595 & 4571.0 & 0.00622 \\\\ \n",
      "    \\end{tabular}\n",
      "  \\end{center}\n",
      "\\caption{\n",
      "    Semi-Leptonic DNN Category Boundaries and yields in signal region for 3 Categories\n",
      "}\n",
      "\\label{tab:SLcategories_3}\n",
      "\\end{table}\n",
      " \n",
      "\\begin{table}[H]\n",
      "  \\begin{center}\n",
      "    \\begin{tabular}{c|c|c|c|c|c|c}\n",
      "    CatN & DNN Min & DNN Max & S & $B_{SR}$ & $Data_{Sideband}$ & Significance\\\\ \\hline\n",
      "    0 & 0.93571 & 1.0 & 0.02925 & 0.80354 & 8.0 & 0.03244 \\\\ \n",
      "    1 & 0.82 & 0.93571 & 0.06112 & 10.9449 & 77.0 & 0.01846 \\\\ \n",
      "    2 & 0.64 & 0.82 & 0.05379 & 38.95202 & 264.0 & 0.00862 \\\\ \n",
      "    3 & 0.1 & 0.64 & 0.08457 & 629.88882 & 4257.0 & 0.00337 \\\\ \n",
      "    \\end{tabular}\n",
      "  \\end{center}\n",
      "\\caption{\n",
      "    Semi-Leptonic DNN Category Boundaries and yields in signal region for 4 Categories\n",
      "}\n",
      "\\label{tab:SLcategories_4}\n",
      "\\end{table}\n",
      " \n",
      "\\begin{table}[H]\n",
      "  \\begin{center}\n",
      "    \\begin{tabular}{c|c|c|c|c|c|c}\n",
      "    CatN & DNN Min & DNN Max & S & $B_{SR}$ & $Data_{Sideband}$ & Significance\\\\ \\hline\n",
      "    0 & 0.94857 & 1.0 & 0.02086 & 0.45013 & 8.0 & 0.03085 \\\\ \n",
      "    1 & 0.91 & 0.94857 & 0.02427 & 1.51237 & 9.0 & 0.01969 \\\\ \n",
      "    2 & 0.84571 & 0.91 & 0.03423 & 6.19978 & 41.0 & 0.01374 \\\\ \n",
      "    3 & 0.64 & 0.84571 & 0.0648 & 42.53818 & 291.0 & 0.00993 \\\\ \n",
      "    4 & 0.1 & 0.64 & 0.08457 & 629.88882 & 4257.0 & 0.00337 \\\\ \n",
      "    \\end{tabular}\n",
      "  \\end{center}\n",
      "\\caption{\n",
      "    Semi-Leptonic DNN Category Boundaries and yields in signal region for 5 Categories\n",
      "}\n",
      "\\label{tab:SLcategories_5}\n",
      "\\end{table}\n",
      " \n"
     ]
    }
   ],
   "source": [
    "##-- Make table for each Number of categories for a given binning, \n",
    "\n",
    "roundPlace = 5\n",
    "\n",
    "for i, file in enumerate(files):\n",
    "    ##-- Begin Table\n",
    "    print(\"\\\\begin{table}[H]\")\n",
    "    print(\"  \\\\begin{center}\")\n",
    "    print(\"    \\\\begin{tabular}{c|c|c|c|c|c|c}\")\n",
    "    print(\"    CatN & DNN Min & DNN Max & S & $B_{SR}$ & $Data_{Sideband}$ & Significance\\\\\\ \\\\hline\")    \n",
    "    \n",
    "    ##-- Fill with category information\n",
    "    df = pd.read_csv(file, header=None)\n",
    "    Nrows = len(df.index)\n",
    "    Ncats = Nrows - 1 \n",
    "#     print(\"Nrows:\",Nrows)\n",
    "#     print(\"First Category:\",df.iloc[-2,:])\n",
    "    \n",
    "    ##-- Get: \n",
    "    # Category Number, DNN score Min, DNN score max, Nsignal, NBkg, Significance \n",
    "    for irow in range(0, Ncats):\n",
    "        thisRow = (irow * -1) - 2  \n",
    "    #     print(\"thisRow:\",thisRow)\n",
    "        row = df.iloc[thisRow, 0]\n",
    "        rowEntries = row.split()\n",
    "        CatNum = irow\n",
    "        DNNscoreMin = round(float(rowEntries[0]), roundPlace) \n",
    "        DNNscoreMax = round(float(rowEntries[1]), roundPlace)\n",
    "        Nsignal = round(float(rowEntries[5]),roundPlace)\n",
    "        NSB = round(float(rowEntries[-1]), roundPlace)\n",
    "#         Ncont = round(float(rowEntries[7]), roundPlace)\n",
    "#         NVH = round(float(rowEntries[9]), roundPlace)\n",
    "#         NttH = round(float(rowEntries[11]), roundPlace)\n",
    "        Nbkg = round(float(rowEntries[7]), roundPlace)\n",
    "        Significance = round(float(rowEntries[3]), roundPlace)\n",
    "\n",
    "        print(\"    %s & %s & %s & %s & %s & %s & %s \\\\\\ \"%(CatNum, DNNscoreMin, DNNscoreMax, Nsignal, Nbkg, NSB, Significance))\n",
    "#         print(\"    %s & %s & %s & %s & %s & %s & %s & %s & %s \\\\\\ \"%(CatNum, DNNscoreMin, DNNscoreMax, Nsignal, Nbkg, Ncont, NVH, NttH, Significance))\n",
    "        \n",
    "    \n",
    "    ##-- Finish table\n",
    "    print(\"    \\\\end{tabular}\")\n",
    "    print(\"  \\\\end{center}\")\n",
    "    print(\"\\\\caption{\")\n",
    "    print(\"    Semi-Leptonic DNN Category Boundaries and yields in signal region for %s Categories\"%(Ncats))\n",
    "    print(\"}\")\n",
    "    print(\"\\\\label{tab:SLcategories_%s}\"%(Ncats))\n",
    "    print(\"\\\\end{table}\")\n",
    "    print(\" \")\n",
    "    \n"
   ]
  },
  {
   "cell_type": "code",
   "execution_count": 33,
   "id": "boring-craft",
   "metadata": {},
   "outputs": [
    {
     "name": "stdout",
     "output_type": "stream",
     "text": [
      "NCats_vals: [1, 2, 3, 4, 5]\n",
      "Tot_Sig_vals: [0.0329922790805, 0.0337958410606, 0.0380231750868, 0.0397628838051, 0.0404737782575]\n",
      "NCats_vals_SoversqrtB: [1, 2, 3, 4, 5]\n",
      "Tot_Sig_vals_SoversqrtB: [0.0331510743721, 0.0339509521894, 0.0382341675516, 0.0399754140597, 0.0406839576573]\n",
      "\\begin{table}[H]\n",
      "  \\begin{center}\n",
      "    \\begin{tabular}{c|c|c}\n",
      "    NCategories & Total Significance with Eq \\ref{eq:SignifianceDef} & $\\frac{S}{\\sqrt{B}}$ \\\\ \\hline\n",
      "    1 & 0.032992 & 0.033151  \\\\ \n",
      "    2 & 0.033796 & 0.033951  \\\\ \n",
      "    3 & 0.038023 & 0.038234  \\\\ \n",
      "    4 & 0.039763 & 0.039975  \\\\ \n",
      "    5 & 0.040474 & 0.040684  \\\\ \n",
      "    \\end{tabular}\n",
      "  \\end{center}\n",
      "\\caption{\n",
      "    Significance values using two equations for significance\n",
      "}\n",
      "\\label{tab:SigVsNcats_table}\n",
      "\\end{table}\n",
      " \n",
      "DONE\n"
     ]
    }
   ],
   "source": [
    "##-- To plot both together\n",
    "\n",
    "roundPlace = 6\n",
    "\n",
    "fig, ax = plt.subplots()\n",
    "\n",
    "NCats_vals = []\n",
    "Tot_Sig_vals = []\n",
    "\n",
    "for i, file in enumerate(files):\n",
    "    df = pd.read_csv(file, header=None)\n",
    "    NCats = len(df.index) - 1 \n",
    "    NCats_vals.append(NCats)\n",
    "    Tot_Sig = float(df.iloc[-1,-1].split(' ')[-1])\n",
    "    Tot_Sig_vals.append(Tot_Sig)\n",
    "    \n",
    "print(\"NCats_vals:\",NCats_vals)\n",
    "print(\"Tot_Sig_vals:\",Tot_Sig_vals)\n",
    "    \n",
    "plt.plot(NCats_vals, Tot_Sig_vals, 'o-', label = \"General Expression\")\n",
    "    \n",
    "NCats_vals_SoversqrtB = []\n",
    "Tot_Sig_vals_SoversqrtB = []\n",
    "\n",
    "for i, file in enumerate(files_sOversqrtB):\n",
    "    df = pd.read_csv(file, header=None)\n",
    "    NCats = len(df.index) - 1 \n",
    "    NCats_vals_SoversqrtB.append(NCats)\n",
    "    Tot_Sig = float(df.iloc[-1,-1].split(' ')[-1])\n",
    "    Tot_Sig_vals_SoversqrtB.append(Tot_Sig)\n",
    "    \n",
    "print(\"NCats_vals_SoversqrtB:\",NCats_vals_SoversqrtB)\n",
    "print(\"Tot_Sig_vals_SoversqrtB:\",Tot_Sig_vals_SoversqrtB)    \n",
    "    \n",
    "yMax_soversqrtb = max(Tot_Sig_vals_SoversqrtB)\n",
    "yMax_general = max(Tot_Sig_vals)\n",
    "overallYmax = -999 \n",
    "if(yMax_soversqrtb > yMax_general):\n",
    "    overallYmax = yMax_soversqrtb\n",
    "else:\n",
    "    overallYmax = yMax_general\n",
    "    \n",
    "print(\"\\\\begin{table}[H]\")\n",
    "print(\"  \\\\begin{center}\")\n",
    "print(\"    \\\\begin{tabular}{c|c|c}\")\n",
    "print(\"    NCategories & Total Significance with Eq \\\\ref{eq:SignifianceDef} & $\\\\frac{S}{\\\\sqrt{B}}$ \\\\\\ \\\\hline\")    \n",
    "print(\"    1 & %s & %s  \\\\\\ \"%(round(Tot_Sig_vals[0],roundPlace), round(Tot_Sig_vals_SoversqrtB[0],roundPlace)))\n",
    "print(\"    2 & %s & %s  \\\\\\ \"%(round(Tot_Sig_vals[1],roundPlace), round(Tot_Sig_vals_SoversqrtB[1],roundPlace)))\n",
    "print(\"    3 & %s & %s  \\\\\\ \"%(round(Tot_Sig_vals[2],roundPlace), round(Tot_Sig_vals_SoversqrtB[2],roundPlace)))\n",
    "print(\"    4 & %s & %s  \\\\\\ \"%(round(Tot_Sig_vals[3],roundPlace), round(Tot_Sig_vals_SoversqrtB[3],roundPlace)))\n",
    "print(\"    5 & %s & %s  \\\\\\ \"%(round(Tot_Sig_vals[4],roundPlace), round(Tot_Sig_vals_SoversqrtB[4],roundPlace)))\n",
    "print(\"    \\\\end{tabular}\")\n",
    "print(\"  \\\\end{center}\")\n",
    "print(\"\\\\caption{\")\n",
    "print(\"    Significance values using two equations for significance\")\n",
    "print(\"}\")\n",
    "print(\"\\\\label{tab:SigVsNcats_table}\")\n",
    "print(\"\\\\end{table}\")\n",
    "print(\" \")    \n",
    "    \n",
    "    \n",
    "plt.plot(NCats_vals_SoversqrtB, Tot_Sig_vals_SoversqrtB, 'o-', label = r\"S / $\\sqrt{B}$\")\n",
    "plt.legend(loc = 'best')\n",
    "plt.xlabel(\"Number of Categories\", fontsize = 15)\n",
    "plt.ylabel(\"Significance\", fontsize = 15)\n",
    "plt.ylim(0, overallYmax*1.1)\n",
    "plt.tight_layout()\n",
    "# plt.show()\n",
    "plt.savefig(\"%s/SigVsNCats.png\"%(d))\n",
    "plt.savefig(\"%s/SigVsNCats.pdf\"%(d))\n",
    "plt.close()\n",
    "print(\"DONE\")"
   ]
  },
  {
   "cell_type": "code",
   "execution_count": 61,
   "id": "macro-forestry",
   "metadata": {},
   "outputs": [
    {
     "name": "stdout",
     "output_type": "stream",
     "text": [
      "NCats_vals: [1, 2, 3, 4, 5]\n",
      "Tot_Sig_vals: [0.0171322929157, 0.0172213680096, 0.0690187816042, 0.0691652102274, 0.0692055028059]\n"
     ]
    },
    {
     "data": {
      "image/png": "[encoded data removed]",
      "text/plain": [
       "<Figure size 432x288 with 1 Axes>"
      ]
     },
     "metadata": {
      "needs_background": "light"
     },
     "output_type": "display_data"
    }
   ],
   "source": [
    "##-- To plot one\n",
    "\n",
    "fig, ax = plt.subplots()\n",
    "\n",
    "NCats_vals = []\n",
    "Tot_Sig_vals = []\n",
    "\n",
    "for i, file in enumerate(files):\n",
    "    df = pd.read_csv(file, header=None)\n",
    "    NCats = len(df.index) - 1 \n",
    "    NCats_vals.append(NCats)\n",
    "    Tot_Sig = float(df.iloc[-1,-1].split(' ')[-1])\n",
    "    Tot_Sig_vals.append(Tot_Sig)\n",
    "    \n",
    "print(\"NCats_vals:\",NCats_vals)\n",
    "print(\"Tot_Sig_vals:\",Tot_Sig_vals)\n",
    "    \n",
    "plt.plot(NCats_vals, Tot_Sig_vals, 'o-', label = \"Significance\")\n",
    "\n",
    "plt.legend()\n",
    "plt.show()\n",
    "plt.close()"
   ]
  },
  {
   "cell_type": "code",
   "execution_count": null,
   "id": "fifth-player",
   "metadata": {},
   "outputs": [],
   "source": []
  },
  {
   "cell_type": "code",
   "execution_count": null,
   "id": "perceived-trader",
   "metadata": {},
   "outputs": [],
   "source": []
  },
  {
   "cell_type": "code",
   "execution_count": 27,
   "id": "lasting-state",
   "metadata": {},
   "outputs": [],
   "source": [
    "import ROOT\n",
    "import numpy as np "
   ]
  },
  {
   "cell_type": "code",
   "execution_count": 28,
   "id": "surgical-career",
   "metadata": {},
   "outputs": [],
   "source": [
    "f = ROOT.TFile.Open(\"/eos/user/a/atishelm/ntuples/HHWWgg_DNN/MultiClassifier/HHWWyyDNN_WithHggFactor2-200Epochs-3ClassMulticlass_EvenSingleH_2Hgg_withKinWeightCut10_BalanceYields/evalDNN_HH/evalDNN_HH_Histos_smoothing_SmoothSuper_bins70_massMin122.0_massMax128.0.root\")\n",
    "Bkg_SR_h = f.Get(\"h_evalDNN_HH_bkg_SR_weighted_smooth\")\n",
    "Sig_SR_h = f.Get(\"h_evalDNN_HH_signal_SR\")"
   ]
  },
  {
   "cell_type": "code",
   "execution_count": 34,
   "id": "endangered-union",
   "metadata": {},
   "outputs": [
    {
     "name": "stdout",
     "output_type": "stream",
     "text": [
      "DONE\n"
     ]
    }
   ],
   "source": [
    "Bkg_vals = []\n",
    "Sig_vals = []\n",
    "\n",
    "for bin in range(Bkg_SR_h.GetNbinsX()):\n",
    "    val = Bkg_SR_h.GetBinContent(bin + 1)\n",
    "    Bkg_vals.append(val)\n",
    "for bin in range(Sig_SR_h.GetNbinsX()):\n",
    "    val = Sig_SR_h.GetBinContent(bin + 1)\n",
    "    Sig_vals.append(val)\n",
    "\n",
    "bins = np.linspace(0.1, 1, 71)\n",
    "    \n",
    "# print(\"Bkg_vals:\",Bkg_vals)    \n",
    "# print(\"bins[:-1]:\",bins[:-1])\n",
    "    \n",
    "fig, ax = plt.subplots()\n",
    "plt.hist(bins[:-1], weights = Bkg_vals, bins = bins, label = \"Background\")\n",
    "plt.hist(bins[:-1], weights = Sig_vals, bins = bins, label = \"Signal\")\n",
    "plt.yscale('log')\n",
    "plt.xlim(0.1, 1)\n",
    "plt.xlabel(\"evalDNN_HH\", fontsize = 15)\n",
    "plt.ylabel(\"Number of Expected Events\", fontsize = 15)\n",
    "plt.legend(loc = 'best')\n",
    "plt.tight_layout()\n",
    "# plt.show()\n",
    "plt.savefig(\"/eos/user/a/atishelm/www/HHWWgg/DNN/HHWWyyDNN_WithHggFactor2-200Epochs-3ClassMulticlass_EvenSingleH_2Hgg_withKinWeightCut10_BalanceYields/Categorization_UpdatedSmoothingNoNegatives/Bkg_Sig_SR_evalDNN_HH.png\")\n",
    "plt.savefig(\"/eos/user/a/atishelm/www/HHWWgg/DNN/HHWWyyDNN_WithHggFactor2-200Epochs-3ClassMulticlass_EvenSingleH_2Hgg_withKinWeightCut10_BalanceYields/Categorization_UpdatedSmoothingNoNegatives/Bkg_Sig_SR_evalDNN_HH.pdf\")\n",
    "plt.close()\n",
    "\n",
    "print(\"DONE\")\n",
    "    "
   ]
  },
  {
   "cell_type": "code",
   "execution_count": 2,
   "id": "perfect-basketball",
   "metadata": {},
   "outputs": [],
   "source": [
    "import uproot"
   ]
  },
  {
   "cell_type": "code",
   "execution_count": 65,
   "id": "nearby-judgment",
   "metadata": {},
   "outputs": [
    {
     "ename": "AttributeError",
     "evalue": "'TH1F' object has no attribute 'all_members'",
     "output_type": "error",
     "traceback": [
      "\u001b[0;31m---------------------------------------------------------------------------\u001b[0m",
      "\u001b[0;31mAttributeError\u001b[0m                            Traceback (most recent call last)",
      "\u001b[0;32m<ipython-input-65-1af78a90ad66>\u001b[0m in \u001b[0;36m<module>\u001b[0;34m\u001b[0m\n\u001b[1;32m      1\u001b[0m \u001b[0mfile\u001b[0m \u001b[0;34m=\u001b[0m \u001b[0muproot\u001b[0m\u001b[0;34m.\u001b[0m\u001b[0mopen\u001b[0m\u001b[0;34m(\u001b[0m\u001b[0;34m\"https://scikit-hep.org/uproot3/examples/hepdata-example.root\"\u001b[0m\u001b[0;34m)\u001b[0m\u001b[0;34m\u001b[0m\u001b[0;34m\u001b[0m\u001b[0m\n\u001b[1;32m      2\u001b[0m \u001b[0mfile\u001b[0m\u001b[0;34m.\u001b[0m\u001b[0mclassnames\u001b[0m\u001b[0;34m(\u001b[0m\u001b[0;34m)\u001b[0m\u001b[0;34m\u001b[0m\u001b[0;34m\u001b[0m\u001b[0m\n\u001b[0;32m----> 3\u001b[0;31m \u001b[0mfile\u001b[0m\u001b[0;34m[\u001b[0m\u001b[0;34m\"hpx\"\u001b[0m\u001b[0;34m]\u001b[0m\u001b[0;34m.\u001b[0m\u001b[0mall_members\u001b[0m\u001b[0;34m\u001b[0m\u001b[0;34m\u001b[0m\u001b[0m\n\u001b[0m",
      "\u001b[0;31mAttributeError\u001b[0m: 'TH1F' object has no attribute 'all_members'"
     ]
    }
   ],
   "source": [
    "file = uproot.open(\"https://scikit-hep.org/uproot3/examples/hepdata-example.root\")\n",
    "file.classnames()\n",
    "file[\"hpx\"].all_members"
   ]
  },
  {
   "cell_type": "code",
   "execution_count": 60,
   "id": "incorrect-awareness",
   "metadata": {
    "scrolled": false
   },
   "outputs": [
    {
     "name": "stdout",
     "output_type": "stream",
     "text": [
      "(b'h_evalDNN_HH_bkg_SR_weighted;1', 'TH1F')\n",
      "(b'h_evalDNN_HH_bkg_SR_weighted_smooth;1', 'TH1F')\n",
      "(b'h_evalDNN_HH_bkg_SR_weighted_smooth_up;1', 'TH1F')\n",
      "(b'h_evalDNN_HH_bkg_SR_weighted_smooth_down;1', 'TH1F')\n",
      "(b'h_evalDNN_HH_bkg_SR;1', 'TH1F')\n",
      "(b'h_evalDNN_HH_bkg_SR_smooth;1', 'TH1F')\n",
      "(b'h_evalDNN_HH_bkg_SR_smooth_up;1', 'TH1F')\n",
      "(b'h_evalDNN_HH_bkg_SR_smooth_down;1', 'TH1F')\n",
      "(b'h_evalDNN_HH_bkg_SB_weighted;1', 'TH1F')\n",
      "(b'h_evalDNN_HH_bkg_SB_weighted_smooth;2', 'TH1F')\n",
      "(b'h_evalDNN_HH_bkg_SB_weighted_smooth;1', 'TH1F')\n",
      "(b'h_evalDNN_HH_bkg_SB_weighted_smooth_up;2', 'TH1F')\n",
      "(b'h_evalDNN_HH_bkg_SB_weighted_smooth_up;1', 'TH1F')\n",
      "(b'h_evalDNN_HH_bkg_SB_weighted_smooth_down;2', 'TH1F')\n",
      "(b'h_evalDNN_HH_bkg_SB_weighted_smooth_down;1', 'TH1F')\n",
      "(b'h_evalDNN_HH_data_SB;1', 'TH1F')\n",
      "(b'h_evalDNN_HH_VHtoGG_SR_2017;1', 'TH1F')\n",
      "(b'h_evalDNN_HH_VHtoGG_SR_2017_smooth;1', 'TH1F')\n",
      "(b'h_evalDNN_HH_VHtoGG_SR_2017_smooth_up;1', 'TH1F')\n",
      "(b'h_evalDNN_HH_VHtoGG_SR_2017_smooth_down;1', 'TH1F')\n",
      "(b'h_evalDNN_HH_ttHtoGG_SR_2017;1', 'TH1F')\n",
      "(b'h_evalDNN_HH_ttHtoGG_SR_2017_smooth;1', 'TH1F')\n",
      "(b'h_evalDNN_HH_ttHtoGG_SR_2017_smooth_up;1', 'TH1F')\n",
      "(b'h_evalDNN_HH_ttHtoGG_SR_2017_smooth_down;1', 'TH1F')\n",
      "(b'h_evalDNN_HH_signal_SR;1', 'TH1F')\n",
      "(b'h_evalDNN_HH_signal_SB;1', 'TH1F')\n",
      "(b'h_evalDNN_HH_data_SB_diffBins;1', 'TH1F')\n",
      "(b'h_evalDNN_HH_bkg_SB_diffBins;1', 'TH1F')\n",
      "(b'h_evalDNN_HH_bkg_SB_weighted_diffBins;1', 'TH1F')\n",
      "(b'h_evalDNN_HH_ggHtoGG_SR;1', 'TH1F')\n",
      "(b'h_evalDNN_HH_VBFHtoGG_SR;1', 'TH1F')\n",
      "(b'h_evalDNN_HH_VHtoGG_SR;1', 'TH1F')\n",
      "(b'h_evalDNN_HH_ttHtoGG_SR;1', 'TH1F')\n"
     ]
    }
   ],
   "source": [
    "\n",
    "\n",
    "##-- Make signal, smoothed background DNN score plot in signal region\n",
    "file = \"/eos/user/a/atishelm/ntuples/HHWWgg_DNN/MultiClassifier/HHWWyyDNN_WithHggFactor2-200Epochs-3ClassMulticlass_EvenSingleH_2Hgg_withKinWeightCut10_BalanceYields/evalDNN_HH/evalDNN_HH_Histos_smoothing_SmoothSuper_bins70_massMin122.0_massMax128.0.root\"\n",
    "f = uproot.open(file)\n",
    "# print(f.keys())\n",
    "# print(\" \")\n",
    "# print(f.classnames())\n",
    "for item in f.classnames():\n",
    "    print(item)\n",
    "\n",
    "Bkg_SR_h = f[\"h_evalDNN_HH_bkg_SR_weighted_smooth\"]\n",
    "Signal_SR_h = f[\"h_evalDNN_HH_signal_SR\"]"
   ]
  },
  {
   "cell_type": "code",
   "execution_count": 63,
   "id": "twelve-franklin",
   "metadata": {},
   "outputs": [
    {
     "ename": "AttributeError",
     "evalue": "'TH1F' object has no attribute 'all_members'",
     "output_type": "error",
     "traceback": [
      "\u001b[0;31m---------------------------------------------------------------------------\u001b[0m",
      "\u001b[0;31mAttributeError\u001b[0m                            Traceback (most recent call last)",
      "\u001b[0;32m<ipython-input-63-21b01b566590>\u001b[0m in \u001b[0;36m<module>\u001b[0;34m\u001b[0m\n\u001b[0;32m----> 1\u001b[0;31m \u001b[0mBkg_SR_h\u001b[0m\u001b[0;34m.\u001b[0m\u001b[0mall_members\u001b[0m\u001b[0;34m\u001b[0m\u001b[0;34m\u001b[0m\u001b[0m\n\u001b[0m",
      "\u001b[0;31mAttributeError\u001b[0m: 'TH1F' object has no attribute 'all_members'"
     ]
    }
   ],
   "source": [
    "Bkg_SR_h.all_members"
   ]
  },
  {
   "cell_type": "code",
   "execution_count": 53,
   "id": "standard-chuck",
   "metadata": {},
   "outputs": [
    {
     "ename": "AttributeError",
     "evalue": "'TH1F' object has no attribute 'print'",
     "output_type": "error",
     "traceback": [
      "\u001b[0;31m---------------------------------------------------------------------------\u001b[0m",
      "\u001b[0;31mAttributeError\u001b[0m                            Traceback (most recent call last)",
      "\u001b[0;32m<ipython-input-53-c1178de54684>\u001b[0m in \u001b[0;36m<module>\u001b[0;34m\u001b[0m\n\u001b[0;32m----> 1\u001b[0;31m \u001b[0mBkg_SR_h\u001b[0m\u001b[0;34m.\u001b[0m\u001b[0mprint\u001b[0m\u001b[0;34m(\u001b[0m\u001b[0;34m)\u001b[0m\u001b[0;34m\u001b[0m\u001b[0;34m\u001b[0m\u001b[0m\n\u001b[0m\u001b[1;32m      2\u001b[0m \u001b[0;31m# a = Bkg_SR_h.to_numpy()\u001b[0m\u001b[0;34m\u001b[0m\u001b[0;34m\u001b[0m\u001b[0;34m\u001b[0m\u001b[0m\n\u001b[1;32m      3\u001b[0m \u001b[0;34m\u001b[0m\u001b[0m\n\u001b[1;32m      4\u001b[0m \u001b[0;34m\u001b[0m\u001b[0m\n\u001b[1;32m      5\u001b[0m \u001b[0;31m# Bkg_SR_values = Bkg_SR_h.values()\u001b[0m\u001b[0;34m\u001b[0m\u001b[0;34m\u001b[0m\u001b[0;34m\u001b[0m\u001b[0m\n",
      "\u001b[0;31mAttributeError\u001b[0m: 'TH1F' object has no attribute 'print'"
     ]
    }
   ],
   "source": [
    "\n",
    "##-- https://indico.cern.ch/event/697389/contributions/3102807/attachments/1713054/2762448/Writing_files_with_uproot.pdf\n",
    "\n",
    "# a = Bkg_SR_h.to_numpy()\n",
    "\n",
    "\n",
    "# Bkg_SR_values = Bkg_SR_h.values()\n",
    "\n",
    "\n",
    "# fig, ax = plt.subplots()\n",
    "# plt.hist(Bkg_SR_h)\n",
    "# plt.show()\n",
    "# plt.close()"
   ]
  },
  {
   "cell_type": "code",
   "execution_count": null,
   "id": "julian-volunteer",
   "metadata": {},
   "outputs": [],
   "source": []
  }
 ],
 "metadata": {
  "kernelspec": {
   "display_name": "Python 3",
   "language": "python",
   "name": "python3"
  },
  "language_info": {
   "codemirror_mode": {
    "name": "ipython",
    "version": 3
   },
   "file_extension": ".py",
   "mimetype": "text/x-python",
   "name": "python",
   "nbconvert_exporter": "python",
   "pygments_lexer": "ipython3",
   "version": "3.9.6"
  }
 },
 "nbformat": 4,
 "nbformat_minor": 5
}
