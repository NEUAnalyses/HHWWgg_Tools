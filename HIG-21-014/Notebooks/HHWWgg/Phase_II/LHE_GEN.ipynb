{
 "cells": [
  {
   "cell_type": "code",
   "execution_count": 1,
   "id": "meaningful-taylor",
   "metadata": {},
   "outputs": [],
   "source": [
    "# The purpose of this notebook is to analyze LHE / GEN files for Phase II MC production"
   ]
  },
  {
   "cell_type": "code",
   "execution_count": 2,
   "id": "comfortable-choir",
   "metadata": {},
   "outputs": [],
   "source": [
    "import uproot "
   ]
  },
  {
   "cell_type": "code",
   "execution_count": 4,
   "id": "engaging-overview",
   "metadata": {},
   "outputs": [],
   "source": [
    "p = 'TSG-SnowmassWinter21wmLHEGEN-00010.root'\n",
    "f = uproot.open(p)"
   ]
  },
  {
   "cell_type": "code",
   "execution_count": 6,
   "id": "fitting-discovery",
   "metadata": {},
   "outputs": [
    {
     "data": {
      "text/plain": [
       "[b'EventAuxiliary',\n",
       " b'EventProductProvenance',\n",
       " b'EventSelections',\n",
       " b'BranchListIndexes',\n",
       " b'GenEventInfoProduct_generator__GEN.',\n",
       " b'LHEEventProduct_externalLHEProducer__GEN.',\n",
       " b'floatROOTMathCartesian3DROOTMathDefaultCoordinateSystemTagROOTMathPositionVector3D_genParticles_xyz0_GEN.',\n",
       " b'edmHepMCProduct_generatorSmeared__GEN.',\n",
       " b'edmRandomEngineStates_randomEngineStateProducer__GEN.',\n",
       " b'edmTriggerResults_TriggerResults__GEN.',\n",
       " b'float_genParticles_t0_GEN.',\n",
       " b'ints_genParticles__GEN.',\n",
       " b'recoGenJets_ak4GenJets__GEN.',\n",
       " b'recoGenJets_ak4GenJetsNoNu__GEN.',\n",
       " b'recoGenJets_ak8GenJets__GEN.',\n",
       " b'recoGenJets_ak8GenJetsNoNu__GEN.',\n",
       " b'recoGenMETs_genMetCalo__GEN.',\n",
       " b'recoGenMETs_genMetTrue__GEN.',\n",
       " b'recoGenParticles_genParticles__GEN.']"
      ]
     },
     "execution_count": 6,
     "metadata": {},
     "output_type": "execute_result"
    }
   ],
   "source": [
    "# f.keys()\n",
    "f['Events'].keys()"
   ]
  },
  {
   "cell_type": "code",
   "execution_count": null,
   "id": "federal-workshop",
   "metadata": {},
   "outputs": [],
   "source": []
  }
 ],
 "metadata": {
  "kernelspec": {
   "display_name": "Python 3",
   "language": "python",
   "name": "python3"
  },
  "language_info": {
   "codemirror_mode": {
    "name": "ipython",
    "version": 3
   },
   "file_extension": ".py",
   "mimetype": "text/x-python",
   "name": "python",
   "nbconvert_exporter": "python",
   "pygments_lexer": "ipython3",
   "version": "3.8.6"
  }
 },
 "nbformat": 4,
 "nbformat_minor": 5
}
