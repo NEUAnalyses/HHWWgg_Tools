{
 "cells": [
  {
   "cell_type": "code",
   "execution_count": 1,
   "metadata": {},
   "outputs": [],
   "source": [
    "##-- 26 May 2021 -- How I (Abe) found this file when I needed to re-make the zeroeth vertex efficiency plot:\n",
    "## [atishelm@lxplus750 NtupleAnalysis]$ grep \"Zeroeth Vertex Efficiency\" /eos/user/a/atishelm/SWAN_projects/HHWWgg/Plot-HHWWgg-Systematics/*.ipynb\n",
    "## /eos/user/a/atishelm/SWAN_projects/HHWWgg/Plot-HHWWgg-Systematics/Various-HHWWgg-Plots-And-Checks.ipynb:    \"plt.title(\\\"Zeroeth Vertex Efficiency\\\")\\n\",\n",
    "## [atishelm@lxplus750 NtupleAnalysis]$"
   ]
  },
  {
   "cell_type": "code",
   "execution_count": 2,
   "metadata": {},
   "outputs": [
    {
     "name": "stdout",
     "output_type": "stream",
     "text": [
      "Welcome to JupyROOT 6.22/06\n"
     ]
    }
   ],
   "source": [
    "import ROOT\n",
    "import os \n",
    "import sys \n",
    "from array import array\n",
    "import uproot \n",
    "from matplotlib import pyplot as plt \n",
    "import numpy as np \n",
    "import pandas as pd "
   ]
  },
  {
   "cell_type": "code",
   "execution_count": 16,
   "metadata": {},
   "outputs": [
    {
     "name": "stdout",
     "output_type": "stream",
     "text": [
      "Computing efficiencies...\n",
      "DONE\n"
     ]
    }
   ],
   "source": [
    "file = \"/eos/user/a/atishelm/ntuples/HHWWgg_flashgg/January_2021_Production/2017/Signal/SL_NLO_2017_hadded/GluGluToHHTo2G2Qlnu_node_cHHH1_2017.root\"\n",
    "\n",
    "f = uproot.open(file)\n",
    "dZ = f['tagsDumper/trees']['GluGluToHHTo2G2Qlnu_node_cHHH1_13TeV_HHWWggTag_0']['dZ'].array()\n",
    "weights = f['tagsDumper/trees']['GluGluToHHTo2G2Qlnu_node_cHHH1_13TeV_HHWWggTag_0']['weight'].array()\n",
    "# bins = np.linspace(0,25,251)\n",
    "# eff_bins = np.linspace(0,3,31)\n",
    "bins = np.linspace(0,25,251)\n",
    "numEvents = len(dZ)\n",
    "# print(numEvents)\n",
    "\n",
    "eff_x_vals, eff_y_vals = [], []\n",
    "\n",
    "\n",
    "# want integral to right for each point \n",
    "n_, bins_, patches_ = plt.hist(abs(dZ), bins = bins, weights = weights)\n",
    "# plt.yscale('log')\n",
    "# plt.show()\n",
    "nBinVals = len(n_)\n",
    "# print(nBinVals)\n",
    "totalEntries = sum(n_)\n",
    "# print(totalEntries)\n",
    "\n",
    "print(\"Computing efficiencies...\")\n",
    "\n",
    "for i in range(0,nBinVals):\n",
    "    xtop = i + 1\n",
    "    xValIntegral = sum(n_[:xtop])\n",
    "    eff_val = float(xValIntegral) / float(totalEntries)\n",
    "    eff_x_vals.append(bins_[xtop])\n",
    "    eff_y_vals.append(eff_val)\n",
    "\n",
    "# print(\"eff_x_vals:\",eff_x_vals)\n",
    "# print(\"eff_y_vals:\",eff_y_vals)\n",
    "    \n",
    "plt.close()\n",
    "fig, ax = plt.subplots()\n",
    "    \n",
    "# plt.plot(eff_x_vals, eff_y_vals, 'bo', fillstyle = 'none', markersize = 5)\n",
    "plt.plot(eff_x_vals, eff_y_vals, 'bo', markersize = 5)\n",
    "plt.xlim(0,3)\n",
    "plt.xlabel(\"|dZ|\")\n",
    "plt.ylabel(\"Efficiency\")\n",
    "plt.title(\"Zeroeth Vertex Efficiency\")\n",
    "plt.grid()\n",
    "\n",
    "# plt.show()\n",
    "# plt.savefig(\"/afs/cern.ch/work/a/atishelm/private/AN-20-165/Images/Objects/VtxEff.pdf\")\n",
    "plt.savefig(\"/eos/user/a/atishelm/www/HHWWgg/AN-20-165_v5/VtxEff.pdf\")\n",
    "    \n",
    "plt.close()\n",
    "print(\"DONE\")\n",
    "    \n",
    "# print(n_)\n",
    "# print(bins_)\n",
    "# print(patches_)"
   ]
  },
  {
   "cell_type": "code",
   "execution_count": 6,
   "metadata": {},
   "outputs": [],
   "source": [
    "SR_Yields = \"/eos/user/a/atishelm/www/Yields-SR.txt\"\n",
    "SB_Yields = \"/eos/user/a/atishelm/www/Yields-SB.txt\"\n",
    "# import pandas as pd"
   ]
  },
  {
   "cell_type": "code",
   "execution_count": 7,
   "metadata": {
    "scrolled": true
   },
   "outputs": [
    {
     "ename": "FileNotFoundError",
     "evalue": "[Errno 2] File b'/eos/user/a/atishelm/www/Yields-SR.txt' does not exist: b'/eos/user/a/atishelm/www/Yields-SR.txt'",
     "output_type": "error",
     "traceback": [
      "\u001b[0;31m---------------------------------------------------------------------------\u001b[0m",
      "\u001b[0;31mFileNotFoundError\u001b[0m                         Traceback (most recent call last)",
      "\u001b[0;32m<ipython-input-7-3fbae98e9064>\u001b[0m in \u001b[0;36m<module>\u001b[0;34m\u001b[0m\n\u001b[0;32m----> 1\u001b[0;31m \u001b[0mSR\u001b[0m \u001b[0;34m=\u001b[0m \u001b[0mpd\u001b[0m\u001b[0;34m.\u001b[0m\u001b[0mread_csv\u001b[0m\u001b[0;34m(\u001b[0m\u001b[0mSR_Yields\u001b[0m\u001b[0;34m,\u001b[0m \u001b[0msep\u001b[0m\u001b[0;34m=\u001b[0m\u001b[0;34m' '\u001b[0m\u001b[0;34m)\u001b[0m\u001b[0;34m\u001b[0m\u001b[0;34m\u001b[0m\u001b[0m\n\u001b[0m\u001b[1;32m      2\u001b[0m \u001b[0mSB\u001b[0m \u001b[0;34m=\u001b[0m \u001b[0mpd\u001b[0m\u001b[0;34m.\u001b[0m\u001b[0mread_csv\u001b[0m\u001b[0;34m(\u001b[0m\u001b[0mSB_Yields\u001b[0m\u001b[0;34m,\u001b[0m \u001b[0msep\u001b[0m\u001b[0;34m=\u001b[0m\u001b[0;34m' '\u001b[0m\u001b[0;34m)\u001b[0m\u001b[0;34m\u001b[0m\u001b[0;34m\u001b[0m\u001b[0m\n",
      "\u001b[0;32m/cvmfs/sft.cern.ch/lcg/views/LCG_99/x86_64-centos7-gcc8-opt/lib/python3.8/site-packages/pandas/io/parsers.py\u001b[0m in \u001b[0;36mparser_f\u001b[0;34m(filepath_or_buffer, sep, delimiter, header, names, index_col, usecols, squeeze, prefix, mangle_dupe_cols, dtype, engine, converters, true_values, false_values, skipinitialspace, skiprows, skipfooter, nrows, na_values, keep_default_na, na_filter, verbose, skip_blank_lines, parse_dates, infer_datetime_format, keep_date_col, date_parser, dayfirst, iterator, chunksize, compression, thousands, decimal, lineterminator, quotechar, quoting, doublequote, escapechar, comment, encoding, dialect, tupleize_cols, error_bad_lines, warn_bad_lines, delim_whitespace, low_memory, memory_map, float_precision)\u001b[0m\n\u001b[1;32m    700\u001b[0m                     skip_blank_lines=skip_blank_lines)\n\u001b[1;32m    701\u001b[0m \u001b[0;34m\u001b[0m\u001b[0m\n\u001b[0;32m--> 702\u001b[0;31m         \u001b[0;32mreturn\u001b[0m \u001b[0m_read\u001b[0m\u001b[0;34m(\u001b[0m\u001b[0mfilepath_or_buffer\u001b[0m\u001b[0;34m,\u001b[0m \u001b[0mkwds\u001b[0m\u001b[0;34m)\u001b[0m\u001b[0;34m\u001b[0m\u001b[0;34m\u001b[0m\u001b[0m\n\u001b[0m\u001b[1;32m    703\u001b[0m \u001b[0;34m\u001b[0m\u001b[0m\n\u001b[1;32m    704\u001b[0m     \u001b[0mparser_f\u001b[0m\u001b[0;34m.\u001b[0m\u001b[0m__name__\u001b[0m \u001b[0;34m=\u001b[0m \u001b[0mname\u001b[0m\u001b[0;34m\u001b[0m\u001b[0;34m\u001b[0m\u001b[0m\n",
      "\u001b[0;32m/cvmfs/sft.cern.ch/lcg/views/LCG_99/x86_64-centos7-gcc8-opt/lib/python3.8/site-packages/pandas/io/parsers.py\u001b[0m in \u001b[0;36m_read\u001b[0;34m(filepath_or_buffer, kwds)\u001b[0m\n\u001b[1;32m    427\u001b[0m \u001b[0;34m\u001b[0m\u001b[0m\n\u001b[1;32m    428\u001b[0m     \u001b[0;31m# Create the parser.\u001b[0m\u001b[0;34m\u001b[0m\u001b[0;34m\u001b[0m\u001b[0;34m\u001b[0m\u001b[0m\n\u001b[0;32m--> 429\u001b[0;31m     \u001b[0mparser\u001b[0m \u001b[0;34m=\u001b[0m \u001b[0mTextFileReader\u001b[0m\u001b[0;34m(\u001b[0m\u001b[0mfilepath_or_buffer\u001b[0m\u001b[0;34m,\u001b[0m \u001b[0;34m**\u001b[0m\u001b[0mkwds\u001b[0m\u001b[0;34m)\u001b[0m\u001b[0;34m\u001b[0m\u001b[0;34m\u001b[0m\u001b[0m\n\u001b[0m\u001b[1;32m    430\u001b[0m \u001b[0;34m\u001b[0m\u001b[0m\n\u001b[1;32m    431\u001b[0m     \u001b[0;32mif\u001b[0m \u001b[0mchunksize\u001b[0m \u001b[0;32mor\u001b[0m \u001b[0miterator\u001b[0m\u001b[0;34m:\u001b[0m\u001b[0;34m\u001b[0m\u001b[0;34m\u001b[0m\u001b[0m\n",
      "\u001b[0;32m/cvmfs/sft.cern.ch/lcg/views/LCG_99/x86_64-centos7-gcc8-opt/lib/python3.8/site-packages/pandas/io/parsers.py\u001b[0m in \u001b[0;36m__init__\u001b[0;34m(self, f, engine, **kwds)\u001b[0m\n\u001b[1;32m    893\u001b[0m             \u001b[0mself\u001b[0m\u001b[0;34m.\u001b[0m\u001b[0moptions\u001b[0m\u001b[0;34m[\u001b[0m\u001b[0;34m'has_index_names'\u001b[0m\u001b[0;34m]\u001b[0m \u001b[0;34m=\u001b[0m \u001b[0mkwds\u001b[0m\u001b[0;34m[\u001b[0m\u001b[0;34m'has_index_names'\u001b[0m\u001b[0;34m]\u001b[0m\u001b[0;34m\u001b[0m\u001b[0;34m\u001b[0m\u001b[0m\n\u001b[1;32m    894\u001b[0m \u001b[0;34m\u001b[0m\u001b[0m\n\u001b[0;32m--> 895\u001b[0;31m         \u001b[0mself\u001b[0m\u001b[0;34m.\u001b[0m\u001b[0m_make_engine\u001b[0m\u001b[0;34m(\u001b[0m\u001b[0mself\u001b[0m\u001b[0;34m.\u001b[0m\u001b[0mengine\u001b[0m\u001b[0;34m)\u001b[0m\u001b[0;34m\u001b[0m\u001b[0;34m\u001b[0m\u001b[0m\n\u001b[0m\u001b[1;32m    896\u001b[0m \u001b[0;34m\u001b[0m\u001b[0m\n\u001b[1;32m    897\u001b[0m     \u001b[0;32mdef\u001b[0m \u001b[0mclose\u001b[0m\u001b[0;34m(\u001b[0m\u001b[0mself\u001b[0m\u001b[0;34m)\u001b[0m\u001b[0;34m:\u001b[0m\u001b[0;34m\u001b[0m\u001b[0;34m\u001b[0m\u001b[0m\n",
      "\u001b[0;32m/cvmfs/sft.cern.ch/lcg/views/LCG_99/x86_64-centos7-gcc8-opt/lib/python3.8/site-packages/pandas/io/parsers.py\u001b[0m in \u001b[0;36m_make_engine\u001b[0;34m(self, engine)\u001b[0m\n\u001b[1;32m   1120\u001b[0m     \u001b[0;32mdef\u001b[0m \u001b[0m_make_engine\u001b[0m\u001b[0;34m(\u001b[0m\u001b[0mself\u001b[0m\u001b[0;34m,\u001b[0m \u001b[0mengine\u001b[0m\u001b[0;34m=\u001b[0m\u001b[0;34m'c'\u001b[0m\u001b[0;34m)\u001b[0m\u001b[0;34m:\u001b[0m\u001b[0;34m\u001b[0m\u001b[0;34m\u001b[0m\u001b[0m\n\u001b[1;32m   1121\u001b[0m         \u001b[0;32mif\u001b[0m \u001b[0mengine\u001b[0m \u001b[0;34m==\u001b[0m \u001b[0;34m'c'\u001b[0m\u001b[0;34m:\u001b[0m\u001b[0;34m\u001b[0m\u001b[0;34m\u001b[0m\u001b[0m\n\u001b[0;32m-> 1122\u001b[0;31m             \u001b[0mself\u001b[0m\u001b[0;34m.\u001b[0m\u001b[0m_engine\u001b[0m \u001b[0;34m=\u001b[0m \u001b[0mCParserWrapper\u001b[0m\u001b[0;34m(\u001b[0m\u001b[0mself\u001b[0m\u001b[0;34m.\u001b[0m\u001b[0mf\u001b[0m\u001b[0;34m,\u001b[0m \u001b[0;34m**\u001b[0m\u001b[0mself\u001b[0m\u001b[0;34m.\u001b[0m\u001b[0moptions\u001b[0m\u001b[0;34m)\u001b[0m\u001b[0;34m\u001b[0m\u001b[0;34m\u001b[0m\u001b[0m\n\u001b[0m\u001b[1;32m   1123\u001b[0m         \u001b[0;32melse\u001b[0m\u001b[0;34m:\u001b[0m\u001b[0;34m\u001b[0m\u001b[0;34m\u001b[0m\u001b[0m\n\u001b[1;32m   1124\u001b[0m             \u001b[0;32mif\u001b[0m \u001b[0mengine\u001b[0m \u001b[0;34m==\u001b[0m \u001b[0;34m'python'\u001b[0m\u001b[0;34m:\u001b[0m\u001b[0;34m\u001b[0m\u001b[0;34m\u001b[0m\u001b[0m\n",
      "\u001b[0;32m/cvmfs/sft.cern.ch/lcg/views/LCG_99/x86_64-centos7-gcc8-opt/lib/python3.8/site-packages/pandas/io/parsers.py\u001b[0m in \u001b[0;36m__init__\u001b[0;34m(self, src, **kwds)\u001b[0m\n\u001b[1;32m   1851\u001b[0m         \u001b[0mkwds\u001b[0m\u001b[0;34m[\u001b[0m\u001b[0;34m'usecols'\u001b[0m\u001b[0;34m]\u001b[0m \u001b[0;34m=\u001b[0m \u001b[0mself\u001b[0m\u001b[0;34m.\u001b[0m\u001b[0musecols\u001b[0m\u001b[0;34m\u001b[0m\u001b[0;34m\u001b[0m\u001b[0m\n\u001b[1;32m   1852\u001b[0m \u001b[0;34m\u001b[0m\u001b[0m\n\u001b[0;32m-> 1853\u001b[0;31m         \u001b[0mself\u001b[0m\u001b[0;34m.\u001b[0m\u001b[0m_reader\u001b[0m \u001b[0;34m=\u001b[0m \u001b[0mparsers\u001b[0m\u001b[0;34m.\u001b[0m\u001b[0mTextReader\u001b[0m\u001b[0;34m(\u001b[0m\u001b[0msrc\u001b[0m\u001b[0;34m,\u001b[0m \u001b[0;34m**\u001b[0m\u001b[0mkwds\u001b[0m\u001b[0;34m)\u001b[0m\u001b[0;34m\u001b[0m\u001b[0;34m\u001b[0m\u001b[0m\n\u001b[0m\u001b[1;32m   1854\u001b[0m         \u001b[0mself\u001b[0m\u001b[0;34m.\u001b[0m\u001b[0munnamed_cols\u001b[0m \u001b[0;34m=\u001b[0m \u001b[0mself\u001b[0m\u001b[0;34m.\u001b[0m\u001b[0m_reader\u001b[0m\u001b[0;34m.\u001b[0m\u001b[0munnamed_cols\u001b[0m\u001b[0;34m\u001b[0m\u001b[0;34m\u001b[0m\u001b[0m\n\u001b[1;32m   1855\u001b[0m \u001b[0;34m\u001b[0m\u001b[0m\n",
      "\u001b[0;32mpandas/_libs/parsers.pyx\u001b[0m in \u001b[0;36mpandas._libs.parsers.TextReader.__cinit__\u001b[0;34m()\u001b[0m\n",
      "\u001b[0;32mpandas/_libs/parsers.pyx\u001b[0m in \u001b[0;36mpandas._libs.parsers.TextReader._setup_parser_source\u001b[0;34m()\u001b[0m\n",
      "\u001b[0;31mFileNotFoundError\u001b[0m: [Errno 2] File b'/eos/user/a/atishelm/www/Yields-SR.txt' does not exist: b'/eos/user/a/atishelm/www/Yields-SR.txt'"
     ]
    }
   ],
   "source": [
    "SR = pd.read_csv(SR_Yields, sep=' ')\n",
    "SB = pd.read_csv(SB_Yields, sep=' ')"
   ]
  },
  {
   "cell_type": "code",
   "execution_count": 100,
   "metadata": {},
   "outputs": [],
   "source": [
    "indexVals = SB.index.values\n",
    "labels = list(indexVals)\n",
    "unweighted = (SB['unweighted'] + SR['unweighted']).tolist()\n",
    "weighted = (SB['weighted'] + SR['weighted']).tolist()"
   ]
  },
  {
   "cell_type": "code",
   "execution_count": 102,
   "metadata": {},
   "outputs": [
    {
     "name": "stdout",
     "output_type": "stream",
     "text": [
      "['DiPhoJetsBox\\\\_MGG-80toInf', 'GJet\\\\_40toInf', 'ggh\\\\_125', 'TTGG\\\\_0Jets', 'TTGJets', 'TTJets', 'vbf\\\\_125', 'wzh\\\\_125', 'W1Jets\\\\_pT\\\\_150-250', 'W1Jets\\\\_pT\\\\_250-400', 'W1Jets\\\\_pT\\\\_400-inf', 'W1Jets\\\\_pT\\\\_50-150', 'W2Jets\\\\_pT\\\\_150-250', 'W2Jets\\\\_pT\\\\_250-400', 'W2Jets\\\\_pT\\\\_400-inf', 'W2Jets\\\\_pT\\\\_50-150', 'WGGJets', 'WGJJToLNu\\\\_EWK\\\\_QCD', 'ttHJetToGG', 'ttWJets']\n",
      "[16772, 1361, 1366, 25248, 9362, 1894, 2306, 28118, 3388, 760, 400, 127, 4507, 2043, 1297, 211, 845, 315, 52174, 626]\n",
      "[542.4641300000001, 530.6940500000001, 2.55556, 10.98469, 154.66837, 291.55736, 0.37118999999999996, 10.05427, 48.724759999999996, 5.61195, 2.27721, 138.22915, 85.45790000000001, 11.924700000000001, 3.17644, 192.66013999999998, 122.93366999999998, 57.67246, 5.90222, 1.04804]\n",
      "20\n",
      "20\n",
      "20\n"
     ]
    }
   ],
   "source": [
    "print(labels)\n",
    "print(unweighted)\n",
    "print(weighted)\n",
    "\n",
    "print(len(labels))\n",
    "print(len(unweighted))\n",
    "print(len(weighted))"
   ]
  },
  {
   "cell_type": "code",
   "execution_count": 112,
   "metadata": {},
   "outputs": [],
   "source": [
    "out = \"\"\"\n",
    "\\\\begin{table}[H]\n",
    "        \\\\begin{center}\n",
    "                \\\\begin{tabular}{c|c|c}\n",
    "                        MC Sample & Unweighted & Weighted \\\\ \\hline \n",
    "                        \n",
    "\"\"\"\n",
    "\n",
    "for i in range(0,len(labels)):\n",
    "    name, Unweighted, Weighted = labels[i], int(unweighted[i]), round(weighted[i],5)\n",
    "    row = \"%s & %s & %s \\\\\\ \\n\"%(name,Unweighted,Weighted)\n",
    "    out += row\n",
    "out += \"\"\"\n",
    "                \\end{tabular}\n",
    "        \\caption{Unweighted and weighted training MC yields}\n",
    "        \\end{center}\n",
    "\\end{table}\n",
    "\"\"\""
   ]
  },
  {
   "cell_type": "code",
   "execution_count": 114,
   "metadata": {},
   "outputs": [
    {
     "name": "stdout",
     "output_type": "stream",
     "text": [
      "\n",
      "\\begin{table}[H]\n",
      "        \\begin{center}\n",
      "                \\begin{tabular}{c|c|c}\n",
      "                        MC Sample & Unweighted & Weighted \\ \\hline \n",
      "                        \n",
      "DiPhoJetsBox\\_MGG-80toInf & 16772 & 542.46413 \\\\ \n",
      "GJet\\_40toInf & 1361 & 530.69405 \\\\ \n",
      "ggh\\_125 & 1366 & 2.55556 \\\\ \n",
      "TTGG\\_0Jets & 25248 & 10.98469 \\\\ \n",
      "TTGJets & 9362 & 154.66837 \\\\ \n",
      "TTJets & 1894 & 291.55736 \\\\ \n",
      "vbf\\_125 & 2306 & 0.37119 \\\\ \n",
      "wzh\\_125 & 28118 & 10.05427 \\\\ \n",
      "W1Jets\\_pT\\_150-250 & 3388 & 48.72476 \\\\ \n",
      "W1Jets\\_pT\\_250-400 & 760 & 5.61195 \\\\ \n",
      "W1Jets\\_pT\\_400-inf & 400 & 2.27721 \\\\ \n",
      "W1Jets\\_pT\\_50-150 & 127 & 138.22915 \\\\ \n",
      "W2Jets\\_pT\\_150-250 & 4507 & 85.4579 \\\\ \n",
      "W2Jets\\_pT\\_250-400 & 2043 & 11.9247 \\\\ \n",
      "W2Jets\\_pT\\_400-inf & 1297 & 3.17644 \\\\ \n",
      "W2Jets\\_pT\\_50-150 & 211 & 192.66014 \\\\ \n",
      "WGGJets & 845 & 122.93367 \\\\ \n",
      "WGJJToLNu\\_EWK\\_QCD & 315 & 57.67246 \\\\ \n",
      "ttHJetToGG & 52174 & 5.90222 \\\\ \n",
      "ttWJets & 626 & 1.04804 \\\\ \n",
      "\n",
      "                \\end{tabular}\n",
      "        \\caption{Unweighted and weighted training MC yields}\n",
      "        \\end{center}\n",
      "\\end{table}\n",
      "\n"
     ]
    }
   ],
   "source": [
    "print(out)"
   ]
  },
  {
   "cell_type": "code",
   "execution_count": null,
   "metadata": {},
   "outputs": [],
   "source": [
    "out = \"\"\"\n",
    "\\begin{table}[H]\n",
    "        \\begin{center}\n",
    "                \\begin{tabular}{c|c|c}\n",
    "                        MC Sample & Unweighted & Weighted \\\\ \\hline \n",
    "                         DiPhoJetsBox\\_MGG-80toInf & 5095 & 171.41427 \\\\ \n",
    "                         GJet\\_40toInf & 426 & 164.47418 \\\\ \n",
    "                         ggh\\_125 & 1337 & 2.53701 \\\\ \n",
    "                         TTGG\\_0Jets & 7231 & 3.04219 \\\\ \n",
    "                         TTGJets & 2767 & 46.61467 \\\\ \n",
    "                         TTJets & 577 & 90.68631 \\\\ \n",
    "                         vbf\\_125 & 2254 & 0.361 \\\\ \n",
    "                         wzh\\_125 & 27675 & 9.90971 \\\\ \n",
    "                         W1Jets\\_pT\\_150-250 & 1009 & 14.62251 \\\\ \n",
    "                         W1Jets\\_pT\\_250-400 & 192 & 1.34454 \\\\ \n",
    "                         W1Jets\\_pT\\_400-inf & 98 & 0.51194 \\\\ \n",
    "                         W1Jets\\_pT\\_50-150 & 39 & 47.49732 \\\\ \n",
    "                         W2Jets\\_pT\\_150-250 & 1376 & 27.25607 \\\\ \n",
    "                         W2Jets\\_pT\\_250-400 & 551 & 2.71859 \\\\ \n",
    "                         W2Jets\\_pT\\_400-inf & 354 & 0.92984 \\\\ \n",
    "                         W2Jets\\_pT\\_50-150 & 55 & 44.80306 \\\\ \n",
    "                         WGGJets & 234 & 32.16065 \\\\ \n",
    "                         WGJJToLNu\\_EWK\\_QCD & 89 & 16.02546 \\\\ \n",
    "                         ttHJetToGG & 51145 & 5.79258 \\\\ \n",
    "                         ttWJets & 203 & 0.34123 \\\\ \n",
    "                \\end{tabular}\n",
    "        \\caption{Unweighted and weighted training MC yields}\n",
    "        \\end{center}\n",
    "\\end{table}\n",
    "\"\"\""
   ]
  }
 ],
 "metadata": {
  "kernelspec": {
   "display_name": "Python 3",
   "language": "python",
   "name": "python3"
  },
  "language_info": {
   "codemirror_mode": {
    "name": "ipython",
    "version": 3
   },
   "file_extension": ".py",
   "mimetype": "text/x-python",
   "name": "python",
   "nbconvert_exporter": "python",
   "pygments_lexer": "ipython3",
   "version": "3.9.6"
  }
 },
 "nbformat": 4,
 "nbformat_minor": 2
}
