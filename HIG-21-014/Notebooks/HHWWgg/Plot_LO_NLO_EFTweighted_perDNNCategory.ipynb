{
 "cells": [
  {
   "cell_type": "code",
   "execution_count": 1,
   "id": "parallel-trademark",
   "metadata": {},
   "outputs": [],
   "source": [
    "import uproot "
   ]
  },
  {
   "cell_type": "code",
   "execution_count": 2,
   "id": "legislative-clearance",
   "metadata": {},
   "outputs": [],
   "source": [
    "direc_16 = \"/eos/user/a/atishelm/ntuples/HHWWgg_flashgg/January_2021_Production/2016/HHWWyyDNN_binary_EFT_noHgg_noNegWeights_BalanceYields_allBkgs_LOSignals_noPtOverM_withKinWeight_weightSel/\" #Signal_*_2016_all_CategorizedTrees.root\"\n",
    "direc_17 = \"/eos/user/a/atishelm/ntuples/HHWWgg_flashgg/January_2021_Production/2017/HHWWyyDNN_binary_EFT_noHgg_noNegWeights_BalanceYields_allBkgs_LOSignals_noPtOverM_withKinWeight_weightSel/\" #Signal_*_2016_all_CategorizedTrees.root\"\n",
    "direc_18 = \"/eos/user/a/atishelm/ntuples/HHWWgg_flashgg/January_2021_Production/2018/HHWWyyDNN_binary_EFT_noHgg_noNegWeights_BalanceYields_allBkgs_LOSignals_noPtOverM_withKinWeight_weightSel/\" #Signal_*_2016_all_CategorizedTrees.root\"\n"
   ]
  },
  {
   "cell_type": "code",
   "execution_count": 3,
   "id": "severe-musician",
   "metadata": {},
   "outputs": [],
   "source": [
    "f_r = \"%s/Signal_1_2016_all_CategorizedTrees.root\"%(direc_16)\n",
    "f = uproot.open(f_r)"
   ]
  },
  {
   "cell_type": "code",
   "execution_count": 5,
   "id": "governmental-contrary",
   "metadata": {},
   "outputs": [],
   "source": [
    "cat_0_t = f['GluGluToHHTo2G2Qlnu_node_1_13TeV_HHWWggTag_SL_0']"
   ]
  },
  {
   "cell_type": "code",
   "execution_count": 6,
   "id": "vanilla-baking",
   "metadata": {},
   "outputs": [],
   "source": [
    "weights = cat_0_t['weight_NLO_SM'].array()"
   ]
  },
  {
   "cell_type": "code",
   "execution_count": 7,
   "id": "crazy-adams",
   "metadata": {},
   "outputs": [
    {
     "data": {
      "text/plain": [
       "array([1.1080183, 1.3979076, 1.2491288, ..., 1.2491288, 0.5500337,\n",
       "       1.2132831], dtype=float32)"
      ]
     },
     "execution_count": 7,
     "metadata": {},
     "output_type": "execute_result"
    }
   ],
   "source": []
  },
  {
   "cell_type": "code",
   "execution_count": null,
   "id": "major-election",
   "metadata": {},
   "outputs": [],
   "source": []
  }
 ],
 "metadata": {
  "kernelspec": {
   "display_name": "Python 3",
   "language": "python",
   "name": "python3"
  },
  "language_info": {
   "codemirror_mode": {
    "name": "ipython",
    "version": 3
   },
   "file_extension": ".py",
   "mimetype": "text/x-python",
   "name": "python",
   "nbconvert_exporter": "python",
   "pygments_lexer": "ipython3",
   "version": "3.8.6"
  }
 },
 "nbformat": 4,
 "nbformat_minor": 5
}
