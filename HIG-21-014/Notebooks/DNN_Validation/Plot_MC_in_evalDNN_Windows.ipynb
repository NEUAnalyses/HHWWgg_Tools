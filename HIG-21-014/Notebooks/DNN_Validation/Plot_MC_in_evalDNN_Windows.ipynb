{
 "cells": [
  {
   "cell_type": "code",
   "execution_count": 10,
   "id": "smooth-wallace",
   "metadata": {},
   "outputs": [],
   "source": [
    "import os \n",
    "import uproot \n",
    "from matplotlib import pyplot as plt \n",
    "import numpy as np \n",
    "import awkward as ak"
   ]
  },
  {
   "cell_type": "code",
   "execution_count": 2,
   "id": "french-cover",
   "metadata": {},
   "outputs": [],
   "source": [
    "d = \"/eos/user/a/atishelm/ntuples/HHWWgg_DNN/MultiClassifier/HHWWyyDNN_SL_MultiClass_WithMETFix_12LOHH_500epochs_BalanceYields/\"\n",
    "file_string = \".root\""
   ]
  },
  {
   "cell_type": "code",
   "execution_count": 3,
   "id": "surrounded-survey",
   "metadata": {},
   "outputs": [],
   "source": [
    "files = [\"%s/%s\"%(d, f) for f in os.listdir(d) if file_string in f]"
   ]
  },
  {
   "cell_type": "code",
   "execution_count": 4,
   "id": "closing-appraisal",
   "metadata": {},
   "outputs": [
    {
     "name": "stdout",
     "output_type": "stream",
     "text": [
      "f: /eos/user/a/atishelm/ntuples/HHWWgg_DNN/MultiClassifier/HHWWyyDNN_SL_MultiClass_WithMETFix_12LOHH_500epochs_BalanceYields//Data_2016_HHWWggTag_0_MoreVars_v2.root\n",
      "f: /eos/user/a/atishelm/ntuples/HHWWgg_DNN/MultiClassifier/HHWWyyDNN_SL_MultiClass_WithMETFix_12LOHH_500epochs_BalanceYields//Data_2017_HHWWggTag_0_MoreVars_v2.root\n",
      "f: /eos/user/a/atishelm/ntuples/HHWWgg_DNN/MultiClassifier/HHWWyyDNN_SL_MultiClass_WithMETFix_12LOHH_500epochs_BalanceYields//Data_2018_HHWWggTag_0_MoreVars_v2.root\n"
     ]
    }
   ],
   "source": [
    "# print(files)\n",
    "# len(files)\n",
    "for f in files:\n",
    "    if \"Data\" in f:\n",
    "        print(\"f:\",f)"
   ]
  },
  {
   "cell_type": "code",
   "execution_count": 5,
   "id": "d2bacdaf",
   "metadata": {},
   "outputs": [],
   "source": [
    "def hist_bin_uncertainty(data, weights, bin_edges):\n",
    "    \"\"\"\n",
    "    The statistical uncertainity per bin of the binned data.\n",
    "    If there are weights then the uncertainity will be the root of the\n",
    "    sum of the weights squared.\n",
    "    If there are no weights (weights = 1) this reduces to the root of\n",
    "    the number of events.\n",
    "\n",
    "    Args:\n",
    "        data: `array`, the data being histogrammed.\n",
    "        weights: `array`, the associated weights of the `data`.\n",
    "        bin_edges: `array`, the edges of the bins of the histogram.\n",
    "\n",
    "    Returns:\n",
    "        bin_uncertainties: `array`, the statistical uncertainity on the bins.\n",
    "\n",
    "    Example:\n",
    "    >>> x = np.array([2,9,4,8])\n",
    "    >>> w = np.array([0.1,0.2,0.3,0.4])\n",
    "    >>> edges = [0,5,10]\n",
    "    >>> hist_bin_uncertainty(x, w, edges)\n",
    "    array([ 0.31622777,  0.4472136 ])\n",
    "    >>> hist_bin_uncertainty(x, None, edges)\n",
    "    array([ 1.41421356,  1.41421356])\n",
    "    >>> hist_bin_uncertainty(x, np.ones(len(x)), edges)\n",
    "    array([ 1.41421356,  1.41421356])\n",
    "    \"\"\"\n",
    "    # Bound the data and weights to be within the bin edges\n",
    "    in_range_index = [idx for idx in range(len(data))\n",
    "                      if data[idx] > min(bin_edges) and data[idx] < max(bin_edges)]\n",
    "    in_range_data = np.asarray([data[idx] for idx in in_range_index])\n",
    "\n",
    "    if weights is None or np.array_equal(weights, np.ones(len(weights))):\n",
    "        # Default to weights of 1 and thus uncertainty = sqrt(N)\n",
    "        in_range_weights = np.ones(len(in_range_data))\n",
    "    else:\n",
    "        in_range_weights = np.asarray([weights[idx] for idx in in_range_index])\n",
    "\n",
    "    # Bin the weights with the same binning as the data\n",
    "    bin_index = np.digitize(in_range_data, bin_edges)\n",
    "    # N.B.: range(1, bin_edges.size) is used instead of set(bin_index) as if\n",
    "    # there is a gap in the data such that a bin is skipped no index would appear\n",
    "    # for it in the set\n",
    "    binned_weights = np.asarray(\n",
    "        [in_range_weights[np.where(bin_index == idx)[0]] for idx in range(1, len(bin_edges))])\n",
    "    bin_uncertainties = np.asarray(\n",
    "        [np.sqrt(np.sum(np.square(w))) for w in binned_weights])\n",
    "    return bin_uncertainties"
   ]
  },
  {
   "cell_type": "code",
   "execution_count": 13,
   "id": "medieval-payday",
   "metadata": {
    "scrolled": true
   },
   "outputs": [
    {
     "name": "stdout",
     "output_type": "stream",
     "text": [
      "DNNcut: 0.0\n"
     ]
    },
    {
     "name": "stderr",
     "output_type": "stream",
     "text": [
      "/tmp/ipykernel_601/1731418912.py:159: FutureWarning: Using a non-tuple sequence for multidimensional indexing is deprecated; use `arr[tuple(seq)]` instead of `arr[seq]`. In the future this will be interpreted as an array index, `arr[np.array(seq)]`, which will result either in an error or a different result.\n",
      "  CMS_hgg_mass = CMS_hgg_mass[FIDUCIAL_CUT]\n",
      "/tmp/ipykernel_601/1731418912.py:160: FutureWarning: Using a non-tuple sequence for multidimensional indexing is deprecated; use `arr[tuple(seq)]` instead of `arr[seq]`. In the future this will be interpreted as an array index, `arr[np.array(seq)]`, which will result either in an error or a different result.\n",
      "  weightKinWeight = weightKinWeight[FIDUCIAL_CUT]\n",
      "/tmp/ipykernel_601/1731418912.py:161: FutureWarning: Using a non-tuple sequence for multidimensional indexing is deprecated; use `arr[tuple(seq)]` instead of `arr[seq]`. In the future this will be interpreted as an array index, `arr[np.array(seq)]`, which will result either in an error or a different result.\n",
      "  evalDNN_HH = evalDNN_HH[FIDUCIAL_CUT]\n",
      "/tmp/ipykernel_601/1731418912.py:168: FutureWarning: Using a non-tuple sequence for multidimensional indexing is deprecated; use `arr[tuple(seq)]` instead of `arr[seq]`. In the future this will be interpreted as an array index, `arr[np.array(seq)]`, which will result either in an error or a different result.\n",
      "  CMS_hgg_mass = CMS_hgg_mass[DNN_CUT_MASK]\n",
      "/tmp/ipykernel_601/1731418912.py:169: FutureWarning: Using a non-tuple sequence for multidimensional indexing is deprecated; use `arr[tuple(seq)]` instead of `arr[seq]`. In the future this will be interpreted as an array index, `arr[np.array(seq)]`, which will result either in an error or a different result.\n",
      "  weightKinWeight = weightKinWeight[DNN_CUT_MASK]\n"
     ]
    },
    {
     "name": "stdout",
     "output_type": "stream",
     "text": [
      "on file 30 / 52\n",
      "on file 40 / 52\n"
     ]
    },
    {
     "name": "stderr",
     "output_type": "stream",
     "text": [
      "/tmp/ipykernel_601/3757062521.py:44: VisibleDeprecationWarning: Creating an ndarray from ragged nested sequences (which is a list-or-tuple of lists-or-tuples-or ndarrays with different lengths or shapes) is deprecated. If you meant to do this, you must specify 'dtype=object' when creating the ndarray.\n",
      "  binned_weights = np.asarray(\n"
     ]
    },
    {
     "name": "stdout",
     "output_type": "stream",
     "text": [
      "DNNcut: 0.05\n"
     ]
    },
    {
     "name": "stderr",
     "output_type": "stream",
     "text": [
      "/tmp/ipykernel_601/1731418912.py:159: FutureWarning: Using a non-tuple sequence for multidimensional indexing is deprecated; use `arr[tuple(seq)]` instead of `arr[seq]`. In the future this will be interpreted as an array index, `arr[np.array(seq)]`, which will result either in an error or a different result.\n",
      "  CMS_hgg_mass = CMS_hgg_mass[FIDUCIAL_CUT]\n",
      "/tmp/ipykernel_601/1731418912.py:160: FutureWarning: Using a non-tuple sequence for multidimensional indexing is deprecated; use `arr[tuple(seq)]` instead of `arr[seq]`. In the future this will be interpreted as an array index, `arr[np.array(seq)]`, which will result either in an error or a different result.\n",
      "  weightKinWeight = weightKinWeight[FIDUCIAL_CUT]\n",
      "/tmp/ipykernel_601/1731418912.py:161: FutureWarning: Using a non-tuple sequence for multidimensional indexing is deprecated; use `arr[tuple(seq)]` instead of `arr[seq]`. In the future this will be interpreted as an array index, `arr[np.array(seq)]`, which will result either in an error or a different result.\n",
      "  evalDNN_HH = evalDNN_HH[FIDUCIAL_CUT]\n",
      "/tmp/ipykernel_601/1731418912.py:168: FutureWarning: Using a non-tuple sequence for multidimensional indexing is deprecated; use `arr[tuple(seq)]` instead of `arr[seq]`. In the future this will be interpreted as an array index, `arr[np.array(seq)]`, which will result either in an error or a different result.\n",
      "  CMS_hgg_mass = CMS_hgg_mass[DNN_CUT_MASK]\n",
      "/tmp/ipykernel_601/1731418912.py:169: FutureWarning: Using a non-tuple sequence for multidimensional indexing is deprecated; use `arr[tuple(seq)]` instead of `arr[seq]`. In the future this will be interpreted as an array index, `arr[np.array(seq)]`, which will result either in an error or a different result.\n",
      "  weightKinWeight = weightKinWeight[DNN_CUT_MASK]\n"
     ]
    },
    {
     "name": "stdout",
     "output_type": "stream",
     "text": [
      "on file 30 / 52\n",
      "on file 40 / 52\n"
     ]
    },
    {
     "name": "stderr",
     "output_type": "stream",
     "text": [
      "/tmp/ipykernel_601/3757062521.py:44: VisibleDeprecationWarning: Creating an ndarray from ragged nested sequences (which is a list-or-tuple of lists-or-tuples-or ndarrays with different lengths or shapes) is deprecated. If you meant to do this, you must specify 'dtype=object' when creating the ndarray.\n",
      "  binned_weights = np.asarray(\n"
     ]
    },
    {
     "name": "stdout",
     "output_type": "stream",
     "text": [
      "DNNcut: 0.1\n"
     ]
    },
    {
     "name": "stderr",
     "output_type": "stream",
     "text": [
      "/tmp/ipykernel_601/1731418912.py:159: FutureWarning: Using a non-tuple sequence for multidimensional indexing is deprecated; use `arr[tuple(seq)]` instead of `arr[seq]`. In the future this will be interpreted as an array index, `arr[np.array(seq)]`, which will result either in an error or a different result.\n",
      "  CMS_hgg_mass = CMS_hgg_mass[FIDUCIAL_CUT]\n",
      "/tmp/ipykernel_601/1731418912.py:160: FutureWarning: Using a non-tuple sequence for multidimensional indexing is deprecated; use `arr[tuple(seq)]` instead of `arr[seq]`. In the future this will be interpreted as an array index, `arr[np.array(seq)]`, which will result either in an error or a different result.\n",
      "  weightKinWeight = weightKinWeight[FIDUCIAL_CUT]\n",
      "/tmp/ipykernel_601/1731418912.py:161: FutureWarning: Using a non-tuple sequence for multidimensional indexing is deprecated; use `arr[tuple(seq)]` instead of `arr[seq]`. In the future this will be interpreted as an array index, `arr[np.array(seq)]`, which will result either in an error or a different result.\n",
      "  evalDNN_HH = evalDNN_HH[FIDUCIAL_CUT]\n",
      "/tmp/ipykernel_601/1731418912.py:168: FutureWarning: Using a non-tuple sequence for multidimensional indexing is deprecated; use `arr[tuple(seq)]` instead of `arr[seq]`. In the future this will be interpreted as an array index, `arr[np.array(seq)]`, which will result either in an error or a different result.\n",
      "  CMS_hgg_mass = CMS_hgg_mass[DNN_CUT_MASK]\n",
      "/tmp/ipykernel_601/1731418912.py:169: FutureWarning: Using a non-tuple sequence for multidimensional indexing is deprecated; use `arr[tuple(seq)]` instead of `arr[seq]`. In the future this will be interpreted as an array index, `arr[np.array(seq)]`, which will result either in an error or a different result.\n",
      "  weightKinWeight = weightKinWeight[DNN_CUT_MASK]\n"
     ]
    },
    {
     "name": "stdout",
     "output_type": "stream",
     "text": [
      "on file 30 / 52\n",
      "on file 40 / 52\n"
     ]
    },
    {
     "name": "stderr",
     "output_type": "stream",
     "text": [
      "/tmp/ipykernel_601/3757062521.py:44: VisibleDeprecationWarning: Creating an ndarray from ragged nested sequences (which is a list-or-tuple of lists-or-tuples-or ndarrays with different lengths or shapes) is deprecated. If you meant to do this, you must specify 'dtype=object' when creating the ndarray.\n",
      "  binned_weights = np.asarray(\n"
     ]
    },
    {
     "name": "stdout",
     "output_type": "stream",
     "text": [
      "DNNcut: 0.15\n"
     ]
    },
    {
     "name": "stderr",
     "output_type": "stream",
     "text": [
      "/tmp/ipykernel_601/1731418912.py:159: FutureWarning: Using a non-tuple sequence for multidimensional indexing is deprecated; use `arr[tuple(seq)]` instead of `arr[seq]`. In the future this will be interpreted as an array index, `arr[np.array(seq)]`, which will result either in an error or a different result.\n",
      "  CMS_hgg_mass = CMS_hgg_mass[FIDUCIAL_CUT]\n",
      "/tmp/ipykernel_601/1731418912.py:160: FutureWarning: Using a non-tuple sequence for multidimensional indexing is deprecated; use `arr[tuple(seq)]` instead of `arr[seq]`. In the future this will be interpreted as an array index, `arr[np.array(seq)]`, which will result either in an error or a different result.\n",
      "  weightKinWeight = weightKinWeight[FIDUCIAL_CUT]\n",
      "/tmp/ipykernel_601/1731418912.py:161: FutureWarning: Using a non-tuple sequence for multidimensional indexing is deprecated; use `arr[tuple(seq)]` instead of `arr[seq]`. In the future this will be interpreted as an array index, `arr[np.array(seq)]`, which will result either in an error or a different result.\n",
      "  evalDNN_HH = evalDNN_HH[FIDUCIAL_CUT]\n",
      "/tmp/ipykernel_601/1731418912.py:168: FutureWarning: Using a non-tuple sequence for multidimensional indexing is deprecated; use `arr[tuple(seq)]` instead of `arr[seq]`. In the future this will be interpreted as an array index, `arr[np.array(seq)]`, which will result either in an error or a different result.\n",
      "  CMS_hgg_mass = CMS_hgg_mass[DNN_CUT_MASK]\n",
      "/tmp/ipykernel_601/1731418912.py:169: FutureWarning: Using a non-tuple sequence for multidimensional indexing is deprecated; use `arr[tuple(seq)]` instead of `arr[seq]`. In the future this will be interpreted as an array index, `arr[np.array(seq)]`, which will result either in an error or a different result.\n",
      "  weightKinWeight = weightKinWeight[DNN_CUT_MASK]\n"
     ]
    },
    {
     "name": "stdout",
     "output_type": "stream",
     "text": [
      "on file 30 / 52\n",
      "on file 40 / 52\n"
     ]
    },
    {
     "name": "stderr",
     "output_type": "stream",
     "text": [
      "/tmp/ipykernel_601/3757062521.py:44: VisibleDeprecationWarning: Creating an ndarray from ragged nested sequences (which is a list-or-tuple of lists-or-tuples-or ndarrays with different lengths or shapes) is deprecated. If you meant to do this, you must specify 'dtype=object' when creating the ndarray.\n",
      "  binned_weights = np.asarray(\n"
     ]
    },
    {
     "name": "stdout",
     "output_type": "stream",
     "text": [
      "DNNcut: 0.2\n"
     ]
    },
    {
     "name": "stderr",
     "output_type": "stream",
     "text": [
      "/tmp/ipykernel_601/1731418912.py:159: FutureWarning: Using a non-tuple sequence for multidimensional indexing is deprecated; use `arr[tuple(seq)]` instead of `arr[seq]`. In the future this will be interpreted as an array index, `arr[np.array(seq)]`, which will result either in an error or a different result.\n",
      "  CMS_hgg_mass = CMS_hgg_mass[FIDUCIAL_CUT]\n",
      "/tmp/ipykernel_601/1731418912.py:160: FutureWarning: Using a non-tuple sequence for multidimensional indexing is deprecated; use `arr[tuple(seq)]` instead of `arr[seq]`. In the future this will be interpreted as an array index, `arr[np.array(seq)]`, which will result either in an error or a different result.\n",
      "  weightKinWeight = weightKinWeight[FIDUCIAL_CUT]\n",
      "/tmp/ipykernel_601/1731418912.py:161: FutureWarning: Using a non-tuple sequence for multidimensional indexing is deprecated; use `arr[tuple(seq)]` instead of `arr[seq]`. In the future this will be interpreted as an array index, `arr[np.array(seq)]`, which will result either in an error or a different result.\n",
      "  evalDNN_HH = evalDNN_HH[FIDUCIAL_CUT]\n",
      "/tmp/ipykernel_601/1731418912.py:168: FutureWarning: Using a non-tuple sequence for multidimensional indexing is deprecated; use `arr[tuple(seq)]` instead of `arr[seq]`. In the future this will be interpreted as an array index, `arr[np.array(seq)]`, which will result either in an error or a different result.\n",
      "  CMS_hgg_mass = CMS_hgg_mass[DNN_CUT_MASK]\n",
      "/tmp/ipykernel_601/1731418912.py:169: FutureWarning: Using a non-tuple sequence for multidimensional indexing is deprecated; use `arr[tuple(seq)]` instead of `arr[seq]`. In the future this will be interpreted as an array index, `arr[np.array(seq)]`, which will result either in an error or a different result.\n",
      "  weightKinWeight = weightKinWeight[DNN_CUT_MASK]\n"
     ]
    },
    {
     "name": "stdout",
     "output_type": "stream",
     "text": [
      "on file 30 / 52\n",
      "on file 40 / 52\n"
     ]
    },
    {
     "name": "stderr",
     "output_type": "stream",
     "text": [
      "/tmp/ipykernel_601/3757062521.py:44: VisibleDeprecationWarning: Creating an ndarray from ragged nested sequences (which is a list-or-tuple of lists-or-tuples-or ndarrays with different lengths or shapes) is deprecated. If you meant to do this, you must specify 'dtype=object' when creating the ndarray.\n",
      "  binned_weights = np.asarray(\n"
     ]
    },
    {
     "name": "stdout",
     "output_type": "stream",
     "text": [
      "DNNcut: 0.25\n"
     ]
    },
    {
     "name": "stderr",
     "output_type": "stream",
     "text": [
      "/tmp/ipykernel_601/1731418912.py:159: FutureWarning: Using a non-tuple sequence for multidimensional indexing is deprecated; use `arr[tuple(seq)]` instead of `arr[seq]`. In the future this will be interpreted as an array index, `arr[np.array(seq)]`, which will result either in an error or a different result.\n",
      "  CMS_hgg_mass = CMS_hgg_mass[FIDUCIAL_CUT]\n",
      "/tmp/ipykernel_601/1731418912.py:160: FutureWarning: Using a non-tuple sequence for multidimensional indexing is deprecated; use `arr[tuple(seq)]` instead of `arr[seq]`. In the future this will be interpreted as an array index, `arr[np.array(seq)]`, which will result either in an error or a different result.\n",
      "  weightKinWeight = weightKinWeight[FIDUCIAL_CUT]\n",
      "/tmp/ipykernel_601/1731418912.py:161: FutureWarning: Using a non-tuple sequence for multidimensional indexing is deprecated; use `arr[tuple(seq)]` instead of `arr[seq]`. In the future this will be interpreted as an array index, `arr[np.array(seq)]`, which will result either in an error or a different result.\n",
      "  evalDNN_HH = evalDNN_HH[FIDUCIAL_CUT]\n",
      "/tmp/ipykernel_601/1731418912.py:168: FutureWarning: Using a non-tuple sequence for multidimensional indexing is deprecated; use `arr[tuple(seq)]` instead of `arr[seq]`. In the future this will be interpreted as an array index, `arr[np.array(seq)]`, which will result either in an error or a different result.\n",
      "  CMS_hgg_mass = CMS_hgg_mass[DNN_CUT_MASK]\n",
      "/tmp/ipykernel_601/1731418912.py:169: FutureWarning: Using a non-tuple sequence for multidimensional indexing is deprecated; use `arr[tuple(seq)]` instead of `arr[seq]`. In the future this will be interpreted as an array index, `arr[np.array(seq)]`, which will result either in an error or a different result.\n",
      "  weightKinWeight = weightKinWeight[DNN_CUT_MASK]\n"
     ]
    },
    {
     "name": "stdout",
     "output_type": "stream",
     "text": [
      "on file 30 / 52\n",
      "on file 40 / 52\n"
     ]
    },
    {
     "name": "stderr",
     "output_type": "stream",
     "text": [
      "/tmp/ipykernel_601/3757062521.py:44: VisibleDeprecationWarning: Creating an ndarray from ragged nested sequences (which is a list-or-tuple of lists-or-tuples-or ndarrays with different lengths or shapes) is deprecated. If you meant to do this, you must specify 'dtype=object' when creating the ndarray.\n",
      "  binned_weights = np.asarray(\n"
     ]
    },
    {
     "name": "stdout",
     "output_type": "stream",
     "text": [
      "DNNcut: 0.3\n"
     ]
    },
    {
     "name": "stderr",
     "output_type": "stream",
     "text": [
      "/tmp/ipykernel_601/1731418912.py:159: FutureWarning: Using a non-tuple sequence for multidimensional indexing is deprecated; use `arr[tuple(seq)]` instead of `arr[seq]`. In the future this will be interpreted as an array index, `arr[np.array(seq)]`, which will result either in an error or a different result.\n",
      "  CMS_hgg_mass = CMS_hgg_mass[FIDUCIAL_CUT]\n",
      "/tmp/ipykernel_601/1731418912.py:160: FutureWarning: Using a non-tuple sequence for multidimensional indexing is deprecated; use `arr[tuple(seq)]` instead of `arr[seq]`. In the future this will be interpreted as an array index, `arr[np.array(seq)]`, which will result either in an error or a different result.\n",
      "  weightKinWeight = weightKinWeight[FIDUCIAL_CUT]\n",
      "/tmp/ipykernel_601/1731418912.py:161: FutureWarning: Using a non-tuple sequence for multidimensional indexing is deprecated; use `arr[tuple(seq)]` instead of `arr[seq]`. In the future this will be interpreted as an array index, `arr[np.array(seq)]`, which will result either in an error or a different result.\n",
      "  evalDNN_HH = evalDNN_HH[FIDUCIAL_CUT]\n",
      "/tmp/ipykernel_601/1731418912.py:168: FutureWarning: Using a non-tuple sequence for multidimensional indexing is deprecated; use `arr[tuple(seq)]` instead of `arr[seq]`. In the future this will be interpreted as an array index, `arr[np.array(seq)]`, which will result either in an error or a different result.\n",
      "  CMS_hgg_mass = CMS_hgg_mass[DNN_CUT_MASK]\n",
      "/tmp/ipykernel_601/1731418912.py:169: FutureWarning: Using a non-tuple sequence for multidimensional indexing is deprecated; use `arr[tuple(seq)]` instead of `arr[seq]`. In the future this will be interpreted as an array index, `arr[np.array(seq)]`, which will result either in an error or a different result.\n",
      "  weightKinWeight = weightKinWeight[DNN_CUT_MASK]\n"
     ]
    },
    {
     "name": "stdout",
     "output_type": "stream",
     "text": [
      "on file 30 / 52\n",
      "on file 40 / 52\n"
     ]
    },
    {
     "name": "stderr",
     "output_type": "stream",
     "text": [
      "/tmp/ipykernel_601/3757062521.py:44: VisibleDeprecationWarning: Creating an ndarray from ragged nested sequences (which is a list-or-tuple of lists-or-tuples-or ndarrays with different lengths or shapes) is deprecated. If you meant to do this, you must specify 'dtype=object' when creating the ndarray.\n",
      "  binned_weights = np.asarray(\n"
     ]
    },
    {
     "name": "stdout",
     "output_type": "stream",
     "text": [
      "DNNcut: 0.35\n"
     ]
    },
    {
     "name": "stderr",
     "output_type": "stream",
     "text": [
      "/tmp/ipykernel_601/1731418912.py:159: FutureWarning: Using a non-tuple sequence for multidimensional indexing is deprecated; use `arr[tuple(seq)]` instead of `arr[seq]`. In the future this will be interpreted as an array index, `arr[np.array(seq)]`, which will result either in an error or a different result.\n",
      "  CMS_hgg_mass = CMS_hgg_mass[FIDUCIAL_CUT]\n",
      "/tmp/ipykernel_601/1731418912.py:160: FutureWarning: Using a non-tuple sequence for multidimensional indexing is deprecated; use `arr[tuple(seq)]` instead of `arr[seq]`. In the future this will be interpreted as an array index, `arr[np.array(seq)]`, which will result either in an error or a different result.\n",
      "  weightKinWeight = weightKinWeight[FIDUCIAL_CUT]\n",
      "/tmp/ipykernel_601/1731418912.py:161: FutureWarning: Using a non-tuple sequence for multidimensional indexing is deprecated; use `arr[tuple(seq)]` instead of `arr[seq]`. In the future this will be interpreted as an array index, `arr[np.array(seq)]`, which will result either in an error or a different result.\n",
      "  evalDNN_HH = evalDNN_HH[FIDUCIAL_CUT]\n",
      "/tmp/ipykernel_601/1731418912.py:168: FutureWarning: Using a non-tuple sequence for multidimensional indexing is deprecated; use `arr[tuple(seq)]` instead of `arr[seq]`. In the future this will be interpreted as an array index, `arr[np.array(seq)]`, which will result either in an error or a different result.\n",
      "  CMS_hgg_mass = CMS_hgg_mass[DNN_CUT_MASK]\n",
      "/tmp/ipykernel_601/1731418912.py:169: FutureWarning: Using a non-tuple sequence for multidimensional indexing is deprecated; use `arr[tuple(seq)]` instead of `arr[seq]`. In the future this will be interpreted as an array index, `arr[np.array(seq)]`, which will result either in an error or a different result.\n",
      "  weightKinWeight = weightKinWeight[DNN_CUT_MASK]\n"
     ]
    },
    {
     "name": "stdout",
     "output_type": "stream",
     "text": [
      "on file 30 / 52\n",
      "on file 40 / 52\n"
     ]
    },
    {
     "name": "stderr",
     "output_type": "stream",
     "text": [
      "/tmp/ipykernel_601/3757062521.py:44: VisibleDeprecationWarning: Creating an ndarray from ragged nested sequences (which is a list-or-tuple of lists-or-tuples-or ndarrays with different lengths or shapes) is deprecated. If you meant to do this, you must specify 'dtype=object' when creating the ndarray.\n",
      "  binned_weights = np.asarray(\n"
     ]
    },
    {
     "name": "stdout",
     "output_type": "stream",
     "text": [
      "DNNcut: 0.4\n"
     ]
    },
    {
     "name": "stderr",
     "output_type": "stream",
     "text": [
      "/tmp/ipykernel_601/1731418912.py:159: FutureWarning: Using a non-tuple sequence for multidimensional indexing is deprecated; use `arr[tuple(seq)]` instead of `arr[seq]`. In the future this will be interpreted as an array index, `arr[np.array(seq)]`, which will result either in an error or a different result.\n",
      "  CMS_hgg_mass = CMS_hgg_mass[FIDUCIAL_CUT]\n",
      "/tmp/ipykernel_601/1731418912.py:160: FutureWarning: Using a non-tuple sequence for multidimensional indexing is deprecated; use `arr[tuple(seq)]` instead of `arr[seq]`. In the future this will be interpreted as an array index, `arr[np.array(seq)]`, which will result either in an error or a different result.\n",
      "  weightKinWeight = weightKinWeight[FIDUCIAL_CUT]\n",
      "/tmp/ipykernel_601/1731418912.py:161: FutureWarning: Using a non-tuple sequence for multidimensional indexing is deprecated; use `arr[tuple(seq)]` instead of `arr[seq]`. In the future this will be interpreted as an array index, `arr[np.array(seq)]`, which will result either in an error or a different result.\n",
      "  evalDNN_HH = evalDNN_HH[FIDUCIAL_CUT]\n",
      "/tmp/ipykernel_601/1731418912.py:168: FutureWarning: Using a non-tuple sequence for multidimensional indexing is deprecated; use `arr[tuple(seq)]` instead of `arr[seq]`. In the future this will be interpreted as an array index, `arr[np.array(seq)]`, which will result either in an error or a different result.\n",
      "  CMS_hgg_mass = CMS_hgg_mass[DNN_CUT_MASK]\n",
      "/tmp/ipykernel_601/1731418912.py:169: FutureWarning: Using a non-tuple sequence for multidimensional indexing is deprecated; use `arr[tuple(seq)]` instead of `arr[seq]`. In the future this will be interpreted as an array index, `arr[np.array(seq)]`, which will result either in an error or a different result.\n",
      "  weightKinWeight = weightKinWeight[DNN_CUT_MASK]\n"
     ]
    },
    {
     "name": "stdout",
     "output_type": "stream",
     "text": [
      "on file 30 / 52\n",
      "on file 40 / 52\n"
     ]
    },
    {
     "name": "stderr",
     "output_type": "stream",
     "text": [
      "/tmp/ipykernel_601/3757062521.py:44: VisibleDeprecationWarning: Creating an ndarray from ragged nested sequences (which is a list-or-tuple of lists-or-tuples-or ndarrays with different lengths or shapes) is deprecated. If you meant to do this, you must specify 'dtype=object' when creating the ndarray.\n",
      "  binned_weights = np.asarray(\n"
     ]
    },
    {
     "name": "stdout",
     "output_type": "stream",
     "text": [
      "DNNcut: 0.45\n"
     ]
    },
    {
     "name": "stderr",
     "output_type": "stream",
     "text": [
      "/tmp/ipykernel_601/1731418912.py:159: FutureWarning: Using a non-tuple sequence for multidimensional indexing is deprecated; use `arr[tuple(seq)]` instead of `arr[seq]`. In the future this will be interpreted as an array index, `arr[np.array(seq)]`, which will result either in an error or a different result.\n",
      "  CMS_hgg_mass = CMS_hgg_mass[FIDUCIAL_CUT]\n",
      "/tmp/ipykernel_601/1731418912.py:160: FutureWarning: Using a non-tuple sequence for multidimensional indexing is deprecated; use `arr[tuple(seq)]` instead of `arr[seq]`. In the future this will be interpreted as an array index, `arr[np.array(seq)]`, which will result either in an error or a different result.\n",
      "  weightKinWeight = weightKinWeight[FIDUCIAL_CUT]\n",
      "/tmp/ipykernel_601/1731418912.py:161: FutureWarning: Using a non-tuple sequence for multidimensional indexing is deprecated; use `arr[tuple(seq)]` instead of `arr[seq]`. In the future this will be interpreted as an array index, `arr[np.array(seq)]`, which will result either in an error or a different result.\n",
      "  evalDNN_HH = evalDNN_HH[FIDUCIAL_CUT]\n",
      "/tmp/ipykernel_601/1731418912.py:168: FutureWarning: Using a non-tuple sequence for multidimensional indexing is deprecated; use `arr[tuple(seq)]` instead of `arr[seq]`. In the future this will be interpreted as an array index, `arr[np.array(seq)]`, which will result either in an error or a different result.\n",
      "  CMS_hgg_mass = CMS_hgg_mass[DNN_CUT_MASK]\n",
      "/tmp/ipykernel_601/1731418912.py:169: FutureWarning: Using a non-tuple sequence for multidimensional indexing is deprecated; use `arr[tuple(seq)]` instead of `arr[seq]`. In the future this will be interpreted as an array index, `arr[np.array(seq)]`, which will result either in an error or a different result.\n",
      "  weightKinWeight = weightKinWeight[DNN_CUT_MASK]\n"
     ]
    },
    {
     "name": "stdout",
     "output_type": "stream",
     "text": [
      "on file 30 / 52\n",
      "on file 40 / 52\n"
     ]
    },
    {
     "name": "stderr",
     "output_type": "stream",
     "text": [
      "/tmp/ipykernel_601/3757062521.py:44: VisibleDeprecationWarning: Creating an ndarray from ragged nested sequences (which is a list-or-tuple of lists-or-tuples-or ndarrays with different lengths or shapes) is deprecated. If you meant to do this, you must specify 'dtype=object' when creating the ndarray.\n",
      "  binned_weights = np.asarray(\n"
     ]
    },
    {
     "name": "stdout",
     "output_type": "stream",
     "text": [
      "DNNcut: 0.5\n"
     ]
    },
    {
     "name": "stderr",
     "output_type": "stream",
     "text": [
      "/tmp/ipykernel_601/1731418912.py:159: FutureWarning: Using a non-tuple sequence for multidimensional indexing is deprecated; use `arr[tuple(seq)]` instead of `arr[seq]`. In the future this will be interpreted as an array index, `arr[np.array(seq)]`, which will result either in an error or a different result.\n",
      "  CMS_hgg_mass = CMS_hgg_mass[FIDUCIAL_CUT]\n",
      "/tmp/ipykernel_601/1731418912.py:160: FutureWarning: Using a non-tuple sequence for multidimensional indexing is deprecated; use `arr[tuple(seq)]` instead of `arr[seq]`. In the future this will be interpreted as an array index, `arr[np.array(seq)]`, which will result either in an error or a different result.\n",
      "  weightKinWeight = weightKinWeight[FIDUCIAL_CUT]\n",
      "/tmp/ipykernel_601/1731418912.py:161: FutureWarning: Using a non-tuple sequence for multidimensional indexing is deprecated; use `arr[tuple(seq)]` instead of `arr[seq]`. In the future this will be interpreted as an array index, `arr[np.array(seq)]`, which will result either in an error or a different result.\n",
      "  evalDNN_HH = evalDNN_HH[FIDUCIAL_CUT]\n",
      "/tmp/ipykernel_601/1731418912.py:168: FutureWarning: Using a non-tuple sequence for multidimensional indexing is deprecated; use `arr[tuple(seq)]` instead of `arr[seq]`. In the future this will be interpreted as an array index, `arr[np.array(seq)]`, which will result either in an error or a different result.\n",
      "  CMS_hgg_mass = CMS_hgg_mass[DNN_CUT_MASK]\n",
      "/tmp/ipykernel_601/1731418912.py:169: FutureWarning: Using a non-tuple sequence for multidimensional indexing is deprecated; use `arr[tuple(seq)]` instead of `arr[seq]`. In the future this will be interpreted as an array index, `arr[np.array(seq)]`, which will result either in an error or a different result.\n",
      "  weightKinWeight = weightKinWeight[DNN_CUT_MASK]\n"
     ]
    },
    {
     "name": "stdout",
     "output_type": "stream",
     "text": [
      "on file 30 / 52\n",
      "on file 40 / 52\n"
     ]
    },
    {
     "name": "stderr",
     "output_type": "stream",
     "text": [
      "/tmp/ipykernel_601/3757062521.py:44: VisibleDeprecationWarning: Creating an ndarray from ragged nested sequences (which is a list-or-tuple of lists-or-tuples-or ndarrays with different lengths or shapes) is deprecated. If you meant to do this, you must specify 'dtype=object' when creating the ndarray.\n",
      "  binned_weights = np.asarray(\n"
     ]
    },
    {
     "name": "stdout",
     "output_type": "stream",
     "text": [
      "DNNcut: 0.55\n"
     ]
    },
    {
     "name": "stderr",
     "output_type": "stream",
     "text": [
      "/tmp/ipykernel_601/1731418912.py:159: FutureWarning: Using a non-tuple sequence for multidimensional indexing is deprecated; use `arr[tuple(seq)]` instead of `arr[seq]`. In the future this will be interpreted as an array index, `arr[np.array(seq)]`, which will result either in an error or a different result.\n",
      "  CMS_hgg_mass = CMS_hgg_mass[FIDUCIAL_CUT]\n",
      "/tmp/ipykernel_601/1731418912.py:160: FutureWarning: Using a non-tuple sequence for multidimensional indexing is deprecated; use `arr[tuple(seq)]` instead of `arr[seq]`. In the future this will be interpreted as an array index, `arr[np.array(seq)]`, which will result either in an error or a different result.\n",
      "  weightKinWeight = weightKinWeight[FIDUCIAL_CUT]\n",
      "/tmp/ipykernel_601/1731418912.py:161: FutureWarning: Using a non-tuple sequence for multidimensional indexing is deprecated; use `arr[tuple(seq)]` instead of `arr[seq]`. In the future this will be interpreted as an array index, `arr[np.array(seq)]`, which will result either in an error or a different result.\n",
      "  evalDNN_HH = evalDNN_HH[FIDUCIAL_CUT]\n",
      "/tmp/ipykernel_601/1731418912.py:168: FutureWarning: Using a non-tuple sequence for multidimensional indexing is deprecated; use `arr[tuple(seq)]` instead of `arr[seq]`. In the future this will be interpreted as an array index, `arr[np.array(seq)]`, which will result either in an error or a different result.\n",
      "  CMS_hgg_mass = CMS_hgg_mass[DNN_CUT_MASK]\n",
      "/tmp/ipykernel_601/1731418912.py:169: FutureWarning: Using a non-tuple sequence for multidimensional indexing is deprecated; use `arr[tuple(seq)]` instead of `arr[seq]`. In the future this will be interpreted as an array index, `arr[np.array(seq)]`, which will result either in an error or a different result.\n",
      "  weightKinWeight = weightKinWeight[DNN_CUT_MASK]\n"
     ]
    },
    {
     "name": "stdout",
     "output_type": "stream",
     "text": [
      "on file 30 / 52\n",
      "on file 40 / 52\n"
     ]
    },
    {
     "name": "stderr",
     "output_type": "stream",
     "text": [
      "/tmp/ipykernel_601/3757062521.py:44: VisibleDeprecationWarning: Creating an ndarray from ragged nested sequences (which is a list-or-tuple of lists-or-tuples-or ndarrays with different lengths or shapes) is deprecated. If you meant to do this, you must specify 'dtype=object' when creating the ndarray.\n",
      "  binned_weights = np.asarray(\n"
     ]
    },
    {
     "name": "stdout",
     "output_type": "stream",
     "text": [
      "DNNcut: 0.6\n"
     ]
    },
    {
     "name": "stderr",
     "output_type": "stream",
     "text": [
      "/tmp/ipykernel_601/1731418912.py:159: FutureWarning: Using a non-tuple sequence for multidimensional indexing is deprecated; use `arr[tuple(seq)]` instead of `arr[seq]`. In the future this will be interpreted as an array index, `arr[np.array(seq)]`, which will result either in an error or a different result.\n",
      "  CMS_hgg_mass = CMS_hgg_mass[FIDUCIAL_CUT]\n",
      "/tmp/ipykernel_601/1731418912.py:160: FutureWarning: Using a non-tuple sequence for multidimensional indexing is deprecated; use `arr[tuple(seq)]` instead of `arr[seq]`. In the future this will be interpreted as an array index, `arr[np.array(seq)]`, which will result either in an error or a different result.\n",
      "  weightKinWeight = weightKinWeight[FIDUCIAL_CUT]\n",
      "/tmp/ipykernel_601/1731418912.py:161: FutureWarning: Using a non-tuple sequence for multidimensional indexing is deprecated; use `arr[tuple(seq)]` instead of `arr[seq]`. In the future this will be interpreted as an array index, `arr[np.array(seq)]`, which will result either in an error or a different result.\n",
      "  evalDNN_HH = evalDNN_HH[FIDUCIAL_CUT]\n",
      "/tmp/ipykernel_601/1731418912.py:168: FutureWarning: Using a non-tuple sequence for multidimensional indexing is deprecated; use `arr[tuple(seq)]` instead of `arr[seq]`. In the future this will be interpreted as an array index, `arr[np.array(seq)]`, which will result either in an error or a different result.\n",
      "  CMS_hgg_mass = CMS_hgg_mass[DNN_CUT_MASK]\n",
      "/tmp/ipykernel_601/1731418912.py:169: FutureWarning: Using a non-tuple sequence for multidimensional indexing is deprecated; use `arr[tuple(seq)]` instead of `arr[seq]`. In the future this will be interpreted as an array index, `arr[np.array(seq)]`, which will result either in an error or a different result.\n",
      "  weightKinWeight = weightKinWeight[DNN_CUT_MASK]\n"
     ]
    },
    {
     "name": "stdout",
     "output_type": "stream",
     "text": [
      "on file 30 / 52\n",
      "on file 40 / 52\n"
     ]
    },
    {
     "name": "stderr",
     "output_type": "stream",
     "text": [
      "/tmp/ipykernel_601/3757062521.py:44: VisibleDeprecationWarning: Creating an ndarray from ragged nested sequences (which is a list-or-tuple of lists-or-tuples-or ndarrays with different lengths or shapes) is deprecated. If you meant to do this, you must specify 'dtype=object' when creating the ndarray.\n",
      "  binned_weights = np.asarray(\n"
     ]
    },
    {
     "name": "stdout",
     "output_type": "stream",
     "text": [
      "DNNcut: 0.65\n"
     ]
    },
    {
     "name": "stderr",
     "output_type": "stream",
     "text": [
      "/tmp/ipykernel_601/1731418912.py:159: FutureWarning: Using a non-tuple sequence for multidimensional indexing is deprecated; use `arr[tuple(seq)]` instead of `arr[seq]`. In the future this will be interpreted as an array index, `arr[np.array(seq)]`, which will result either in an error or a different result.\n",
      "  CMS_hgg_mass = CMS_hgg_mass[FIDUCIAL_CUT]\n",
      "/tmp/ipykernel_601/1731418912.py:160: FutureWarning: Using a non-tuple sequence for multidimensional indexing is deprecated; use `arr[tuple(seq)]` instead of `arr[seq]`. In the future this will be interpreted as an array index, `arr[np.array(seq)]`, which will result either in an error or a different result.\n",
      "  weightKinWeight = weightKinWeight[FIDUCIAL_CUT]\n",
      "/tmp/ipykernel_601/1731418912.py:161: FutureWarning: Using a non-tuple sequence for multidimensional indexing is deprecated; use `arr[tuple(seq)]` instead of `arr[seq]`. In the future this will be interpreted as an array index, `arr[np.array(seq)]`, which will result either in an error or a different result.\n",
      "  evalDNN_HH = evalDNN_HH[FIDUCIAL_CUT]\n",
      "/tmp/ipykernel_601/1731418912.py:168: FutureWarning: Using a non-tuple sequence for multidimensional indexing is deprecated; use `arr[tuple(seq)]` instead of `arr[seq]`. In the future this will be interpreted as an array index, `arr[np.array(seq)]`, which will result either in an error or a different result.\n",
      "  CMS_hgg_mass = CMS_hgg_mass[DNN_CUT_MASK]\n",
      "/tmp/ipykernel_601/1731418912.py:169: FutureWarning: Using a non-tuple sequence for multidimensional indexing is deprecated; use `arr[tuple(seq)]` instead of `arr[seq]`. In the future this will be interpreted as an array index, `arr[np.array(seq)]`, which will result either in an error or a different result.\n",
      "  weightKinWeight = weightKinWeight[DNN_CUT_MASK]\n"
     ]
    },
    {
     "name": "stdout",
     "output_type": "stream",
     "text": [
      "on file 30 / 52\n",
      "on file 40 / 52\n"
     ]
    },
    {
     "name": "stderr",
     "output_type": "stream",
     "text": [
      "/tmp/ipykernel_601/3757062521.py:44: VisibleDeprecationWarning: Creating an ndarray from ragged nested sequences (which is a list-or-tuple of lists-or-tuples-or ndarrays with different lengths or shapes) is deprecated. If you meant to do this, you must specify 'dtype=object' when creating the ndarray.\n",
      "  binned_weights = np.asarray(\n"
     ]
    },
    {
     "name": "stdout",
     "output_type": "stream",
     "text": [
      "DNNcut: 0.7\n"
     ]
    },
    {
     "name": "stderr",
     "output_type": "stream",
     "text": [
      "/tmp/ipykernel_601/1731418912.py:159: FutureWarning: Using a non-tuple sequence for multidimensional indexing is deprecated; use `arr[tuple(seq)]` instead of `arr[seq]`. In the future this will be interpreted as an array index, `arr[np.array(seq)]`, which will result either in an error or a different result.\n",
      "  CMS_hgg_mass = CMS_hgg_mass[FIDUCIAL_CUT]\n",
      "/tmp/ipykernel_601/1731418912.py:160: FutureWarning: Using a non-tuple sequence for multidimensional indexing is deprecated; use `arr[tuple(seq)]` instead of `arr[seq]`. In the future this will be interpreted as an array index, `arr[np.array(seq)]`, which will result either in an error or a different result.\n",
      "  weightKinWeight = weightKinWeight[FIDUCIAL_CUT]\n",
      "/tmp/ipykernel_601/1731418912.py:161: FutureWarning: Using a non-tuple sequence for multidimensional indexing is deprecated; use `arr[tuple(seq)]` instead of `arr[seq]`. In the future this will be interpreted as an array index, `arr[np.array(seq)]`, which will result either in an error or a different result.\n",
      "  evalDNN_HH = evalDNN_HH[FIDUCIAL_CUT]\n",
      "/tmp/ipykernel_601/1731418912.py:168: FutureWarning: Using a non-tuple sequence for multidimensional indexing is deprecated; use `arr[tuple(seq)]` instead of `arr[seq]`. In the future this will be interpreted as an array index, `arr[np.array(seq)]`, which will result either in an error or a different result.\n",
      "  CMS_hgg_mass = CMS_hgg_mass[DNN_CUT_MASK]\n",
      "/tmp/ipykernel_601/1731418912.py:169: FutureWarning: Using a non-tuple sequence for multidimensional indexing is deprecated; use `arr[tuple(seq)]` instead of `arr[seq]`. In the future this will be interpreted as an array index, `arr[np.array(seq)]`, which will result either in an error or a different result.\n",
      "  weightKinWeight = weightKinWeight[DNN_CUT_MASK]\n"
     ]
    },
    {
     "name": "stdout",
     "output_type": "stream",
     "text": [
      "on file 30 / 52\n",
      "on file 40 / 52\n"
     ]
    },
    {
     "name": "stderr",
     "output_type": "stream",
     "text": [
      "/tmp/ipykernel_601/3757062521.py:44: VisibleDeprecationWarning: Creating an ndarray from ragged nested sequences (which is a list-or-tuple of lists-or-tuples-or ndarrays with different lengths or shapes) is deprecated. If you meant to do this, you must specify 'dtype=object' when creating the ndarray.\n",
      "  binned_weights = np.asarray(\n"
     ]
    },
    {
     "name": "stdout",
     "output_type": "stream",
     "text": [
      "DNNcut: 0.75\n"
     ]
    },
    {
     "name": "stderr",
     "output_type": "stream",
     "text": [
      "/tmp/ipykernel_601/1731418912.py:159: FutureWarning: Using a non-tuple sequence for multidimensional indexing is deprecated; use `arr[tuple(seq)]` instead of `arr[seq]`. In the future this will be interpreted as an array index, `arr[np.array(seq)]`, which will result either in an error or a different result.\n",
      "  CMS_hgg_mass = CMS_hgg_mass[FIDUCIAL_CUT]\n",
      "/tmp/ipykernel_601/1731418912.py:160: FutureWarning: Using a non-tuple sequence for multidimensional indexing is deprecated; use `arr[tuple(seq)]` instead of `arr[seq]`. In the future this will be interpreted as an array index, `arr[np.array(seq)]`, which will result either in an error or a different result.\n",
      "  weightKinWeight = weightKinWeight[FIDUCIAL_CUT]\n",
      "/tmp/ipykernel_601/1731418912.py:161: FutureWarning: Using a non-tuple sequence for multidimensional indexing is deprecated; use `arr[tuple(seq)]` instead of `arr[seq]`. In the future this will be interpreted as an array index, `arr[np.array(seq)]`, which will result either in an error or a different result.\n",
      "  evalDNN_HH = evalDNN_HH[FIDUCIAL_CUT]\n",
      "/tmp/ipykernel_601/1731418912.py:168: FutureWarning: Using a non-tuple sequence for multidimensional indexing is deprecated; use `arr[tuple(seq)]` instead of `arr[seq]`. In the future this will be interpreted as an array index, `arr[np.array(seq)]`, which will result either in an error or a different result.\n",
      "  CMS_hgg_mass = CMS_hgg_mass[DNN_CUT_MASK]\n",
      "/tmp/ipykernel_601/1731418912.py:169: FutureWarning: Using a non-tuple sequence for multidimensional indexing is deprecated; use `arr[tuple(seq)]` instead of `arr[seq]`. In the future this will be interpreted as an array index, `arr[np.array(seq)]`, which will result either in an error or a different result.\n",
      "  weightKinWeight = weightKinWeight[DNN_CUT_MASK]\n"
     ]
    },
    {
     "name": "stdout",
     "output_type": "stream",
     "text": [
      "on file 30 / 52\n",
      "on file 40 / 52\n"
     ]
    },
    {
     "name": "stderr",
     "output_type": "stream",
     "text": [
      "/tmp/ipykernel_601/3757062521.py:44: VisibleDeprecationWarning: Creating an ndarray from ragged nested sequences (which is a list-or-tuple of lists-or-tuples-or ndarrays with different lengths or shapes) is deprecated. If you meant to do this, you must specify 'dtype=object' when creating the ndarray.\n",
      "  binned_weights = np.asarray(\n"
     ]
    },
    {
     "name": "stdout",
     "output_type": "stream",
     "text": [
      "DNNcut: 0.8\n"
     ]
    },
    {
     "name": "stderr",
     "output_type": "stream",
     "text": [
      "/tmp/ipykernel_601/1731418912.py:159: FutureWarning: Using a non-tuple sequence for multidimensional indexing is deprecated; use `arr[tuple(seq)]` instead of `arr[seq]`. In the future this will be interpreted as an array index, `arr[np.array(seq)]`, which will result either in an error or a different result.\n",
      "  CMS_hgg_mass = CMS_hgg_mass[FIDUCIAL_CUT]\n",
      "/tmp/ipykernel_601/1731418912.py:160: FutureWarning: Using a non-tuple sequence for multidimensional indexing is deprecated; use `arr[tuple(seq)]` instead of `arr[seq]`. In the future this will be interpreted as an array index, `arr[np.array(seq)]`, which will result either in an error or a different result.\n",
      "  weightKinWeight = weightKinWeight[FIDUCIAL_CUT]\n",
      "/tmp/ipykernel_601/1731418912.py:161: FutureWarning: Using a non-tuple sequence for multidimensional indexing is deprecated; use `arr[tuple(seq)]` instead of `arr[seq]`. In the future this will be interpreted as an array index, `arr[np.array(seq)]`, which will result either in an error or a different result.\n",
      "  evalDNN_HH = evalDNN_HH[FIDUCIAL_CUT]\n",
      "/tmp/ipykernel_601/1731418912.py:168: FutureWarning: Using a non-tuple sequence for multidimensional indexing is deprecated; use `arr[tuple(seq)]` instead of `arr[seq]`. In the future this will be interpreted as an array index, `arr[np.array(seq)]`, which will result either in an error or a different result.\n",
      "  CMS_hgg_mass = CMS_hgg_mass[DNN_CUT_MASK]\n",
      "/tmp/ipykernel_601/1731418912.py:169: FutureWarning: Using a non-tuple sequence for multidimensional indexing is deprecated; use `arr[tuple(seq)]` instead of `arr[seq]`. In the future this will be interpreted as an array index, `arr[np.array(seq)]`, which will result either in an error or a different result.\n",
      "  weightKinWeight = weightKinWeight[DNN_CUT_MASK]\n"
     ]
    },
    {
     "name": "stdout",
     "output_type": "stream",
     "text": [
      "on file 30 / 52\n",
      "on file 40 / 52\n"
     ]
    },
    {
     "name": "stderr",
     "output_type": "stream",
     "text": [
      "/tmp/ipykernel_601/3757062521.py:44: VisibleDeprecationWarning: Creating an ndarray from ragged nested sequences (which is a list-or-tuple of lists-or-tuples-or ndarrays with different lengths or shapes) is deprecated. If you meant to do this, you must specify 'dtype=object' when creating the ndarray.\n",
      "  binned_weights = np.asarray(\n"
     ]
    },
    {
     "name": "stdout",
     "output_type": "stream",
     "text": [
      "DNNcut: 0.85\n"
     ]
    },
    {
     "name": "stderr",
     "output_type": "stream",
     "text": [
      "/tmp/ipykernel_601/1731418912.py:159: FutureWarning: Using a non-tuple sequence for multidimensional indexing is deprecated; use `arr[tuple(seq)]` instead of `arr[seq]`. In the future this will be interpreted as an array index, `arr[np.array(seq)]`, which will result either in an error or a different result.\n",
      "  CMS_hgg_mass = CMS_hgg_mass[FIDUCIAL_CUT]\n",
      "/tmp/ipykernel_601/1731418912.py:160: FutureWarning: Using a non-tuple sequence for multidimensional indexing is deprecated; use `arr[tuple(seq)]` instead of `arr[seq]`. In the future this will be interpreted as an array index, `arr[np.array(seq)]`, which will result either in an error or a different result.\n",
      "  weightKinWeight = weightKinWeight[FIDUCIAL_CUT]\n",
      "/tmp/ipykernel_601/1731418912.py:161: FutureWarning: Using a non-tuple sequence for multidimensional indexing is deprecated; use `arr[tuple(seq)]` instead of `arr[seq]`. In the future this will be interpreted as an array index, `arr[np.array(seq)]`, which will result either in an error or a different result.\n",
      "  evalDNN_HH = evalDNN_HH[FIDUCIAL_CUT]\n",
      "/tmp/ipykernel_601/1731418912.py:168: FutureWarning: Using a non-tuple sequence for multidimensional indexing is deprecated; use `arr[tuple(seq)]` instead of `arr[seq]`. In the future this will be interpreted as an array index, `arr[np.array(seq)]`, which will result either in an error or a different result.\n",
      "  CMS_hgg_mass = CMS_hgg_mass[DNN_CUT_MASK]\n",
      "/tmp/ipykernel_601/1731418912.py:169: FutureWarning: Using a non-tuple sequence for multidimensional indexing is deprecated; use `arr[tuple(seq)]` instead of `arr[seq]`. In the future this will be interpreted as an array index, `arr[np.array(seq)]`, which will result either in an error or a different result.\n",
      "  weightKinWeight = weightKinWeight[DNN_CUT_MASK]\n"
     ]
    },
    {
     "name": "stdout",
     "output_type": "stream",
     "text": [
      "on file 30 / 52\n",
      "on file 40 / 52\n"
     ]
    },
    {
     "name": "stderr",
     "output_type": "stream",
     "text": [
      "/tmp/ipykernel_601/3757062521.py:44: VisibleDeprecationWarning: Creating an ndarray from ragged nested sequences (which is a list-or-tuple of lists-or-tuples-or ndarrays with different lengths or shapes) is deprecated. If you meant to do this, you must specify 'dtype=object' when creating the ndarray.\n",
      "  binned_weights = np.asarray(\n"
     ]
    },
    {
     "name": "stdout",
     "output_type": "stream",
     "text": [
      "DNNcut: 0.9\n"
     ]
    },
    {
     "name": "stderr",
     "output_type": "stream",
     "text": [
      "/tmp/ipykernel_601/1731418912.py:159: FutureWarning: Using a non-tuple sequence for multidimensional indexing is deprecated; use `arr[tuple(seq)]` instead of `arr[seq]`. In the future this will be interpreted as an array index, `arr[np.array(seq)]`, which will result either in an error or a different result.\n",
      "  CMS_hgg_mass = CMS_hgg_mass[FIDUCIAL_CUT]\n",
      "/tmp/ipykernel_601/1731418912.py:160: FutureWarning: Using a non-tuple sequence for multidimensional indexing is deprecated; use `arr[tuple(seq)]` instead of `arr[seq]`. In the future this will be interpreted as an array index, `arr[np.array(seq)]`, which will result either in an error or a different result.\n",
      "  weightKinWeight = weightKinWeight[FIDUCIAL_CUT]\n",
      "/tmp/ipykernel_601/1731418912.py:161: FutureWarning: Using a non-tuple sequence for multidimensional indexing is deprecated; use `arr[tuple(seq)]` instead of `arr[seq]`. In the future this will be interpreted as an array index, `arr[np.array(seq)]`, which will result either in an error or a different result.\n",
      "  evalDNN_HH = evalDNN_HH[FIDUCIAL_CUT]\n",
      "/tmp/ipykernel_601/1731418912.py:168: FutureWarning: Using a non-tuple sequence for multidimensional indexing is deprecated; use `arr[tuple(seq)]` instead of `arr[seq]`. In the future this will be interpreted as an array index, `arr[np.array(seq)]`, which will result either in an error or a different result.\n",
      "  CMS_hgg_mass = CMS_hgg_mass[DNN_CUT_MASK]\n",
      "/tmp/ipykernel_601/1731418912.py:169: FutureWarning: Using a non-tuple sequence for multidimensional indexing is deprecated; use `arr[tuple(seq)]` instead of `arr[seq]`. In the future this will be interpreted as an array index, `arr[np.array(seq)]`, which will result either in an error or a different result.\n",
      "  weightKinWeight = weightKinWeight[DNN_CUT_MASK]\n"
     ]
    },
    {
     "name": "stdout",
     "output_type": "stream",
     "text": [
      "on file 30 / 52\n",
      "on file 40 / 52\n"
     ]
    },
    {
     "name": "stderr",
     "output_type": "stream",
     "text": [
      "/tmp/ipykernel_601/3757062521.py:44: VisibleDeprecationWarning: Creating an ndarray from ragged nested sequences (which is a list-or-tuple of lists-or-tuples-or ndarrays with different lengths or shapes) is deprecated. If you meant to do this, you must specify 'dtype=object' when creating the ndarray.\n",
      "  binned_weights = np.asarray(\n"
     ]
    },
    {
     "name": "stdout",
     "output_type": "stream",
     "text": [
      "DNNcut: 0.95\n"
     ]
    },
    {
     "name": "stderr",
     "output_type": "stream",
     "text": [
      "/tmp/ipykernel_601/1731418912.py:159: FutureWarning: Using a non-tuple sequence for multidimensional indexing is deprecated; use `arr[tuple(seq)]` instead of `arr[seq]`. In the future this will be interpreted as an array index, `arr[np.array(seq)]`, which will result either in an error or a different result.\n",
      "  CMS_hgg_mass = CMS_hgg_mass[FIDUCIAL_CUT]\n",
      "/tmp/ipykernel_601/1731418912.py:160: FutureWarning: Using a non-tuple sequence for multidimensional indexing is deprecated; use `arr[tuple(seq)]` instead of `arr[seq]`. In the future this will be interpreted as an array index, `arr[np.array(seq)]`, which will result either in an error or a different result.\n",
      "  weightKinWeight = weightKinWeight[FIDUCIAL_CUT]\n",
      "/tmp/ipykernel_601/1731418912.py:161: FutureWarning: Using a non-tuple sequence for multidimensional indexing is deprecated; use `arr[tuple(seq)]` instead of `arr[seq]`. In the future this will be interpreted as an array index, `arr[np.array(seq)]`, which will result either in an error or a different result.\n",
      "  evalDNN_HH = evalDNN_HH[FIDUCIAL_CUT]\n",
      "/tmp/ipykernel_601/1731418912.py:168: FutureWarning: Using a non-tuple sequence for multidimensional indexing is deprecated; use `arr[tuple(seq)]` instead of `arr[seq]`. In the future this will be interpreted as an array index, `arr[np.array(seq)]`, which will result either in an error or a different result.\n",
      "  CMS_hgg_mass = CMS_hgg_mass[DNN_CUT_MASK]\n",
      "/tmp/ipykernel_601/1731418912.py:169: FutureWarning: Using a non-tuple sequence for multidimensional indexing is deprecated; use `arr[tuple(seq)]` instead of `arr[seq]`. In the future this will be interpreted as an array index, `arr[np.array(seq)]`, which will result either in an error or a different result.\n",
      "  weightKinWeight = weightKinWeight[DNN_CUT_MASK]\n"
     ]
    },
    {
     "name": "stdout",
     "output_type": "stream",
     "text": [
      "on file 30 / 52\n",
      "on file 40 / 52\n"
     ]
    },
    {
     "name": "stderr",
     "output_type": "stream",
     "text": [
      "/tmp/ipykernel_601/3757062521.py:44: VisibleDeprecationWarning: Creating an ndarray from ragged nested sequences (which is a list-or-tuple of lists-or-tuples-or ndarrays with different lengths or shapes) is deprecated. If you meant to do this, you must specify 'dtype=object' when creating the ndarray.\n",
      "  binned_weights = np.asarray(\n"
     ]
    },
    {
     "name": "stdout",
     "output_type": "stream",
     "text": [
      "DONE\n"
     ]
    }
   ],
   "source": [
    "# Continuum_Backgrounds = [\n",
    "#       'DiPhotonJetsBox_MGG-80toInf_HHWWggTag_0_MoreVars_kinWeight_noHgg.root',\n",
    "#       'GJet_Pt-40toInf_HHWWggTag_0_MoreVars_kinWeight_noHgg.root',\n",
    "#       'TTGG_0Jets_HHWWggTag_0_MoreVars_kinWeight_noHgg.root',\n",
    "#       'TTGJets_TuneCP5_HHWWggTag_0_MoreVars_kinWeight_noHgg.root',\n",
    "#       'TTJets_TuneCP5_extra_HHWWggTag_0_MoreVars_kinWeight_noHgg.root',\n",
    "#       'ttWJets_HHWWggTag_0_MoreVars_kinWeight_noHgg.root',\n",
    "#       'W1JetsToLNu_LHEWpT_150-250_HHWWggTag_0_MoreVars_kinWeight_noHgg.root',\n",
    "#       'W1JetsToLNu_LHEWpT_250-400_HHWWggTag_0_MoreVars_kinWeight_noHgg.root',\n",
    "#       'W1JetsToLNu_LHEWpT_400-inf_HHWWggTag_0_MoreVars_kinWeight_noHgg.root',\n",
    "#       'W1JetsToLNu_LHEWpT_50-150_HHWWggTag_0_MoreVars_kinWeight_noHgg.root',\n",
    "#       'W2JetsToLNu_LHEWpT_150-250_HHWWggTag_0_MoreVars_kinWeight_noHgg.root',\n",
    "#       'W2JetsToLNu_LHEWpT_250-400_HHWWggTag_0_MoreVars_kinWeight_noHgg.root',\n",
    "#       'W2JetsToLNu_LHEWpT_400-inf_HHWWggTag_0_MoreVars_kinWeight_noHgg.root',\n",
    "#       'W2JetsToLNu_LHEWpT_50-150_HHWWggTag_0_MoreVars_kinWeight_noHgg.root',\n",
    "#       'WGGJets_HHWWggTag_0_MoreVars_kinWeight_noHgg.root',\n",
    "#       'WGJJToLNu_EWK_QCD_HHWWggTag_0_MoreVars_kinWeight_noHgg.root',\n",
    "# ]\n",
    "\n",
    "\n",
    "useDNNCategories = 0\n",
    "oneCut = 0\n",
    "\n",
    "\n",
    "Continuum_Backgrounds = [\n",
    "    \"DiPhotonJetsBox_MGG-80toInf_HHWWggTag_0_MoreVars_kinWeight_noHgg_v3.root\",\n",
    "    \"GJet_Pt-40toInf_HHWWggTag_0_MoreVars_kinWeight_noHgg_v3.root\",\n",
    "    \"TTGG_0Jets_HHWWggTag_0_MoreVars_kinWeight_noHgg_v3.root\",\n",
    "    \"TTGJets_TuneCP5_HHWWggTag_0_MoreVars_kinWeight_noHgg_v3.root\",\n",
    "    \"TTJets_TuneCP5_extra_HHWWggTag_0_MoreVars_kinWeight_noHgg_v3.root\",\n",
    "    \"W1JetsToLNu_LHEWpT_150-250_HHWWggTag_0_MoreVars_kinWeight_noHgg_v3.root\",\n",
    "    \"W1JetsToLNu_LHEWpT_250-400_HHWWggTag_0_MoreVars_kinWeight_noHgg_v3.root\",\n",
    "    \"W1JetsToLNu_LHEWpT_400-inf_HHWWggTag_0_MoreVars_kinWeight_noHgg_v3.root\",\n",
    "    \"W1JetsToLNu_LHEWpT_50-150_HHWWggTag_0_MoreVars_kinWeight_noHgg_v3.root\",\n",
    "    \"W2JetsToLNu_LHEWpT_150-250_HHWWggTag_0_MoreVars_kinWeight_noHgg_v3.root\",\n",
    "    \"W2JetsToLNu_LHEWpT_250-400_HHWWggTag_0_MoreVars_kinWeight_noHgg_v3.root\",\n",
    "    \"W2JetsToLNu_LHEWpT_400-inf_HHWWggTag_0_MoreVars_kinWeight_noHgg_v3.root\",\n",
    "    \"W2JetsToLNu_LHEWpT_50-150_HHWWggTag_0_MoreVars_kinWeight_noHgg_v3.root\",\n",
    "    \"WGGJets_HHWWggTag_0_MoreVars_kinWeight_noHgg_v3.root\",\n",
    "    \"WGJJToLNu_EWK_QCD_HHWWggTag_0_MoreVars_kinWeight_noHgg_v3.root\",\n",
    "    \"ttWJets_HHWWggTag_0_MoreVars_kinWeight_noHgg_v3.root\"\n",
    "]\n",
    "\n",
    "\n",
    "treeDictionary = {\n",
    "    \"DiPhotonJetsBox_MGG-80toInf_HHWWggTag_0_MoreVars_kinWeight_noHgg_v3.root\" : \"DiPhotonJetsBox_MGG_80toInf_13TeV_Sherpa_13TeV_HHWWggTag_0_v1\",\n",
    "    \"GJet_Pt-40toInf_HHWWggTag_0_MoreVars_kinWeight_noHgg_v3.root\" : \"GJet_Pt_40toInf_DoubleEMEnriched_MGG_80toInf_TuneCP5_13TeV_Pythia8_13TeV_HHWWggTag_0_v1\",\n",
    "    \"TTGG_0Jets_HHWWggTag_0_MoreVars_kinWeight_noHgg_v3.root\" : \"TTGG_0Jets_TuneCP5_13TeV_amcatnlo_madspin_pythia8_13TeV_HHWWggTag_0_v1\",\n",
    "    \"TTGJets_TuneCP5_HHWWggTag_0_MoreVars_kinWeight_noHgg_v3.root\" : \"TTGJets_TuneCP5_13TeV_amcatnloFXFX_madspin_pythia8_13TeV_HHWWggTag_0_v1\",\n",
    "    \"TTJets_TuneCP5_extra_HHWWggTag_0_MoreVars_kinWeight_noHgg_v3.root\" : \"TTJets_TuneCP5_13TeV_amcatnloFXFX_pythia8_13TeV_HHWWggTag_0_v1\",\n",
    "    \"W1JetsToLNu_LHEWpT_150-250_HHWWggTag_0_MoreVars_kinWeight_noHgg_v3.root\" : \"W1JetsToLNu_LHEWpT_150_250_TuneCP5_13TeV_amcnloFXFX_pythia8_13TeV_HHWWggTag_0_v1\",\n",
    "    \"W1JetsToLNu_LHEWpT_250-400_HHWWggTag_0_MoreVars_kinWeight_noHgg_v3.root\" : \"W1JetsToLNu_LHEWpT_250_400_TuneCP5_13TeV_amcnloFXFX_pythia8_13TeV_HHWWggTag_0_v1\",\n",
    "    \"W1JetsToLNu_LHEWpT_400-inf_HHWWggTag_0_MoreVars_kinWeight_noHgg_v3.root\" : \"W1JetsToLNu_LHEWpT_400_inf_TuneCP5_13TeV_amcnloFXFX_pythia8_13TeV_HHWWggTag_0_v1\",\n",
    "    \"W1JetsToLNu_LHEWpT_50-150_HHWWggTag_0_MoreVars_kinWeight_noHgg_v3.root\" : \"W1JetsToLNu_LHEWpT_50_150_TuneCP5_13TeV_amcnloFXFX_pythia8_13TeV_HHWWggTag_0_v1\",\n",
    "    \"W2JetsToLNu_LHEWpT_150-250_HHWWggTag_0_MoreVars_kinWeight_noHgg_v3.root\" : \"W2JetsToLNu_LHEWpT_150_250_TuneCP5_13TeV_amcnloFXFX_pythia8_13TeV_HHWWggTag_0_v1\",\n",
    "    \"W2JetsToLNu_LHEWpT_250-400_HHWWggTag_0_MoreVars_kinWeight_noHgg_v3.root\" : \"W2JetsToLNu_LHEWpT_250_400_TuneCP5_13TeV_amcnloFXFX_pythia8_13TeV_HHWWggTag_0_v1\",\n",
    "    \"W2JetsToLNu_LHEWpT_400-inf_HHWWggTag_0_MoreVars_kinWeight_noHgg_v3.root\" : \"W2JetsToLNu_LHEWpT_400_inf_TuneCP5_13TeV_amcnloFXFX_pythia8_13TeV_HHWWggTag_0_v1\",\n",
    "    \"W2JetsToLNu_LHEWpT_50-150_HHWWggTag_0_MoreVars_kinWeight_noHgg_v3.root\" : \"W2JetsToLNu_LHEWpT_50_150_TuneCP5_13TeV_amcnloFXFX_pythia8_13TeV_HHWWggTag_0_v1\",\n",
    "    \"WGGJets_HHWWggTag_0_MoreVars_kinWeight_noHgg_v3.root\" : \"WGGJets_TuneCP5_13TeV_madgraphMLM_pythia8_13TeV_HHWWggTag_0_v1\",\n",
    "    \"WGJJToLNu_EWK_QCD_HHWWggTag_0_MoreVars_kinWeight_noHgg_v3.root\" : \"WGJJToLNu_EWK_QCD_TuneCP5_13TeV_madgraph_pythia8_13TeV_HHWWggTag_0_v1\",\n",
    "    \"ttWJets_HHWWggTag_0_MoreVars_kinWeight_noHgg_v3.root\" : \"ttWJets_TuneCP5_13TeV_madgraphMLM_pythia8_13TeV_HHWWggTag_0_v1\"\n",
    "}\n",
    "\n",
    "\n",
    "Hgg_Backgrounds = [\n",
    "    \n",
    "]\n",
    "\n",
    "    \n",
    "if(useDNNCategories):\n",
    "    DNNcuts = [\n",
    "        [0.1, 0.63],\n",
    "        [0.63, 0.84],\n",
    "        [0.84, 0.89],\n",
    "        [0.89, 1.1]\n",
    "    ]    \n",
    "    \n",
    "else:\n",
    "    # DNNcuts = [0.0, 0.1, 0.2, 0.3, 0.4, 0.5, 0.6, 0.7, 0.8, 0.9]\n",
    "    DNNcuts = [float(i)/20. for i in range(0,20)]\n",
    "    # DNNcuts = [0.0]\n",
    "\n",
    "if(oneCut):\n",
    "    print(\"Only using one DNN selection\")\n",
    "    DNNcuts = [0.5]\n",
    "    \n",
    "# weightTypes = [\"weight\", \"weightKinWeight\"]\n",
    "# weightTypes = [\"weightKinWeight_10Sidebands\"]\n",
    "# weightTypes = [\"weightKinWeightNoFiducial\"]\n",
    "#weightTypes = [\"weightKinWeight_noNegWeights\"]\n",
    "weightTypes = [\"weightKinWeight_absValBoth\"] # used for DNN \n",
    "\n",
    "# xmin, xmax, nbins = 100, 180, 32\n",
    "xmin, xmax, nbins = 100, 180, 16\n",
    "\n",
    "for weightType in weightTypes:\n",
    "    for DNNcut in DNNcuts:\n",
    "        if(useDNNCategories):\n",
    "            DNNcut_min, DNNcut_max = DNNcut[0], DNNcut[1]\n",
    "        else:\n",
    "            pass\n",
    "        print(\"DNNcut:\",DNNcut)\n",
    "\n",
    "        all_vals = np.array([])\n",
    "        all_weights = np.array([])         \n",
    "        \n",
    "        weightedBackgroundPhoMass = np.array([0.] * nbins, dtype = float) ##-- 80 bins \n",
    "        for f_i, file in enumerate(files):\n",
    "            fileEnd = file.split('/')[-1]\n",
    "            if fileEnd in Continuum_Backgrounds:\n",
    "                if(f_i%10 == 0):\n",
    "                    print(\"on file %s / %s\"%(f_i, len(files)))\n",
    "                #print(\"on file:\",fileEnd)\n",
    "                f = uproot.open(file)\n",
    "        #         print(\"f.keys()\",f.keys())\n",
    "                nTrees = len(f.keys())\n",
    "                if(nTrees == 1): \n",
    "                    #print(\"Only one tree found:\")\n",
    "                    treeName = f.keys()[0]\n",
    "                else: \n",
    "                    treeName = treeDictionary[fileEnd]\n",
    "#                 treeName = f.keys()[0] ##-- Assuming one tree\n",
    "                #treeName = treeDictionary[fileEnd]\n",
    "                #print(\"treeName:\",treeName)\n",
    "#                 continue \n",
    "                t = f[treeName]\n",
    "                CMS_hgg_mass = np.array(t[\"CMS_hgg_mass\"].array())\n",
    "                weight = np.array(t[\"weight\"].array())\n",
    "                kinWeight = np.array(t[\"kinWeight\"].array())\n",
    "                evalDNN_HH = np.array(t[\"evalDNN_HH\"].array())\n",
    "#                 evalDNN_HH = np.array(t[\"evalDNN\"].array())\n",
    "\n",
    "    #             weightKinWeight = np.multiply(weight, kinWeight)\n",
    "                if(weightType == \"weight\"): \n",
    "                    weightKinWeight = weight \n",
    "                    FIDUCIAL_CUT = [abs(weightKinWeight) < 10.]\n",
    "                elif(weightType == \"weightKinWeight\"): \n",
    "                    weightKinWeight = np.multiply(weight, kinWeight)\n",
    "                    FIDUCIAL_CUT = [abs(weightKinWeight) < 10.]\n",
    "                elif(weightType == \"weightKinWeight_10Sidebands\"):\n",
    "                    weightKinWeight = np.multiply(weight, kinWeight)\n",
    "                    SIDEBANDS = np.logical_or(CMS_hgg_mass < 115, CMS_hgg_mass > 135)\n",
    "                    FIDUCIAL_CUT = [np.logical_and(abs(weightKinWeight) < 10., SIDEBANDS)]\n",
    "                elif(weightType == \"weightKinWeightNoFiducial\"):\n",
    "                    weightKinWeight = np.multiply(weight, kinWeight)\n",
    "                    FIDUCIAL_CUT = [np.logical_or(1, 1)]\n",
    "                elif(weightType == \"weightKinWeight_noNegWeights\"):\n",
    "                    weightKinWeight = np.multiply(weight, kinWeight) ##-- Here, it is possible that both are negative. This is the difference between noNegWeights and absValBoth. \n",
    "                    FIDUCIAL_CUT = [np.logical_and(abs(weightKinWeight) < 10., weightKinWeight > 0.)]\n",
    "                elif(weightType == \"weightKinWeight_absValBoth\"):\n",
    "                    weightKinWeight = np.multiply(abs(weight), abs(kinWeight))\n",
    "                    FIDUCIAL_CUT = [abs(weightKinWeight) < 10.]                    \n",
    "\n",
    "#                 print(\"FIDUCIAL_CUT:\",FIDUCIAL_CUT)\n",
    "#                 print(\"len(FIDUCIAL_CUT):\",len(FIDUCIAL_CUT))\n",
    "#                 print(\"CMS_hgg_mass:\",CMS_hgg_mass)\n",
    "#                 print(\"len(CMS_hgg_mass):\",len(CMS_hgg_mass))\n",
    "                    \n",
    "                CMS_hgg_mass = CMS_hgg_mass[FIDUCIAL_CUT]\n",
    "                weightKinWeight = weightKinWeight[FIDUCIAL_CUT]\n",
    "                evalDNN_HH = evalDNN_HH[FIDUCIAL_CUT]\n",
    "\n",
    "                if(useDNNCategories):\n",
    "                    DNN_CUT_MASK = np.logical_and(evalDNN_HH >= DNNcut_min, evalDNN_HH < DNNcut_max)\n",
    "                else:\n",
    "                    DNN_CUT_MASK = [evalDNN_HH > DNNcut]\n",
    "\n",
    "                CMS_hgg_mass = CMS_hgg_mass[DNN_CUT_MASK]\n",
    "                weightKinWeight = weightKinWeight[DNN_CUT_MASK]\n",
    "l\n",
    "    #             weightedBackgroundPhoMass_thisFile = weightedVals[DNN_CUT_MASK]\n",
    "\n",
    "                bins = np.linspace(xmin, xmax, nbins + 1)\n",
    "                binHeights_thisFile, bin_edges = np.histogram(CMS_hgg_mass, weights = weightKinWeight, bins = bins)\n",
    "            \n",
    "                all_vals = np.append(all_vals, ak.to_numpy(CMS_hgg_mass))\n",
    "                all_weights = np.append(all_weights, ak.to_numpy(weightKinWeight))\n",
    "            \n",
    "#                 largeWeightsBool = weightKinWeight > 5\n",
    "#                 if(largeWeightsBool.sum() >= 1):\n",
    "#                     print(\"Large weights contained for %s\"%(file)) \n",
    "#                     # /eos/user/a/atishelm/ntuples/HHWWgg_DNN/MultiClassifier/HHWWyyDNN_SL_MultiClass_WithMETFix_12LOHH_500epochs_BalanceYields//WGJJToLNu_EWK_QCD_HHWWggTag_0_MoreVars_kinWeight_noHgg_v3.root\n",
    "#                     # weight, kinWeight of *      282 * 0.0020138 * 3119.6814 * making a scary bump. Indicates just due to one MC event. \n",
    "            \n",
    "#                 fig, ax = plt.subplots()\n",
    "#                 plt.hist(weightKinWeight)\n",
    "#                 plt.show()\n",
    "#                 plt.close()\n",
    "            \n",
    "    #             print(\"binHeights_thisFile:\",binHeights_thisFile)\n",
    "    #             print(\"bin_edges:\", bin_edges)\n",
    "    #             print(\"binHeights_thisFile:\",binHeights_thisFile)\n",
    "  \n",
    "\n",
    "                weightedBackgroundPhoMass = np.add(weightedBackgroundPhoMass, binHeights_thisFile)\n",
    "\n",
    "\n",
    "    #             weightedBackgroundPhoMass = np.append(weightedBackgroundPhoMass, weightedBackgroundPhoMass_thisFile)\n",
    "\n",
    "        #         plt.hist(weightedVals, bins = bins)\n",
    "        #         break \n",
    "\n",
    "\n",
    "        fig, ax = plt.subplots()\n",
    "        bins = np.linspace(xmin, xmax, nbins + 1)\n",
    "        \n",
    "        \n",
    "        # sum weights squared for uncertainties \n",
    "        binned_MC_stat_uncertainties = hist_bin_uncertainty(all_vals, all_weights, bins)  \n",
    "        \n",
    "        # Sqrt per bin for uncertainty\n",
    "        yerrors = np.sqrt(weightedBackgroundPhoMass)\n",
    "\n",
    "        bin_centers = [ ((bins[i + 1] - bins[i] ) / 2.) + bins[i] for i in range(len(bins) - 1)] \n",
    "        \n",
    "        ymin = min(weightedBackgroundPhoMass)\n",
    "        if(ymin > 0): \n",
    "            ymin = 0.0\n",
    "        ymax = max(weightedBackgroundPhoMass) * 1.25 ##-- Make sure there is room for the legend \n",
    "        \n",
    "        plt.hist(bins[:-1], weights = weightedBackgroundPhoMass, bins = bins, label = \"Continuum MC: DNN score > %s\"%(DNNcut))\n",
    "        #plt.errorbar(bin_centers, weightedBackgroundPhoMass, yerr = yerrors, linestyle = '', ecolor = 'black')\n",
    "        plt.errorbar(bin_centers, weightedBackgroundPhoMass, yerr = binned_MC_stat_uncertainties, linestyle = '', ecolor = 'black')\n",
    "        plt.legend(fontsize = 15)\n",
    "        plt.ylabel(\"Weighted Entries [A.U.]\", fontsize = 15)\n",
    "        plt.xlabel(r\"$m_{\\gamma\\gamma}$ [GeV]\", fontsize = 15)\n",
    "        plt.ylim(ymin, ymax)\n",
    "        \n",
    "        ##-- Make sure output directory exists \n",
    "        outDir = \"/eos/user/a/atishelm/www/HIG-21-014/AN_20_165_v7/SM_DNN_MC_Validation_withMETFix/%s/\"%(weightType)\n",
    "    \n",
    "        if(not os.path.exists(outDir)):\n",
    "            print(\"Output directory %s does not exist\"%(outDir))\n",
    "            print(\"Creating directory\")\n",
    "            os.system(\"mkdir %s\"%(outDir))\n",
    "            os.system(\"cp %s/../index.php %s\"%(outDir, outDir))\n",
    "        \n",
    "        DNNcut_Name = str(DNNcut)\n",
    "        DNNcut_Name = DNNcut_Name.replace(\".\", \"p\")        \n",
    "        \n",
    "        plt.savefig(\"%s/Continuum_MC_DNNgt_%s.png\"%(outDir, DNNcut_Name))\n",
    "        plt.savefig(\"%s/Continuum_MC_DNNgt_%s.pdf\"%(outDir, DNNcut_Name))\n",
    "#         plt.show()\n",
    "        plt.close()\n",
    "\n",
    "print(\"DONE\")"
   ]
  },
  {
   "cell_type": "code",
   "execution_count": 20,
   "id": "requested-chaos",
   "metadata": {
    "scrolled": true
   },
   "outputs": [
    {
     "name": "stdout",
     "output_type": "stream",
     "text": [
      "DNNcut: 0.0\n",
      "on file: Data_2016_HHWWggTag_0_MoreVars_v2.root\n"
     ]
    },
    {
     "name": "stderr",
     "output_type": "stream",
     "text": [
      "/tmp/ipykernel_1560/2218762121.py:59: FutureWarning: Using a non-tuple sequence for multidimensional indexing is deprecated; use `arr[tuple(seq)]` instead of `arr[seq]`. In the future this will be interpreted as an array index, `arr[np.array(seq)]`, which will result either in an error or a different result.\n",
      "  CMS_hgg_mass = CMS_hgg_mass[BLIND_SR_CUT]\n",
      "/tmp/ipykernel_1560/2218762121.py:60: FutureWarning: Using a non-tuple sequence for multidimensional indexing is deprecated; use `arr[tuple(seq)]` instead of `arr[seq]`. In the future this will be interpreted as an array index, `arr[np.array(seq)]`, which will result either in an error or a different result.\n",
      "  evalDNN_HH = evalDNN_HH[BLIND_SR_CUT]\n",
      "/tmp/ipykernel_1560/2218762121.py:69: FutureWarning: Using a non-tuple sequence for multidimensional indexing is deprecated; use `arr[tuple(seq)]` instead of `arr[seq]`. In the future this will be interpreted as an array index, `arr[np.array(seq)]`, which will result either in an error or a different result.\n",
      "  CMS_hgg_mass = CMS_hgg_mass[DNN_CUT_MASK]\n"
     ]
    },
    {
     "name": "stdout",
     "output_type": "stream",
     "text": [
      "on file: Data_2017_HHWWggTag_0_MoreVars_v2.root\n",
      "on file: Data_2018_HHWWggTag_0_MoreVars_v2.root\n",
      "DNNcut: 0.05\n",
      "on file: Data_2016_HHWWggTag_0_MoreVars_v2.root\n"
     ]
    },
    {
     "name": "stderr",
     "output_type": "stream",
     "text": [
      "/tmp/ipykernel_1560/2218762121.py:59: FutureWarning: Using a non-tuple sequence for multidimensional indexing is deprecated; use `arr[tuple(seq)]` instead of `arr[seq]`. In the future this will be interpreted as an array index, `arr[np.array(seq)]`, which will result either in an error or a different result.\n",
      "  CMS_hgg_mass = CMS_hgg_mass[BLIND_SR_CUT]\n",
      "/tmp/ipykernel_1560/2218762121.py:60: FutureWarning: Using a non-tuple sequence for multidimensional indexing is deprecated; use `arr[tuple(seq)]` instead of `arr[seq]`. In the future this will be interpreted as an array index, `arr[np.array(seq)]`, which will result either in an error or a different result.\n",
      "  evalDNN_HH = evalDNN_HH[BLIND_SR_CUT]\n",
      "/tmp/ipykernel_1560/2218762121.py:69: FutureWarning: Using a non-tuple sequence for multidimensional indexing is deprecated; use `arr[tuple(seq)]` instead of `arr[seq]`. In the future this will be interpreted as an array index, `arr[np.array(seq)]`, which will result either in an error or a different result.\n",
      "  CMS_hgg_mass = CMS_hgg_mass[DNN_CUT_MASK]\n"
     ]
    },
    {
     "name": "stdout",
     "output_type": "stream",
     "text": [
      "on file: Data_2017_HHWWggTag_0_MoreVars_v2.root\n",
      "on file: Data_2018_HHWWggTag_0_MoreVars_v2.root\n",
      "DNNcut: 0.1\n",
      "on file: Data_2016_HHWWggTag_0_MoreVars_v2.root\n"
     ]
    },
    {
     "name": "stderr",
     "output_type": "stream",
     "text": [
      "/tmp/ipykernel_1560/2218762121.py:59: FutureWarning: Using a non-tuple sequence for multidimensional indexing is deprecated; use `arr[tuple(seq)]` instead of `arr[seq]`. In the future this will be interpreted as an array index, `arr[np.array(seq)]`, which will result either in an error or a different result.\n",
      "  CMS_hgg_mass = CMS_hgg_mass[BLIND_SR_CUT]\n",
      "/tmp/ipykernel_1560/2218762121.py:60: FutureWarning: Using a non-tuple sequence for multidimensional indexing is deprecated; use `arr[tuple(seq)]` instead of `arr[seq]`. In the future this will be interpreted as an array index, `arr[np.array(seq)]`, which will result either in an error or a different result.\n",
      "  evalDNN_HH = evalDNN_HH[BLIND_SR_CUT]\n",
      "/tmp/ipykernel_1560/2218762121.py:69: FutureWarning: Using a non-tuple sequence for multidimensional indexing is deprecated; use `arr[tuple(seq)]` instead of `arr[seq]`. In the future this will be interpreted as an array index, `arr[np.array(seq)]`, which will result either in an error or a different result.\n",
      "  CMS_hgg_mass = CMS_hgg_mass[DNN_CUT_MASK]\n"
     ]
    },
    {
     "name": "stdout",
     "output_type": "stream",
     "text": [
      "on file: Data_2017_HHWWggTag_0_MoreVars_v2.root\n",
      "on file: Data_2018_HHWWggTag_0_MoreVars_v2.root\n",
      "DNNcut: 0.15\n",
      "on file: Data_2016_HHWWggTag_0_MoreVars_v2.root\n"
     ]
    },
    {
     "name": "stderr",
     "output_type": "stream",
     "text": [
      "/tmp/ipykernel_1560/2218762121.py:59: FutureWarning: Using a non-tuple sequence for multidimensional indexing is deprecated; use `arr[tuple(seq)]` instead of `arr[seq]`. In the future this will be interpreted as an array index, `arr[np.array(seq)]`, which will result either in an error or a different result.\n",
      "  CMS_hgg_mass = CMS_hgg_mass[BLIND_SR_CUT]\n",
      "/tmp/ipykernel_1560/2218762121.py:60: FutureWarning: Using a non-tuple sequence for multidimensional indexing is deprecated; use `arr[tuple(seq)]` instead of `arr[seq]`. In the future this will be interpreted as an array index, `arr[np.array(seq)]`, which will result either in an error or a different result.\n",
      "  evalDNN_HH = evalDNN_HH[BLIND_SR_CUT]\n",
      "/tmp/ipykernel_1560/2218762121.py:69: FutureWarning: Using a non-tuple sequence for multidimensional indexing is deprecated; use `arr[tuple(seq)]` instead of `arr[seq]`. In the future this will be interpreted as an array index, `arr[np.array(seq)]`, which will result either in an error or a different result.\n",
      "  CMS_hgg_mass = CMS_hgg_mass[DNN_CUT_MASK]\n"
     ]
    },
    {
     "name": "stdout",
     "output_type": "stream",
     "text": [
      "on file: Data_2017_HHWWggTag_0_MoreVars_v2.root\n",
      "on file: Data_2018_HHWWggTag_0_MoreVars_v2.root\n",
      "DNNcut: 0.2\n",
      "on file: Data_2016_HHWWggTag_0_MoreVars_v2.root\n"
     ]
    },
    {
     "name": "stderr",
     "output_type": "stream",
     "text": [
      "/tmp/ipykernel_1560/2218762121.py:59: FutureWarning: Using a non-tuple sequence for multidimensional indexing is deprecated; use `arr[tuple(seq)]` instead of `arr[seq]`. In the future this will be interpreted as an array index, `arr[np.array(seq)]`, which will result either in an error or a different result.\n",
      "  CMS_hgg_mass = CMS_hgg_mass[BLIND_SR_CUT]\n",
      "/tmp/ipykernel_1560/2218762121.py:60: FutureWarning: Using a non-tuple sequence for multidimensional indexing is deprecated; use `arr[tuple(seq)]` instead of `arr[seq]`. In the future this will be interpreted as an array index, `arr[np.array(seq)]`, which will result either in an error or a different result.\n",
      "  evalDNN_HH = evalDNN_HH[BLIND_SR_CUT]\n",
      "/tmp/ipykernel_1560/2218762121.py:69: FutureWarning: Using a non-tuple sequence for multidimensional indexing is deprecated; use `arr[tuple(seq)]` instead of `arr[seq]`. In the future this will be interpreted as an array index, `arr[np.array(seq)]`, which will result either in an error or a different result.\n",
      "  CMS_hgg_mass = CMS_hgg_mass[DNN_CUT_MASK]\n"
     ]
    },
    {
     "name": "stdout",
     "output_type": "stream",
     "text": [
      "on file: Data_2017_HHWWggTag_0_MoreVars_v2.root\n",
      "on file: Data_2018_HHWWggTag_0_MoreVars_v2.root\n",
      "DNNcut: 0.25\n",
      "on file: Data_2016_HHWWggTag_0_MoreVars_v2.root\n"
     ]
    },
    {
     "name": "stderr",
     "output_type": "stream",
     "text": [
      "/tmp/ipykernel_1560/2218762121.py:59: FutureWarning: Using a non-tuple sequence for multidimensional indexing is deprecated; use `arr[tuple(seq)]` instead of `arr[seq]`. In the future this will be interpreted as an array index, `arr[np.array(seq)]`, which will result either in an error or a different result.\n",
      "  CMS_hgg_mass = CMS_hgg_mass[BLIND_SR_CUT]\n",
      "/tmp/ipykernel_1560/2218762121.py:60: FutureWarning: Using a non-tuple sequence for multidimensional indexing is deprecated; use `arr[tuple(seq)]` instead of `arr[seq]`. In the future this will be interpreted as an array index, `arr[np.array(seq)]`, which will result either in an error or a different result.\n",
      "  evalDNN_HH = evalDNN_HH[BLIND_SR_CUT]\n",
      "/tmp/ipykernel_1560/2218762121.py:69: FutureWarning: Using a non-tuple sequence for multidimensional indexing is deprecated; use `arr[tuple(seq)]` instead of `arr[seq]`. In the future this will be interpreted as an array index, `arr[np.array(seq)]`, which will result either in an error or a different result.\n",
      "  CMS_hgg_mass = CMS_hgg_mass[DNN_CUT_MASK]\n"
     ]
    },
    {
     "name": "stdout",
     "output_type": "stream",
     "text": [
      "on file: Data_2017_HHWWggTag_0_MoreVars_v2.root\n",
      "on file: Data_2018_HHWWggTag_0_MoreVars_v2.root\n",
      "DNNcut: 0.3\n",
      "on file: Data_2016_HHWWggTag_0_MoreVars_v2.root\n"
     ]
    },
    {
     "name": "stderr",
     "output_type": "stream",
     "text": [
      "/tmp/ipykernel_1560/2218762121.py:59: FutureWarning: Using a non-tuple sequence for multidimensional indexing is deprecated; use `arr[tuple(seq)]` instead of `arr[seq]`. In the future this will be interpreted as an array index, `arr[np.array(seq)]`, which will result either in an error or a different result.\n",
      "  CMS_hgg_mass = CMS_hgg_mass[BLIND_SR_CUT]\n",
      "/tmp/ipykernel_1560/2218762121.py:60: FutureWarning: Using a non-tuple sequence for multidimensional indexing is deprecated; use `arr[tuple(seq)]` instead of `arr[seq]`. In the future this will be interpreted as an array index, `arr[np.array(seq)]`, which will result either in an error or a different result.\n",
      "  evalDNN_HH = evalDNN_HH[BLIND_SR_CUT]\n",
      "/tmp/ipykernel_1560/2218762121.py:69: FutureWarning: Using a non-tuple sequence for multidimensional indexing is deprecated; use `arr[tuple(seq)]` instead of `arr[seq]`. In the future this will be interpreted as an array index, `arr[np.array(seq)]`, which will result either in an error or a different result.\n",
      "  CMS_hgg_mass = CMS_hgg_mass[DNN_CUT_MASK]\n"
     ]
    },
    {
     "name": "stdout",
     "output_type": "stream",
     "text": [
      "on file: Data_2017_HHWWggTag_0_MoreVars_v2.root\n",
      "on file: Data_2018_HHWWggTag_0_MoreVars_v2.root\n",
      "DNNcut: 0.35\n",
      "on file: Data_2016_HHWWggTag_0_MoreVars_v2.root\n"
     ]
    },
    {
     "name": "stderr",
     "output_type": "stream",
     "text": [
      "/tmp/ipykernel_1560/2218762121.py:59: FutureWarning: Using a non-tuple sequence for multidimensional indexing is deprecated; use `arr[tuple(seq)]` instead of `arr[seq]`. In the future this will be interpreted as an array index, `arr[np.array(seq)]`, which will result either in an error or a different result.\n",
      "  CMS_hgg_mass = CMS_hgg_mass[BLIND_SR_CUT]\n",
      "/tmp/ipykernel_1560/2218762121.py:60: FutureWarning: Using a non-tuple sequence for multidimensional indexing is deprecated; use `arr[tuple(seq)]` instead of `arr[seq]`. In the future this will be interpreted as an array index, `arr[np.array(seq)]`, which will result either in an error or a different result.\n",
      "  evalDNN_HH = evalDNN_HH[BLIND_SR_CUT]\n",
      "/tmp/ipykernel_1560/2218762121.py:69: FutureWarning: Using a non-tuple sequence for multidimensional indexing is deprecated; use `arr[tuple(seq)]` instead of `arr[seq]`. In the future this will be interpreted as an array index, `arr[np.array(seq)]`, which will result either in an error or a different result.\n",
      "  CMS_hgg_mass = CMS_hgg_mass[DNN_CUT_MASK]\n"
     ]
    },
    {
     "name": "stdout",
     "output_type": "stream",
     "text": [
      "on file: Data_2017_HHWWggTag_0_MoreVars_v2.root\n",
      "on file: Data_2018_HHWWggTag_0_MoreVars_v2.root\n",
      "DNNcut: 0.4\n",
      "on file: Data_2016_HHWWggTag_0_MoreVars_v2.root\n"
     ]
    },
    {
     "name": "stderr",
     "output_type": "stream",
     "text": [
      "/tmp/ipykernel_1560/2218762121.py:59: FutureWarning: Using a non-tuple sequence for multidimensional indexing is deprecated; use `arr[tuple(seq)]` instead of `arr[seq]`. In the future this will be interpreted as an array index, `arr[np.array(seq)]`, which will result either in an error or a different result.\n",
      "  CMS_hgg_mass = CMS_hgg_mass[BLIND_SR_CUT]\n",
      "/tmp/ipykernel_1560/2218762121.py:60: FutureWarning: Using a non-tuple sequence for multidimensional indexing is deprecated; use `arr[tuple(seq)]` instead of `arr[seq]`. In the future this will be interpreted as an array index, `arr[np.array(seq)]`, which will result either in an error or a different result.\n",
      "  evalDNN_HH = evalDNN_HH[BLIND_SR_CUT]\n",
      "/tmp/ipykernel_1560/2218762121.py:69: FutureWarning: Using a non-tuple sequence for multidimensional indexing is deprecated; use `arr[tuple(seq)]` instead of `arr[seq]`. In the future this will be interpreted as an array index, `arr[np.array(seq)]`, which will result either in an error or a different result.\n",
      "  CMS_hgg_mass = CMS_hgg_mass[DNN_CUT_MASK]\n"
     ]
    },
    {
     "name": "stdout",
     "output_type": "stream",
     "text": [
      "on file: Data_2017_HHWWggTag_0_MoreVars_v2.root\n",
      "on file: Data_2018_HHWWggTag_0_MoreVars_v2.root\n",
      "DNNcut: 0.45\n",
      "on file: Data_2016_HHWWggTag_0_MoreVars_v2.root\n"
     ]
    },
    {
     "name": "stderr",
     "output_type": "stream",
     "text": [
      "/tmp/ipykernel_1560/2218762121.py:59: FutureWarning: Using a non-tuple sequence for multidimensional indexing is deprecated; use `arr[tuple(seq)]` instead of `arr[seq]`. In the future this will be interpreted as an array index, `arr[np.array(seq)]`, which will result either in an error or a different result.\n",
      "  CMS_hgg_mass = CMS_hgg_mass[BLIND_SR_CUT]\n",
      "/tmp/ipykernel_1560/2218762121.py:60: FutureWarning: Using a non-tuple sequence for multidimensional indexing is deprecated; use `arr[tuple(seq)]` instead of `arr[seq]`. In the future this will be interpreted as an array index, `arr[np.array(seq)]`, which will result either in an error or a different result.\n",
      "  evalDNN_HH = evalDNN_HH[BLIND_SR_CUT]\n",
      "/tmp/ipykernel_1560/2218762121.py:69: FutureWarning: Using a non-tuple sequence for multidimensional indexing is deprecated; use `arr[tuple(seq)]` instead of `arr[seq]`. In the future this will be interpreted as an array index, `arr[np.array(seq)]`, which will result either in an error or a different result.\n",
      "  CMS_hgg_mass = CMS_hgg_mass[DNN_CUT_MASK]\n"
     ]
    },
    {
     "name": "stdout",
     "output_type": "stream",
     "text": [
      "on file: Data_2017_HHWWggTag_0_MoreVars_v2.root\n",
      "on file: Data_2018_HHWWggTag_0_MoreVars_v2.root\n",
      "DNNcut: 0.5\n",
      "on file: Data_2016_HHWWggTag_0_MoreVars_v2.root\n"
     ]
    },
    {
     "name": "stderr",
     "output_type": "stream",
     "text": [
      "/tmp/ipykernel_1560/2218762121.py:59: FutureWarning: Using a non-tuple sequence for multidimensional indexing is deprecated; use `arr[tuple(seq)]` instead of `arr[seq]`. In the future this will be interpreted as an array index, `arr[np.array(seq)]`, which will result either in an error or a different result.\n",
      "  CMS_hgg_mass = CMS_hgg_mass[BLIND_SR_CUT]\n",
      "/tmp/ipykernel_1560/2218762121.py:60: FutureWarning: Using a non-tuple sequence for multidimensional indexing is deprecated; use `arr[tuple(seq)]` instead of `arr[seq]`. In the future this will be interpreted as an array index, `arr[np.array(seq)]`, which will result either in an error or a different result.\n",
      "  evalDNN_HH = evalDNN_HH[BLIND_SR_CUT]\n",
      "/tmp/ipykernel_1560/2218762121.py:69: FutureWarning: Using a non-tuple sequence for multidimensional indexing is deprecated; use `arr[tuple(seq)]` instead of `arr[seq]`. In the future this will be interpreted as an array index, `arr[np.array(seq)]`, which will result either in an error or a different result.\n",
      "  CMS_hgg_mass = CMS_hgg_mass[DNN_CUT_MASK]\n"
     ]
    },
    {
     "name": "stdout",
     "output_type": "stream",
     "text": [
      "on file: Data_2017_HHWWggTag_0_MoreVars_v2.root\n",
      "on file: Data_2018_HHWWggTag_0_MoreVars_v2.root\n",
      "DNNcut: 0.55\n",
      "on file: Data_2016_HHWWggTag_0_MoreVars_v2.root\n"
     ]
    },
    {
     "name": "stderr",
     "output_type": "stream",
     "text": [
      "/tmp/ipykernel_1560/2218762121.py:59: FutureWarning: Using a non-tuple sequence for multidimensional indexing is deprecated; use `arr[tuple(seq)]` instead of `arr[seq]`. In the future this will be interpreted as an array index, `arr[np.array(seq)]`, which will result either in an error or a different result.\n",
      "  CMS_hgg_mass = CMS_hgg_mass[BLIND_SR_CUT]\n",
      "/tmp/ipykernel_1560/2218762121.py:60: FutureWarning: Using a non-tuple sequence for multidimensional indexing is deprecated; use `arr[tuple(seq)]` instead of `arr[seq]`. In the future this will be interpreted as an array index, `arr[np.array(seq)]`, which will result either in an error or a different result.\n",
      "  evalDNN_HH = evalDNN_HH[BLIND_SR_CUT]\n",
      "/tmp/ipykernel_1560/2218762121.py:69: FutureWarning: Using a non-tuple sequence for multidimensional indexing is deprecated; use `arr[tuple(seq)]` instead of `arr[seq]`. In the future this will be interpreted as an array index, `arr[np.array(seq)]`, which will result either in an error or a different result.\n",
      "  CMS_hgg_mass = CMS_hgg_mass[DNN_CUT_MASK]\n"
     ]
    },
    {
     "name": "stdout",
     "output_type": "stream",
     "text": [
      "on file: Data_2017_HHWWggTag_0_MoreVars_v2.root\n",
      "on file: Data_2018_HHWWggTag_0_MoreVars_v2.root\n",
      "DNNcut: 0.6\n",
      "on file: Data_2016_HHWWggTag_0_MoreVars_v2.root\n"
     ]
    },
    {
     "name": "stderr",
     "output_type": "stream",
     "text": [
      "/tmp/ipykernel_1560/2218762121.py:59: FutureWarning: Using a non-tuple sequence for multidimensional indexing is deprecated; use `arr[tuple(seq)]` instead of `arr[seq]`. In the future this will be interpreted as an array index, `arr[np.array(seq)]`, which will result either in an error or a different result.\n",
      "  CMS_hgg_mass = CMS_hgg_mass[BLIND_SR_CUT]\n",
      "/tmp/ipykernel_1560/2218762121.py:60: FutureWarning: Using a non-tuple sequence for multidimensional indexing is deprecated; use `arr[tuple(seq)]` instead of `arr[seq]`. In the future this will be interpreted as an array index, `arr[np.array(seq)]`, which will result either in an error or a different result.\n",
      "  evalDNN_HH = evalDNN_HH[BLIND_SR_CUT]\n",
      "/tmp/ipykernel_1560/2218762121.py:69: FutureWarning: Using a non-tuple sequence for multidimensional indexing is deprecated; use `arr[tuple(seq)]` instead of `arr[seq]`. In the future this will be interpreted as an array index, `arr[np.array(seq)]`, which will result either in an error or a different result.\n",
      "  CMS_hgg_mass = CMS_hgg_mass[DNN_CUT_MASK]\n"
     ]
    },
    {
     "name": "stdout",
     "output_type": "stream",
     "text": [
      "on file: Data_2017_HHWWggTag_0_MoreVars_v2.root\n",
      "on file: Data_2018_HHWWggTag_0_MoreVars_v2.root\n",
      "DNNcut: 0.65\n",
      "on file: Data_2016_HHWWggTag_0_MoreVars_v2.root\n"
     ]
    },
    {
     "name": "stderr",
     "output_type": "stream",
     "text": [
      "/tmp/ipykernel_1560/2218762121.py:59: FutureWarning: Using a non-tuple sequence for multidimensional indexing is deprecated; use `arr[tuple(seq)]` instead of `arr[seq]`. In the future this will be interpreted as an array index, `arr[np.array(seq)]`, which will result either in an error or a different result.\n",
      "  CMS_hgg_mass = CMS_hgg_mass[BLIND_SR_CUT]\n",
      "/tmp/ipykernel_1560/2218762121.py:60: FutureWarning: Using a non-tuple sequence for multidimensional indexing is deprecated; use `arr[tuple(seq)]` instead of `arr[seq]`. In the future this will be interpreted as an array index, `arr[np.array(seq)]`, which will result either in an error or a different result.\n",
      "  evalDNN_HH = evalDNN_HH[BLIND_SR_CUT]\n",
      "/tmp/ipykernel_1560/2218762121.py:69: FutureWarning: Using a non-tuple sequence for multidimensional indexing is deprecated; use `arr[tuple(seq)]` instead of `arr[seq]`. In the future this will be interpreted as an array index, `arr[np.array(seq)]`, which will result either in an error or a different result.\n",
      "  CMS_hgg_mass = CMS_hgg_mass[DNN_CUT_MASK]\n"
     ]
    },
    {
     "name": "stdout",
     "output_type": "stream",
     "text": [
      "on file: Data_2017_HHWWggTag_0_MoreVars_v2.root\n",
      "on file: Data_2018_HHWWggTag_0_MoreVars_v2.root\n",
      "DNNcut: 0.7\n",
      "on file: Data_2016_HHWWggTag_0_MoreVars_v2.root\n"
     ]
    },
    {
     "name": "stderr",
     "output_type": "stream",
     "text": [
      "/tmp/ipykernel_1560/2218762121.py:59: FutureWarning: Using a non-tuple sequence for multidimensional indexing is deprecated; use `arr[tuple(seq)]` instead of `arr[seq]`. In the future this will be interpreted as an array index, `arr[np.array(seq)]`, which will result either in an error or a different result.\n",
      "  CMS_hgg_mass = CMS_hgg_mass[BLIND_SR_CUT]\n",
      "/tmp/ipykernel_1560/2218762121.py:60: FutureWarning: Using a non-tuple sequence for multidimensional indexing is deprecated; use `arr[tuple(seq)]` instead of `arr[seq]`. In the future this will be interpreted as an array index, `arr[np.array(seq)]`, which will result either in an error or a different result.\n",
      "  evalDNN_HH = evalDNN_HH[BLIND_SR_CUT]\n",
      "/tmp/ipykernel_1560/2218762121.py:69: FutureWarning: Using a non-tuple sequence for multidimensional indexing is deprecated; use `arr[tuple(seq)]` instead of `arr[seq]`. In the future this will be interpreted as an array index, `arr[np.array(seq)]`, which will result either in an error or a different result.\n",
      "  CMS_hgg_mass = CMS_hgg_mass[DNN_CUT_MASK]\n"
     ]
    },
    {
     "name": "stdout",
     "output_type": "stream",
     "text": [
      "on file: Data_2017_HHWWggTag_0_MoreVars_v2.root\n",
      "on file: Data_2018_HHWWggTag_0_MoreVars_v2.root\n",
      "DNNcut: 0.75\n",
      "on file: Data_2016_HHWWggTag_0_MoreVars_v2.root\n"
     ]
    },
    {
     "name": "stderr",
     "output_type": "stream",
     "text": [
      "/tmp/ipykernel_1560/2218762121.py:59: FutureWarning: Using a non-tuple sequence for multidimensional indexing is deprecated; use `arr[tuple(seq)]` instead of `arr[seq]`. In the future this will be interpreted as an array index, `arr[np.array(seq)]`, which will result either in an error or a different result.\n",
      "  CMS_hgg_mass = CMS_hgg_mass[BLIND_SR_CUT]\n",
      "/tmp/ipykernel_1560/2218762121.py:60: FutureWarning: Using a non-tuple sequence for multidimensional indexing is deprecated; use `arr[tuple(seq)]` instead of `arr[seq]`. In the future this will be interpreted as an array index, `arr[np.array(seq)]`, which will result either in an error or a different result.\n",
      "  evalDNN_HH = evalDNN_HH[BLIND_SR_CUT]\n",
      "/tmp/ipykernel_1560/2218762121.py:69: FutureWarning: Using a non-tuple sequence for multidimensional indexing is deprecated; use `arr[tuple(seq)]` instead of `arr[seq]`. In the future this will be interpreted as an array index, `arr[np.array(seq)]`, which will result either in an error or a different result.\n",
      "  CMS_hgg_mass = CMS_hgg_mass[DNN_CUT_MASK]\n"
     ]
    },
    {
     "name": "stdout",
     "output_type": "stream",
     "text": [
      "on file: Data_2017_HHWWggTag_0_MoreVars_v2.root\n",
      "on file: Data_2018_HHWWggTag_0_MoreVars_v2.root\n",
      "DNNcut: 0.8\n",
      "on file: Data_2016_HHWWggTag_0_MoreVars_v2.root\n"
     ]
    },
    {
     "name": "stderr",
     "output_type": "stream",
     "text": [
      "/tmp/ipykernel_1560/2218762121.py:59: FutureWarning: Using a non-tuple sequence for multidimensional indexing is deprecated; use `arr[tuple(seq)]` instead of `arr[seq]`. In the future this will be interpreted as an array index, `arr[np.array(seq)]`, which will result either in an error or a different result.\n",
      "  CMS_hgg_mass = CMS_hgg_mass[BLIND_SR_CUT]\n",
      "/tmp/ipykernel_1560/2218762121.py:60: FutureWarning: Using a non-tuple sequence for multidimensional indexing is deprecated; use `arr[tuple(seq)]` instead of `arr[seq]`. In the future this will be interpreted as an array index, `arr[np.array(seq)]`, which will result either in an error or a different result.\n",
      "  evalDNN_HH = evalDNN_HH[BLIND_SR_CUT]\n",
      "/tmp/ipykernel_1560/2218762121.py:69: FutureWarning: Using a non-tuple sequence for multidimensional indexing is deprecated; use `arr[tuple(seq)]` instead of `arr[seq]`. In the future this will be interpreted as an array index, `arr[np.array(seq)]`, which will result either in an error or a different result.\n",
      "  CMS_hgg_mass = CMS_hgg_mass[DNN_CUT_MASK]\n"
     ]
    },
    {
     "name": "stdout",
     "output_type": "stream",
     "text": [
      "on file: Data_2017_HHWWggTag_0_MoreVars_v2.root\n",
      "on file: Data_2018_HHWWggTag_0_MoreVars_v2.root\n",
      "DNNcut: 0.85\n",
      "on file: Data_2016_HHWWggTag_0_MoreVars_v2.root\n"
     ]
    },
    {
     "name": "stderr",
     "output_type": "stream",
     "text": [
      "/tmp/ipykernel_1560/2218762121.py:59: FutureWarning: Using a non-tuple sequence for multidimensional indexing is deprecated; use `arr[tuple(seq)]` instead of `arr[seq]`. In the future this will be interpreted as an array index, `arr[np.array(seq)]`, which will result either in an error or a different result.\n",
      "  CMS_hgg_mass = CMS_hgg_mass[BLIND_SR_CUT]\n",
      "/tmp/ipykernel_1560/2218762121.py:60: FutureWarning: Using a non-tuple sequence for multidimensional indexing is deprecated; use `arr[tuple(seq)]` instead of `arr[seq]`. In the future this will be interpreted as an array index, `arr[np.array(seq)]`, which will result either in an error or a different result.\n",
      "  evalDNN_HH = evalDNN_HH[BLIND_SR_CUT]\n",
      "/tmp/ipykernel_1560/2218762121.py:69: FutureWarning: Using a non-tuple sequence for multidimensional indexing is deprecated; use `arr[tuple(seq)]` instead of `arr[seq]`. In the future this will be interpreted as an array index, `arr[np.array(seq)]`, which will result either in an error or a different result.\n",
      "  CMS_hgg_mass = CMS_hgg_mass[DNN_CUT_MASK]\n"
     ]
    },
    {
     "name": "stdout",
     "output_type": "stream",
     "text": [
      "on file: Data_2017_HHWWggTag_0_MoreVars_v2.root\n",
      "on file: Data_2018_HHWWggTag_0_MoreVars_v2.root\n",
      "DNNcut: 0.9\n",
      "on file: Data_2016_HHWWggTag_0_MoreVars_v2.root\n"
     ]
    },
    {
     "name": "stderr",
     "output_type": "stream",
     "text": [
      "/tmp/ipykernel_1560/2218762121.py:59: FutureWarning: Using a non-tuple sequence for multidimensional indexing is deprecated; use `arr[tuple(seq)]` instead of `arr[seq]`. In the future this will be interpreted as an array index, `arr[np.array(seq)]`, which will result either in an error or a different result.\n",
      "  CMS_hgg_mass = CMS_hgg_mass[BLIND_SR_CUT]\n",
      "/tmp/ipykernel_1560/2218762121.py:60: FutureWarning: Using a non-tuple sequence for multidimensional indexing is deprecated; use `arr[tuple(seq)]` instead of `arr[seq]`. In the future this will be interpreted as an array index, `arr[np.array(seq)]`, which will result either in an error or a different result.\n",
      "  evalDNN_HH = evalDNN_HH[BLIND_SR_CUT]\n",
      "/tmp/ipykernel_1560/2218762121.py:69: FutureWarning: Using a non-tuple sequence for multidimensional indexing is deprecated; use `arr[tuple(seq)]` instead of `arr[seq]`. In the future this will be interpreted as an array index, `arr[np.array(seq)]`, which will result either in an error or a different result.\n",
      "  CMS_hgg_mass = CMS_hgg_mass[DNN_CUT_MASK]\n"
     ]
    },
    {
     "name": "stdout",
     "output_type": "stream",
     "text": [
      "on file: Data_2017_HHWWggTag_0_MoreVars_v2.root\n",
      "on file: Data_2018_HHWWggTag_0_MoreVars_v2.root\n",
      "DNNcut: 0.95\n",
      "on file: Data_2016_HHWWggTag_0_MoreVars_v2.root\n"
     ]
    },
    {
     "name": "stderr",
     "output_type": "stream",
     "text": [
      "/tmp/ipykernel_1560/2218762121.py:59: FutureWarning: Using a non-tuple sequence for multidimensional indexing is deprecated; use `arr[tuple(seq)]` instead of `arr[seq]`. In the future this will be interpreted as an array index, `arr[np.array(seq)]`, which will result either in an error or a different result.\n",
      "  CMS_hgg_mass = CMS_hgg_mass[BLIND_SR_CUT]\n",
      "/tmp/ipykernel_1560/2218762121.py:60: FutureWarning: Using a non-tuple sequence for multidimensional indexing is deprecated; use `arr[tuple(seq)]` instead of `arr[seq]`. In the future this will be interpreted as an array index, `arr[np.array(seq)]`, which will result either in an error or a different result.\n",
      "  evalDNN_HH = evalDNN_HH[BLIND_SR_CUT]\n",
      "/tmp/ipykernel_1560/2218762121.py:69: FutureWarning: Using a non-tuple sequence for multidimensional indexing is deprecated; use `arr[tuple(seq)]` instead of `arr[seq]`. In the future this will be interpreted as an array index, `arr[np.array(seq)]`, which will result either in an error or a different result.\n",
      "  CMS_hgg_mass = CMS_hgg_mass[DNN_CUT_MASK]\n"
     ]
    },
    {
     "name": "stdout",
     "output_type": "stream",
     "text": [
      "on file: Data_2017_HHWWggTag_0_MoreVars_v2.root\n",
      "on file: Data_2018_HHWWggTag_0_MoreVars_v2.root\n",
      "DONE\n"
     ]
    }
   ],
   "source": [
    "##-- Plot the same but for data sidebands \n",
    "\n",
    "useDNNCategories = 0\n",
    "\n",
    "Data_Files = [\n",
    "      \"Data_2016_HHWWggTag_0_MoreVars_v2.root\",\n",
    "      \"Data_2017_HHWWggTag_0_MoreVars_v2.root\",\n",
    "      \"Data_2018_HHWWggTag_0_MoreVars_v2.root\",\n",
    "#         \"Data_2016_HHWWggTag_0_MoreVars_v2_nodeNumber%s.root\"%(nodeNumber),\n",
    "#         \"Data_2017_HHWWggTag_0_MoreVars_v2_nodeNumber%s.root\"%(nodeNumber),\n",
    "#         \"Data_2018_HHWWggTag_0_MoreVars_v2_nodeNumber%s.root\"%(nodeNumber),    \n",
    "]\n",
    "\n",
    "if(useDNNCategories):\n",
    "    DNNcuts = [\n",
    "        [0.1, 0.63],\n",
    "        [0.63, 0.84],\n",
    "        [0.84, 0.89],\n",
    "        [0.89, 1.1]\n",
    "    ]\n",
    "    \n",
    "else:\n",
    "    # DNNcuts = [0.0, 0.1, 0.2, 0.3, 0.4, 0.5, 0.6, 0.7, 0.8, 0.9]\n",
    "    DNNcuts = [float(i)/20. for i in range(0,20)]\n",
    "    # DNNcuts = [0.0]\n",
    "\n",
    "#DNNcuts = [float(i)/20. for i in range(0,20)]\n",
    "\n",
    "\n",
    "xmin, xmax, nbins = 100, 180, 16\n",
    "\n",
    "for DNNcut in DNNcuts:\n",
    "    if(useDNNCategories):\n",
    "        DNNcut_min, DNNcut_max = DNNcut[0], DNNcut[1]\n",
    "    else:\n",
    "        pass\n",
    "    print(\"DNNcut:\",DNNcut)    \n",
    "\n",
    "    Data_Sideband_Diphomass = np.array([0.] * nbins, dtype = float) ##-- 80 bins \n",
    "    for file in files:\n",
    "        fileEnd = file.split('/')[-1]\n",
    "        if fileEnd in Data_Files:\n",
    "            \n",
    "            ##-- Get File \n",
    "            print(\"on file:\",fileEnd)\n",
    "            f = uproot.open(file)\n",
    "            treeName = f.keys()[0] ##-- Assuming one tree \n",
    "            if(nTrees == 1): \n",
    "                #print(\"Only one tree found:\")\n",
    "                treeName = f.keys()[0]\n",
    "            else: \n",
    "                treeName = treeDictionary[fileEnd]            \n",
    "            t = f[treeName]\n",
    "            CMS_hgg_mass = np.array(t[\"CMS_hgg_mass\"].array())\n",
    "            evalDNN_HH = np.array(t[\"evalDNN_HH\"].array())\n",
    "            \n",
    "            ##-- Obtain signal region blinded variable distributions\n",
    "            BLIND_SR_CUT = [np.logical_or(CMS_hgg_mass < 115, CMS_hgg_mass > 135)]\n",
    "            CMS_hgg_mass = CMS_hgg_mass[BLIND_SR_CUT]\n",
    "            evalDNN_HH = evalDNN_HH[BLIND_SR_CUT]\n",
    "            \n",
    "            ##-- Keep events only which pass DNN score selection \n",
    "            #DNN_CUT_MASK = [evalDNN_HH > DNNcut]\n",
    "            if(useDNNCategories):\n",
    "                DNN_CUT_MASK = np.logical_and(evalDNN_HH >= DNNcut_min, evalDNN_HH < DNNcut_max)\n",
    "            else:\n",
    "                DNN_CUT_MASK = [evalDNN_HH > DNNcut]            \n",
    "            \n",
    "            CMS_hgg_mass = CMS_hgg_mass[DNN_CUT_MASK]\n",
    "            bins = np.linspace(xmin, xmax, nbins + 1)\n",
    "            binHeights_thisFile, bin_edges = np.histogram(CMS_hgg_mass, bins = bins)\n",
    "\n",
    "            Data_Sideband_Diphomass = np.add(Data_Sideband_Diphomass, binHeights_thisFile)\n",
    "\n",
    "\n",
    "    fig, ax = plt.subplots()\n",
    "    bins = np.linspace(xmin, xmax, nbins + 1)\n",
    "    yerrors = np.sqrt(Data_Sideband_Diphomass)\n",
    "\n",
    "    bin_centers = [ ((bins[i + 1] - bins[i] ) / 2.) + bins[i] for i in range(len(bins) - 1)] \n",
    "\n",
    "    ymin = min(Data_Sideband_Diphomass)\n",
    "    if(ymin > 0): \n",
    "        ymin = 0.0\n",
    "    ymax = max(Data_Sideband_Diphomass) * 1.25 ##-- Make sure there is room for the legend     \n",
    "    \n",
    "    plt.hist(bins[:-1], weights = Data_Sideband_Diphomass, bins = bins, histtype = 'bar')\n",
    "#     print(\"scatter x:\",bins[:-1])\n",
    "#     print(\"scatter y:\",Data_Sideband_Diphomass)\n",
    "    plt.plot(bin_centers, Data_Sideband_Diphomass, 'o', label = \"Data Sideband: DNN score > %s\"%(DNNcut), color = 'black')\n",
    "    plt.errorbar(bin_centers, Data_Sideband_Diphomass, yerr = yerrors, linestyle = '', ecolor = 'black')\n",
    "    plt.legend(fontsize = 15)\n",
    "    plt.ylabel(\"Entries [A.U.]\", fontsize = 15)\n",
    "    plt.xlabel(r\"$m_{\\gamma\\gamma}$ [GeV]\", fontsize = 15)\n",
    "    plt.ylim(ymin, ymax)\n",
    "\n",
    "    ##-- Make sure output directory exists \n",
    "#     outDir = \"/eos/user/a/atishelm/www/HHWWgg/AN_v4_MC_Validation/Data_Sideband/\"\n",
    "    #outDir = \"/eos/user/a/atishelm/www/HHWWgg/AN_v7_MC_Validation/Data_Sideband/\"\n",
    "    outDir = \"/eos/user/a/atishelm/www/HIG-21-014/AN_20_165_v7/SM_DNN_MC_Validation_withMETFix/Data_Sideband/\"\n",
    "    if(not os.path.exists(outDir)):\n",
    "        print(\"Output directory %s does not exist\"%(outDir))\n",
    "        print(\"Creating directory\")\n",
    "        os.system(\"mkdir %s\"%(outDir))\n",
    "        os.system(\"cp %s/../index.php %s\"%(outDir, outDir))\n",
    "        \n",
    "    DNNcut_Name = str(DNNcut)\n",
    "    DNNcut_Name = DNNcut_Name.replace(\".\", \"p\")\n",
    "\n",
    "    plt.savefig(\"%s/Data_Sideband_DNNgt_%s.png\"%(outDir, DNNcut_Name))\n",
    "    plt.savefig(\"%s/Data_Sideband_DNNgt_%s.pdf\"%(outDir, DNNcut_Name))\n",
    "    plt.close()\n",
    "\n",
    "print(\"DONE\")"
   ]
  },
  {
   "cell_type": "code",
   "execution_count": null,
   "id": "multiple-impression",
   "metadata": {},
   "outputs": [],
   "source": []
  }
 ],
 "metadata": {
  "kernelspec": {
   "display_name": "Python 3",
   "language": "python",
   "name": "python3"
  },
  "language_info": {
   "codemirror_mode": {
    "name": "ipython",
    "version": 3
   },
   "file_extension": ".py",
   "mimetype": "text/x-python",
   "name": "python",
   "nbconvert_exporter": "python",
   "pygments_lexer": "ipython3",
   "version": "3.9.6"
  }
 },
 "nbformat": 4,
 "nbformat_minor": 5
}
