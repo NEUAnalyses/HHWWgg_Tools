{
 "cells": [
  {
   "cell_type": "code",
   "execution_count": 1,
   "id": "successful-saver",
   "metadata": {},
   "outputs": [],
   "source": [
    "##################################################################################################################\n",
    "# 31 March 2021                                                                                                  #\n",
    "# Abraham Tishelman-Charny                                                                                       #\n",
    "#                                                                                                                #\n",
    "# The purpose of this notebook is to compare LO -> NLO reweighted distributions to NLO distributions.            #\n",
    "##################################################################################################################"
   ]
  },
  {
   "cell_type": "code",
   "execution_count": 2,
   "id": "greater-northwest",
   "metadata": {},
   "outputs": [],
   "source": [
    "import uproot \n",
    "# from uproot import concatenate \n",
    "import numpy as np \n",
    "from matplotlib import pyplot as plt \n",
    "import os "
   ]
  },
  {
   "cell_type": "code",
   "execution_count": 3,
   "id": "checked-peoples",
   "metadata": {},
   "outputs": [],
   "source": [
    "# # nodes = [\"1\", \"2\", \"3\", \"4\", \"5\", \"6\", \"7\", \"8\", \"9\", \"10\", \"11\", \"12\", \"SM\"]\n",
    "# nodes = [\"11\", \"12\", \"SM\"]\n",
    "# LO_NLO_Direc = \"/eos/user/b/bmarzocc/HHWWgg/January_2021_Production/2017/Signal/\"\n",
    "# paths_LO_NLO = [\"%s/GluGluToHHTo2G2Qlnu_node_%s_2017_LO_withNLOweights_HHWWggTag_0_MoreVars.root\"%(LO_NLO_Direc, node) for node in nodes]\n",
    "\n",
    "# p_LO_NLO = \"/eos/user/b/bmarzocc/HHWWgg/January_2021_Production/2017/Signal/GluGluToHHTo2G2Qlnu_node_SM_2017_LO_withNLOweights_HHWWggTag_0_MoreVars.root\"\n",
    "# p_NLO = \"/eos/user/b/bmarzocc/HHWWgg/January_2021_Production/2017/Signal/SL_NLO_2017_hadded/GluGluToHHTo2G2Qlnu_node_cHHH1_2017_HHWWggTag_0_MoreVars.root\"\n",
    "# f_LO_NLO = uproot.open(p_LO_NLO)\n",
    "# f_NLO = uproot.open(p_NLO)"
   ]
  },
  {
   "cell_type": "code",
   "execution_count": null,
   "id": "senior-sampling",
   "metadata": {},
   "outputs": [],
   "source": [
    "# ##-- Want a plot for each DNN input variable: \n",
    "# ##-- For both cases: LO distribution reweighted to NLO, NLO distribution \n",
    "# ##-- Ratio\n",
    "\n",
    "# t_LO_NLO = f_LO_NLO[\"GluGluToHHTo2G2Qlnu_node_SM_13TeV_HHWWggTag_0_v1\"]\n",
    "# t_NLO = f_NLO[\"GluGluToHHTo2G2Qlnu_node_cHHH1_13TeV_HHWWggTag_0_v1\"]\n",
    "\n",
    "# ##-- Get MC Weights \n",
    "# LO_NLO_weight = t_LO_NLO['weight'].array()\n",
    "# LO_NLO_weight_NLO_SM = t_LO_NLO['weight_NLO_SM'].array()  \n",
    "# LO_NLO_Full_Weight = np.multiply(LO_NLO_weight, LO_NLO_weight_NLO_SM)\n",
    "\n",
    "# NLO_weight = t_NLO['weight'].array()"
   ]
  },
  {
   "cell_type": "code",
   "execution_count": 14,
   "id": "cross-combine",
   "metadata": {},
   "outputs": [],
   "source": [
    "##-- NLO sample weights\n",
    "p_NLO = \"/eos/user/a/atishelm/ntuples/HHWWgg_flashgg/January_2021_Production/HIG_21_014_PostPreApprovalTalk_SMResults/2017/Signal/GluGluToHHTo2G2Qlnu_node_cHHH1_2017.root\"\n",
    "# p_NLO = \"/eos/user/b/bmarzocc/HHWWgg/January_2021_Production/2017/Signal/SL_NLO_2017_hadded/GluGluToHHTo2G2Qlnu_node_cHHH1_2017_HHWWggTag_0_MoreVars.root\"\n",
    "f_NLO = uproot.open(p_NLO)\n",
    "t_NLO = f_NLO[\"GluGluToHHTo2G2Qlnu_node_cHHH1_13TeV_HHWWggTag_0\"]\n",
    "NLO_weight = np.array(t_NLO['weight'].array())"
   ]
  },
  {
   "cell_type": "code",
   "execution_count": 9,
   "id": "falling-release",
   "metadata": {},
   "outputs": [
    {
     "name": "stdout",
     "output_type": "stream",
     "text": [
      "Adding file weights: /eos/cms/store/group/phys_higgs/cmshgg/atishelm/flashgg/HIG-21-014/January_2021_Production/2017/Signal_EFT/SL_LO_2017_noPdfWeight_hadded//GluGluToHHTo2G2Qlnu_node_1_2017_HHWWggTag_0_MoreVars_v2.root\n",
      "Adding file weights: /eos/cms/store/group/phys_higgs/cmshgg/atishelm/flashgg/HIG-21-014/January_2021_Production/2017/Signal_EFT/SL_LO_2017_noPdfWeight_hadded//GluGluToHHTo2G2Qlnu_node_2_2017_HHWWggTag_0_MoreVars_v2.root\n",
      "Adding file weights: /eos/cms/store/group/phys_higgs/cmshgg/atishelm/flashgg/HIG-21-014/January_2021_Production/2017/Signal_EFT/SL_LO_2017_noPdfWeight_hadded//GluGluToHHTo2G2Qlnu_node_3_2017_HHWWggTag_0_MoreVars_v2.root\n",
      "Adding file weights: /eos/cms/store/group/phys_higgs/cmshgg/atishelm/flashgg/HIG-21-014/January_2021_Production/2017/Signal_EFT/SL_LO_2017_noPdfWeight_hadded//GluGluToHHTo2G2Qlnu_node_4_2017_HHWWggTag_0_MoreVars_v2.root\n",
      "Adding file weights: /eos/cms/store/group/phys_higgs/cmshgg/atishelm/flashgg/HIG-21-014/January_2021_Production/2017/Signal_EFT/SL_LO_2017_noPdfWeight_hadded//GluGluToHHTo2G2Qlnu_node_5_2017_HHWWggTag_0_MoreVars_v2.root\n",
      "Adding file weights: /eos/cms/store/group/phys_higgs/cmshgg/atishelm/flashgg/HIG-21-014/January_2021_Production/2017/Signal_EFT/SL_LO_2017_noPdfWeight_hadded//GluGluToHHTo2G2Qlnu_node_6_2017_HHWWggTag_0_MoreVars_v2.root\n",
      "Adding file weights: /eos/cms/store/group/phys_higgs/cmshgg/atishelm/flashgg/HIG-21-014/January_2021_Production/2017/Signal_EFT/SL_LO_2017_noPdfWeight_hadded//GluGluToHHTo2G2Qlnu_node_7_2017_HHWWggTag_0_MoreVars_v2.root\n",
      "Adding file weights: /eos/cms/store/group/phys_higgs/cmshgg/atishelm/flashgg/HIG-21-014/January_2021_Production/2017/Signal_EFT/SL_LO_2017_noPdfWeight_hadded//GluGluToHHTo2G2Qlnu_node_8_2017_HHWWggTag_0_MoreVars_v2.root\n",
      "Adding file weights: /eos/cms/store/group/phys_higgs/cmshgg/atishelm/flashgg/HIG-21-014/January_2021_Production/2017/Signal_EFT/SL_LO_2017_noPdfWeight_hadded//GluGluToHHTo2G2Qlnu_node_9_2017_HHWWggTag_0_MoreVars_v2.root\n",
      "Adding file weights: /eos/cms/store/group/phys_higgs/cmshgg/atishelm/flashgg/HIG-21-014/January_2021_Production/2017/Signal_EFT/SL_LO_2017_noPdfWeight_hadded//GluGluToHHTo2G2Qlnu_node_10_2017_HHWWggTag_0_MoreVars_v2.root\n",
      "Adding file weights: /eos/cms/store/group/phys_higgs/cmshgg/atishelm/flashgg/HIG-21-014/January_2021_Production/2017/Signal_EFT/SL_LO_2017_noPdfWeight_hadded//GluGluToHHTo2G2Qlnu_node_11_2017_HHWWggTag_0_MoreVars_v2.root\n",
      "Adding file weights: /eos/cms/store/group/phys_higgs/cmshgg/atishelm/flashgg/HIG-21-014/January_2021_Production/2017/Signal_EFT/SL_LO_2017_noPdfWeight_hadded//GluGluToHHTo2G2Qlnu_node_12_2017_HHWWggTag_0_MoreVars_v2.root\n",
      "Adding file weights: /eos/cms/store/group/phys_higgs/cmshgg/atishelm/flashgg/HIG-21-014/January_2021_Production/2017/Signal_EFT/SL_LO_2017_noPdfWeight_hadded//GluGluToHHTo2G2Qlnu_node_SM_2017_HHWWggTag_0_MoreVars_v2.root\n"
     ]
    }
   ],
   "source": [
    "##-- LO_NLO sample weights\n",
    "nodes = [\"1\", \"2\", \"3\", \"4\",\"5\",\"6\", \"7\", \"8\", \"9\", \"10\", \"11\", \"12\", \"SM\"]\n",
    "LO_NLO_Full_Weight = np.array([])\n",
    "#BM_Direc = \"/eos/user/b/bmarzocc/HHWWgg/January_2021_Production/2017/Signal_EFT/SL_LO_2017_noPdfWeight_hadded/\"\n",
    "BM_Direc = \"/eos/cms/store/group/phys_higgs/cmshgg/atishelm/flashgg/HIG-21-014/January_2021_Production/2017/Signal_EFT/SL_LO_2017_noPdfWeight_hadded/\"\n",
    "\n",
    "for node in nodes:\n",
    "    path = \"%s/GluGluToHHTo2G2Qlnu_node_%s_2017_HHWWggTag_0_MoreVars_v2.root\"%(BM_Direc, node)\n",
    "    f = uproot.open(path)\n",
    "    t = f[\"GluGluToHHTo2G2Qlnu_node_%s_13TeV_HHWWggTag_0_v1\"%(node)]\n",
    "    print(\"Adding file weights:\",path)\n",
    "    LO_NLO_weight = t['weight'].array()\n",
    "    LO_NLO_weight_NLO_SM = t['weight_NLO_SM'].array()\n",
    "    LO_NLO_Full_Weight_thisNode = np.array(np.multiply(LO_NLO_weight, LO_NLO_weight_NLO_SM))\n",
    "#     print(\"LO_NLO_Full_Weight_thisNode:\",LO_NLO_Full_Weight_thisNode)\n",
    "#     print(\"LO_NLO_Full_Weight:\",LO_NLO_Full_Weight)\n",
    "    LO_NLO_Full_Weight = np.append(LO_NLO_Full_Weight, LO_NLO_Full_Weight_thisNode)\n",
    "\n",
    "# print(\"LO_NLO_Full_Weight:\",LO_NLO_Full_Weight)\n",
    "print(\"DONE\")"
   ]
  },
  {
   "cell_type": "code",
   "execution_count": 23,
   "id": "applicable-conversation",
   "metadata": {},
   "outputs": [
    {
     "name": "stdout",
     "output_type": "stream",
     "text": [
      "On variable: Scaled_Leading_Photon_E\n"
     ]
    },
    {
     "name": "stderr",
     "output_type": "stream",
     "text": [
      "/tmp/ipykernel_694/3414420698.py:377: UserWarning: This figure includes Axes that are not compatible with tight_layout, so results might be incorrect.\n",
      "  fig.tight_layout()\n"
     ]
    },
    {
     "name": "stdout",
     "output_type": "stream",
     "text": [
      "On variable: Scaled_Subleading_Photon_E\n"
     ]
    },
    {
     "name": "stderr",
     "output_type": "stream",
     "text": [
      "/tmp/ipykernel_694/3414420698.py:377: UserWarning: This figure includes Axes that are not compatible with tight_layout, so results might be incorrect.\n",
      "  fig.tight_layout()\n"
     ]
    },
    {
     "name": "stdout",
     "output_type": "stream",
     "text": [
      "On variable: Leading_Jet_bscore\n"
     ]
    },
    {
     "name": "stderr",
     "output_type": "stream",
     "text": [
      "/tmp/ipykernel_694/3414420698.py:377: UserWarning: This figure includes Axes that are not compatible with tight_layout, so results might be incorrect.\n",
      "  fig.tight_layout()\n"
     ]
    },
    {
     "name": "stdout",
     "output_type": "stream",
     "text": [
      "On variable: Subleading_Jet_bscore\n"
     ]
    },
    {
     "name": "stderr",
     "output_type": "stream",
     "text": [
      "/tmp/ipykernel_694/3414420698.py:377: UserWarning: This figure includes Axes that are not compatible with tight_layout, so results might be incorrect.\n",
      "  fig.tight_layout()\n"
     ]
    },
    {
     "name": "stdout",
     "output_type": "stream",
     "text": [
      "On variable: Scaled_Leading_Photon_pt\n"
     ]
    },
    {
     "name": "stderr",
     "output_type": "stream",
     "text": [
      "/tmp/ipykernel_694/3414420698.py:377: UserWarning: This figure includes Axes that are not compatible with tight_layout, so results might be incorrect.\n",
      "  fig.tight_layout()\n"
     ]
    },
    {
     "name": "stdout",
     "output_type": "stream",
     "text": [
      "On variable: Scaled_Subleading_Photon_pt\n"
     ]
    },
    {
     "name": "stderr",
     "output_type": "stream",
     "text": [
      "/tmp/ipykernel_694/3414420698.py:377: UserWarning: This figure includes Axes that are not compatible with tight_layout, so results might be incorrect.\n",
      "  fig.tight_layout()\n"
     ]
    },
    {
     "name": "stdout",
     "output_type": "stream",
     "text": [
      "On variable: METCor_phi\n"
     ]
    },
    {
     "name": "stderr",
     "output_type": "stream",
     "text": [
      "/tmp/ipykernel_694/3414420698.py:377: UserWarning: This figure includes Axes that are not compatible with tight_layout, so results might be incorrect.\n",
      "  fig.tight_layout()\n"
     ]
    },
    {
     "name": "stdout",
     "output_type": "stream",
     "text": [
      "On variable: CMS_hgg_mass\n"
     ]
    },
    {
     "name": "stderr",
     "output_type": "stream",
     "text": [
      "/tmp/ipykernel_694/3414420698.py:377: UserWarning: This figure includes Axes that are not compatible with tight_layout, so results might be incorrect.\n",
      "  fig.tight_layout()\n"
     ]
    },
    {
     "name": "stdout",
     "output_type": "stream",
     "text": [
      "On variable: Leading_Photon_pt\n"
     ]
    },
    {
     "name": "stderr",
     "output_type": "stream",
     "text": [
      "/tmp/ipykernel_694/3414420698.py:377: UserWarning: This figure includes Axes that are not compatible with tight_layout, so results might be incorrect.\n",
      "  fig.tight_layout()\n"
     ]
    },
    {
     "name": "stdout",
     "output_type": "stream",
     "text": [
      "On variable: Subleading_Photon_pt\n"
     ]
    },
    {
     "name": "stderr",
     "output_type": "stream",
     "text": [
      "/tmp/ipykernel_694/3414420698.py:377: UserWarning: This figure includes Axes that are not compatible with tight_layout, so results might be incorrect.\n",
      "  fig.tight_layout()\n"
     ]
    },
    {
     "name": "stdout",
     "output_type": "stream",
     "text": [
      "On variable: Leading_Photon_E\n"
     ]
    },
    {
     "name": "stderr",
     "output_type": "stream",
     "text": [
      "/tmp/ipykernel_694/3414420698.py:377: UserWarning: This figure includes Axes that are not compatible with tight_layout, so results might be incorrect.\n",
      "  fig.tight_layout()\n"
     ]
    },
    {
     "name": "stdout",
     "output_type": "stream",
     "text": [
      "On variable: Subleading_Photon_E\n"
     ]
    },
    {
     "name": "stderr",
     "output_type": "stream",
     "text": [
      "/tmp/ipykernel_694/3414420698.py:377: UserWarning: This figure includes Axes that are not compatible with tight_layout, so results might be incorrect.\n",
      "  fig.tight_layout()\n"
     ]
    },
    {
     "name": "stdout",
     "output_type": "stream",
     "text": [
      "On variable: CMS_hgg_mass\n"
     ]
    },
    {
     "name": "stderr",
     "output_type": "stream",
     "text": [
      "/tmp/ipykernel_694/3414420698.py:377: UserWarning: This figure includes Axes that are not compatible with tight_layout, so results might be incorrect.\n",
      "  fig.tight_layout()\n"
     ]
    },
    {
     "name": "stdout",
     "output_type": "stream",
     "text": [
      "On variable: goodJets_0_pt\n"
     ]
    },
    {
     "name": "stderr",
     "output_type": "stream",
     "text": [
      "/tmp/ipykernel_694/3414420698.py:377: UserWarning: This figure includes Axes that are not compatible with tight_layout, so results might be incorrect.\n",
      "  fig.tight_layout()\n"
     ]
    },
    {
     "name": "stdout",
     "output_type": "stream",
     "text": [
      "On variable: goodLepton_pt\n"
     ]
    },
    {
     "name": "stderr",
     "output_type": "stream",
     "text": [
      "/tmp/ipykernel_694/3414420698.py:377: UserWarning: This figure includes Axes that are not compatible with tight_layout, so results might be incorrect.\n",
      "  fig.tight_layout()\n"
     ]
    },
    {
     "name": "stdout",
     "output_type": "stream",
     "text": [
      "On variable: Wmass_goodJets12\n"
     ]
    },
    {
     "name": "stderr",
     "output_type": "stream",
     "text": [
      "/tmp/ipykernel_694/3414420698.py:377: UserWarning: This figure includes Axes that are not compatible with tight_layout, so results might be incorrect.\n",
      "  fig.tight_layout()\n"
     ]
    },
    {
     "name": "stdout",
     "output_type": "stream",
     "text": [
      "On variable: goodJets_1_E\n"
     ]
    },
    {
     "name": "stderr",
     "output_type": "stream",
     "text": [
      "/tmp/ipykernel_694/3414420698.py:377: UserWarning: This figure includes Axes that are not compatible with tight_layout, so results might be incorrect.\n",
      "  fig.tight_layout()\n"
     ]
    },
    {
     "name": "stdout",
     "output_type": "stream",
     "text": [
      "On variable: goodJets_1_pt\n"
     ]
    },
    {
     "name": "stderr",
     "output_type": "stream",
     "text": [
      "/tmp/ipykernel_694/3414420698.py:377: UserWarning: This figure includes Axes that are not compatible with tight_layout, so results might be incorrect.\n",
      "  fig.tight_layout()\n"
     ]
    },
    {
     "name": "stdout",
     "output_type": "stream",
     "text": [
      "On variable: goodLepton_E\n"
     ]
    },
    {
     "name": "stderr",
     "output_type": "stream",
     "text": [
      "/tmp/ipykernel_694/3414420698.py:377: UserWarning: This figure includes Axes that are not compatible with tight_layout, so results might be incorrect.\n",
      "  fig.tight_layout()\n"
     ]
    },
    {
     "name": "stdout",
     "output_type": "stream",
     "text": [
      "On variable: METCor_pt\n"
     ]
    },
    {
     "name": "stderr",
     "output_type": "stream",
     "text": [
      "/tmp/ipykernel_694/3414420698.py:377: UserWarning: This figure includes Axes that are not compatible with tight_layout, so results might be incorrect.\n",
      "  fig.tight_layout()\n"
     ]
    },
    {
     "name": "stdout",
     "output_type": "stream",
     "text": [
      "On variable: goodJets_0_E\n"
     ]
    },
    {
     "name": "stderr",
     "output_type": "stream",
     "text": [
      "/tmp/ipykernel_694/3414420698.py:377: UserWarning: This figure includes Axes that are not compatible with tight_layout, so results might be incorrect.\n",
      "  fig.tight_layout()\n"
     ]
    },
    {
     "name": "stdout",
     "output_type": "stream",
     "text": [
      "On variable: goodLepton_phi\n"
     ]
    },
    {
     "name": "stderr",
     "output_type": "stream",
     "text": [
      "/tmp/ipykernel_694/3414420698.py:377: UserWarning: This figure includes Axes that are not compatible with tight_layout, so results might be incorrect.\n",
      "  fig.tight_layout()\n"
     ]
    },
    {
     "name": "stdout",
     "output_type": "stream",
     "text": [
      "On variable: Leading_Photon_MVA\n"
     ]
    },
    {
     "name": "stderr",
     "output_type": "stream",
     "text": [
      "/tmp/ipykernel_694/3414420698.py:377: UserWarning: This figure includes Axes that are not compatible with tight_layout, so results might be incorrect.\n",
      "  fig.tight_layout()\n"
     ]
    },
    {
     "name": "stdout",
     "output_type": "stream",
     "text": [
      "On variable: goodLepton_eta\n"
     ]
    },
    {
     "name": "stderr",
     "output_type": "stream",
     "text": [
      "/tmp/ipykernel_694/3414420698.py:377: UserWarning: This figure includes Axes that are not compatible with tight_layout, so results might be incorrect.\n",
      "  fig.tight_layout()\n"
     ]
    },
    {
     "name": "stdout",
     "output_type": "stream",
     "text": [
      "On variable: goodJets_1_eta\n"
     ]
    },
    {
     "name": "stderr",
     "output_type": "stream",
     "text": [
      "/tmp/ipykernel_694/3414420698.py:377: UserWarning: This figure includes Axes that are not compatible with tight_layout, so results might be incorrect.\n",
      "  fig.tight_layout()\n"
     ]
    },
    {
     "name": "stdout",
     "output_type": "stream",
     "text": [
      "On variable: goodJets_1_phi\n"
     ]
    },
    {
     "name": "stderr",
     "output_type": "stream",
     "text": [
      "/tmp/ipykernel_694/3414420698.py:377: UserWarning: This figure includes Axes that are not compatible with tight_layout, so results might be incorrect.\n",
      "  fig.tight_layout()\n"
     ]
    },
    {
     "name": "stdout",
     "output_type": "stream",
     "text": [
      "On variable: Subleading_Photon_eta\n"
     ]
    },
    {
     "name": "stderr",
     "output_type": "stream",
     "text": [
      "/tmp/ipykernel_694/3414420698.py:377: UserWarning: This figure includes Axes that are not compatible with tight_layout, so results might be incorrect.\n",
      "  fig.tight_layout()\n"
     ]
    },
    {
     "name": "stdout",
     "output_type": "stream",
     "text": [
      "On variable: Subleading_Photon_phi\n"
     ]
    },
    {
     "name": "stderr",
     "output_type": "stream",
     "text": [
      "/tmp/ipykernel_694/3414420698.py:377: UserWarning: This figure includes Axes that are not compatible with tight_layout, so results might be incorrect.\n",
      "  fig.tight_layout()\n"
     ]
    },
    {
     "name": "stdout",
     "output_type": "stream",
     "text": [
      "On variable: N_goodJets\n"
     ]
    },
    {
     "name": "stderr",
     "output_type": "stream",
     "text": [
      "/tmp/ipykernel_694/3414420698.py:377: UserWarning: This figure includes Axes that are not compatible with tight_layout, so results might be incorrect.\n",
      "  fig.tight_layout()\n"
     ]
    },
    {
     "name": "stdout",
     "output_type": "stream",
     "text": [
      "On variable: goodJets_0_phi\n"
     ]
    },
    {
     "name": "stderr",
     "output_type": "stream",
     "text": [
      "/tmp/ipykernel_694/3414420698.py:377: UserWarning: This figure includes Axes that are not compatible with tight_layout, so results might be incorrect.\n",
      "  fig.tight_layout()\n"
     ]
    },
    {
     "name": "stdout",
     "output_type": "stream",
     "text": [
      "On variable: Leading_Photon_phi\n"
     ]
    },
    {
     "name": "stderr",
     "output_type": "stream",
     "text": [
      "/tmp/ipykernel_694/3414420698.py:377: UserWarning: This figure includes Axes that are not compatible with tight_layout, so results might be incorrect.\n",
      "  fig.tight_layout()\n"
     ]
    },
    {
     "name": "stdout",
     "output_type": "stream",
     "text": [
      "On variable: Subleading_Photon_MVA\n"
     ]
    },
    {
     "name": "stderr",
     "output_type": "stream",
     "text": [
      "/tmp/ipykernel_694/3414420698.py:377: UserWarning: This figure includes Axes that are not compatible with tight_layout, so results might be incorrect.\n",
      "  fig.tight_layout()\n"
     ]
    },
    {
     "name": "stdout",
     "output_type": "stream",
     "text": [
      "On variable: goodJets_0_eta\n"
     ]
    },
    {
     "name": "stderr",
     "output_type": "stream",
     "text": [
      "/tmp/ipykernel_694/3414420698.py:377: UserWarning: This figure includes Axes that are not compatible with tight_layout, so results might be incorrect.\n",
      "  fig.tight_layout()\n"
     ]
    },
    {
     "name": "stdout",
     "output_type": "stream",
     "text": [
      "On variable: Leading_Photon_eta\n"
     ]
    },
    {
     "name": "stderr",
     "output_type": "stream",
     "text": [
      "/tmp/ipykernel_694/3414420698.py:377: UserWarning: This figure includes Axes that are not compatible with tight_layout, so results might be incorrect.\n",
      "  fig.tight_layout()\n"
     ]
    },
    {
     "name": "stdout",
     "output_type": "stream",
     "text": [
      "On variable: Wmt_L\n"
     ]
    },
    {
     "name": "stderr",
     "output_type": "stream",
     "text": [
      "/tmp/ipykernel_694/3414420698.py:377: UserWarning: This figure includes Axes that are not compatible with tight_layout, so results might be incorrect.\n",
      "  fig.tight_layout()\n"
     ]
    },
    {
     "name": "stdout",
     "output_type": "stream",
     "text": [
      "DONE\n"
     ]
    }
   ],
   "source": [
    "ol = \"/eos/user/a/atishelm/www/HIG-21-014/AN_20_165_v7/Reweight_Validation/\"\n",
    "\n",
    "variables = [\n",
    "    \n",
    "##-- Combination of branches \n",
    "                \"Scaled_Leading_Photon_E\",\n",
    "                \"Scaled_Subleading_Photon_E\",\n",
    "                \"Leading_Jet_bscore\",\n",
    "                \"Subleading_Jet_bscore\",        \n",
    "                \"Scaled_Leading_Photon_pt\",\n",
    "                \"Scaled_Subleading_Photon_pt\",\n",
    "    \n",
    "##-- Existing Branches \n",
    "                 \"METCor_phi\",\n",
    "                \"CMS_hgg_mass\",\n",
    "                \"Leading_Photon_pt\",\n",
    "                \"Subleading_Photon_pt\",\n",
    "                \"Leading_Photon_E\",\n",
    "                \"Subleading_Photon_E\",\n",
    "                \"CMS_hgg_mass\",\n",
    "                \"goodJets_0_pt\",\n",
    "                \"goodLepton_pt\",\n",
    "                \"Wmass_goodJets12\",\n",
    "                \"goodJets_1_E\",\n",
    "                \"goodJets_1_pt\",\n",
    "                \"goodLepton_E\",\n",
    "                \"METCor_pt\",\n",
    "                \"goodJets_0_E\",\n",
    "                \"goodLepton_phi\",\n",
    "                \"Leading_Photon_MVA\",\n",
    "                \"goodLepton_eta\",\n",
    "                \"goodJets_1_eta\",\n",
    "                \"goodJets_1_phi\",\n",
    "                \"Subleading_Photon_eta\",\n",
    "                \"Subleading_Photon_phi\",\n",
    "                \"N_goodJets\",\n",
    "                \"goodJets_0_phi\",\n",
    "                \"Leading_Photon_phi\",\n",
    "                \"Subleading_Photon_MVA\",\n",
    "                \"goodJets_0_eta\",\n",
    "                \"Leading_Photon_eta\",\n",
    "                \"Wmt_L\" \n",
    "    \n",
    "]\n",
    "nbins_glob = 20\n",
    "VarInfoDict = {\n",
    "                    \"Leading_Photon_pt\": [nbins_glob,0,360, \"GeV\"],\n",
    "                    \"Subleading_Photon_pt\": [nbins_glob,0,200, \"GeV\"],\n",
    "                    \"Leading_Photon_E\": [nbins_glob,0,360, \"GeV\"],\n",
    "                    \"Subleading_Photon_E\": [nbins_glob,0,360, \"GeV\"],    \n",
    "                    \"CMS_hgg_mass\" : [nbins_glob, 115, 135, \"GeV\"],\n",
    "                    \"Leading_Photon_MVA\": [nbins_glob,-1,1, \"unitless\"],\n",
    "                    \"Subleading_Photon_MVA\": [nbins_glob,-1,1, \"unitless\"],\n",
    "                    \"goodJets_1_eta\" : [nbins_glob,-2.5,2.5, 'radians'],\n",
    "                    \"goodJets_1_phi\" : [nbins_glob,-3.14,3.15,'radians'],\n",
    "                    \"Leading_Photon_phi\" : [nbins_glob,-3.14,3.15,'radians'],\n",
    "                    \"goodJets_0_eta\" : [nbins_glob,-2.5,2.5, 'radians'],\n",
    "                    \"Leading_Photon_eta\" : [nbins_glob,-2.5,2.5, 'radians'],\n",
    "                    \"Subleading_Photon_eta\" : [nbins_glob,-2.5,2.5, 'radians'],\n",
    "                    \"Subleading_Photon_phi\" : [nbins_glob,-3.14,3.15,'radians'],\n",
    "                    \"N_goodJets\" : [5, 0, 5, \"unitless\"],\n",
    "                    \"goodJets_0_phi\" : [nbins_glob,-3.14,3.15,'radians'],\n",
    "\n",
    "                    \"METCor_phi\" : [nbins_glob,-3,3,'radians'],\n",
    "                #     \"CMS_hgg_mass\": [nbins_glob,100,180],\n",
    "                #     \"weight\":[nbins_glob,-10,10],\n",
    "                #     \"puweight\":[nbins_glob,-2,2],\n",
    "                #     \"mjj\" : [nbins_glob,0,300],\n",
    "                #     \"e_mT\" : [nbins_glob,0,300],\n",
    "                #     \"mu_mT\" : [nbins_glob,0,300],\n",
    "                #     \"dr_gg\" : [nbins_glob,0,3],\n",
    "                #     \"dr_jj\" : [nbins_glob,0,3],\n",
    "                #     \"pT_gg\" : [nbins_glob,0,400],\n",
    "\n",
    "                    \"goodJets_0_pt\" : [nbins_glob,0,500,\"GeV\"],\n",
    "                    \"goodLepton_pt\" : [nbins_glob,0,360, \"GeV\"],\n",
    "                    \"Wmass_goodJets12\": [nbins_glob,0,500, \"GeV\"],\n",
    "                    # \"Subleading_Photon_pt/CMS_hgg_mass\",\n",
    "                    \"goodJets_1_E\": [nbins_glob,0,300,\"GeV\"],\n",
    "                    \"goodJets_1_pt\": [nbins_glob,0,200,\"GeV\"],\n",
    "                    \"goodLepton_E\": [nbins_glob,0,360,\"GeV\"],\n",
    "                    \"METCor_pt\": [nbins_glob,0,250,\"GeV\"],\n",
    "                    \"goodJets_0_E\": [nbins_glob,0,360,\"GeV\"],\n",
    "                    \"Scaled_Leading_Photon_pt\" : [nbins_glob,0.2,1.5,\"unitless\"],\n",
    "                    \"Scaled_Subleading_Photon_pt\" : [nbins_glob,0.2,1.5,\"unitless\"],\n",
    "                    \"Scaled_Leading_Photon_E\" : [nbins_glob,0,1.5,\"unitless\"],\n",
    "                    \"Scaled_Subleading_Photon_E\" : [nbins_glob,0,1.5,\"unitless\"],\n",
    "                    \"Leading_Jet_bscore\" : [nbins_glob,0,1,\"unitless\"],\n",
    "                    \"Subleading_Jet_bscore\" : [nbins_glob,0,1,\"unitless\"],\n",
    "                    \"goodLepton_phi\" : [nbins_glob,-3.14,3.15,'radians'],\n",
    "                    \"goodLepton_eta\" : [nbins_glob,-2.5,2.5, 'radians'],\n",
    "                    \"Wmt_L\" : [nbins_glob,0,300,\"GeV\"],\n",
    "                    \"Leading_Jet_bscore\" : [nbins_glob, 0, 1, \"unitless\"],\n",
    "                    \"Subleading_Jet_bscore\" : [nbins_glob, 0, 1, \"unitless\"],\n",
    "}\n",
    "\n",
    "# specialVars = [\n",
    "#                 \"Scaled_Leading_Photon_E\",\n",
    "#                 \"Scaled_Subleading_Photon_E\",\n",
    "#                 \"Leading_Jet_bscore\",\n",
    "#                 \"Subleading_Jet_bscore\",        \n",
    "#                 \"Scaled_Leading_Photon_pt\",\n",
    "#                 Scaled_Subleading_Photon_pt,    \n",
    "# ]\n",
    "\n",
    "specialVars = {\n",
    "    \"Scaled_Leading_Photon_E\" : [\"divide\", \"Leading_Photon_E\", \"CMS_hgg_mass\"],\n",
    "    \"Scaled_Subleading_Photon_E\" : [\"divide\", \"Subleading_Photon_E\", \"CMS_hgg_mass\"],\n",
    "#     \"Leading_Jet_bscore\": [\"add\", \"Leading_Photon_E\", \"CMS_hgg_mass\"],\n",
    "#     \"Subleading_Jet_bscore\": [\"add\", \"Leading_Photon_E\", \"CMS_hgg_mass\"],        \n",
    "    \"Scaled_Leading_Photon_pt\": [\"divide\", \"Leading_Photon_pt\", \"CMS_hgg_mass\"],\n",
    "    \"Scaled_Subleading_Photon_pt\": [\"divide\", \"Subleading_Photon_pt\", \"CMS_hgg_mass\"],      \n",
    "}\n",
    "\n",
    "for v in variables:\n",
    "    print(\"On variable:\",v)\n",
    "    \n",
    "    ##-- Check if multiple branches needed\n",
    "    if v in specialVars.keys():\n",
    "        operation, v1, v2 = specialVars[v]\n",
    "        \n",
    "        ##-- NLO Variable\n",
    "        v1_vals_NLO = t_NLO[v1].array()\n",
    "        v2_vals_NLO = t_NLO[v2].array()  \n",
    "        exec(\"NLO_var = np.%s(v1_vals_NLO, v2_vals_NLO)\"%(operation))\n",
    "        \n",
    "        ##-- LO Variable from sum of benchmarks\n",
    "        v1_vals_LO_NLO = np.array([])\n",
    "        v2_vals_LO_NLO = np.array([])\n",
    "        for node in nodes:\n",
    "            #path = \"/eos/user/b/bmarzocc/HHWWgg/January_2021_Production/2017/Signal/GluGluToHHTo2G2Qlnu_node_%s_2017_LO_withNLOweights_HHWWggTag_0_MoreVars.root\"%(node)\n",
    "            #path = \"\"\n",
    "            path = \"%s/GluGluToHHTo2G2Qlnu_node_%s_2017_HHWWggTag_0_MoreVars_v2.root\"%(BM_Direc, node)\n",
    "            \n",
    "            f = uproot.open(path)\n",
    "            t = f[\"GluGluToHHTo2G2Qlnu_node_%s_13TeV_HHWWggTag_0_v1\"%(node)]\n",
    "            \n",
    "            v1_vals_LO_NLO_thisNode = np.array(t[v1].array())\n",
    "            v1_vals_LO_NLO = np.append(v1_vals_LO_NLO, v1_vals_LO_NLO_thisNode)\n",
    "            \n",
    "            v2_vals_LO_NLO_thisNode = np.array(t[v2].array())\n",
    "            v2_vals_LO_NLO = np.append(v2_vals_LO_NLO, v2_vals_LO_NLO_thisNode)            \n",
    "        \n",
    "        exec(\"LO_NLO_var = np.%s(v1_vals_LO_NLO, v2_vals_LO_NLO)\"%(operation))\n",
    "    elif v == \"Leading_Jet_bscore\":\n",
    "        \n",
    "        ##-- LO Variable from sum of benchmarks\n",
    "        LO_NLO_var = np.array([])\n",
    "        for node in nodes:\n",
    "            path = \"%s/GluGluToHHTo2G2Qlnu_node_%s_2017_HHWWggTag_0_MoreVars_v2.root\"%(BM_Direc, node)\n",
    "            #path = \"/eos/user/b/bmarzocc/HHWWgg/January_2021_Production/2017/Signal/GluGluToHHTo2G2Qlnu_node_%s_2017_LO_withNLOweights_HHWWggTag_0_MoreVars.root\"%(node)\n",
    "            f = uproot.open(path)\n",
    "            t = f[\"GluGluToHHTo2G2Qlnu_node_%s_13TeV_HHWWggTag_0_v1\"%(node)]\n",
    "        \n",
    "        \n",
    "            LO_NLO_var_thisNode_ = np.add(t[\"goodJets_0_bDiscriminator_mini_pfDeepFlavourJetTags_probb\"].array(), \n",
    "                                t[\"goodJets_0_bDiscriminator_mini_pfDeepFlavourJetTags_probbb\"].array())\n",
    "            LO_NLO_var_thisNode = np.array(np.add(LO_NLO_var_thisNode_, t[\"goodJets_0_bDiscriminator_mini_pfDeepFlavourJetTags_problepb\"].array()))\n",
    "            LO_NLO_var = np.append(LO_NLO_var, LO_NLO_var_thisNode)\n",
    "        \n",
    "        NLO_var_ = np.add(t_NLO[\"goodJets_0_bDiscriminator_mini_pfDeepFlavourJetTags_probb\"].array(), \n",
    "                            t_NLO[\"goodJets_0_bDiscriminator_mini_pfDeepFlavourJetTags_probbb\"].array())\n",
    "        NLO_var = np.add(NLO_var_, t_NLO[\"goodJets_0_bDiscriminator_mini_pfDeepFlavourJetTags_problepb\"].array())        \n",
    "        \n",
    "        \n",
    "    elif v == \"Subleading_Jet_bscore\":\n",
    "        \n",
    "        ##-- LO Variable from sum of benchmarks\n",
    "        LO_NLO_var = np.array([])\n",
    "        for node in nodes:\n",
    "            path = \"%s/GluGluToHHTo2G2Qlnu_node_%s_2017_HHWWggTag_0_MoreVars_v2.root\"%(BM_Direc, node)\n",
    "            #path = \"/eos/user/b/bmarzocc/HHWWgg/January_2021_Production/2017/Signal/GluGluToHHTo2G2Qlnu_node_%s_2017_LO_withNLOweights_HHWWggTag_0_MoreVars.root\"%(node)\n",
    "            f = uproot.open(path)\n",
    "            t = f[\"GluGluToHHTo2G2Qlnu_node_%s_13TeV_HHWWggTag_0_v1\"%(node)]\n",
    "        \n",
    "        \n",
    "            LO_NLO_var_thisNode_ = np.add(t[\"goodJets_1_bDiscriminator_mini_pfDeepFlavourJetTags_probb\"].array(), \n",
    "                                t[\"goodJets_1_bDiscriminator_mini_pfDeepFlavourJetTags_probbb\"].array())\n",
    "            LO_NLO_var_thisNode = np.array(np.add(LO_NLO_var_thisNode_, t[\"goodJets_1_bDiscriminator_mini_pfDeepFlavourJetTags_problepb\"].array()))  \n",
    "            LO_NLO_var = np.append(LO_NLO_var, LO_NLO_var_thisNode)        \n",
    "\n",
    "        \n",
    "        NLO_var_ = np.add(t_NLO[\"goodJets_1_bDiscriminator_mini_pfDeepFlavourJetTags_probb\"].array(), \n",
    "                            t_NLO[\"goodJets_1_bDiscriminator_mini_pfDeepFlavourJetTags_probbb\"].array())\n",
    "        NLO_var = np.add(NLO_var_, t_NLO[\"goodJets_1_bDiscriminator_mini_pfDeepFlavourJetTags_problepb\"].array())            \n",
    "        \n",
    "    else:\n",
    "        LO_NLO_var = np.array([])\n",
    "        for node in nodes:\n",
    "            path = \"%s/GluGluToHHTo2G2Qlnu_node_%s_2017_HHWWggTag_0_MoreVars_v2.root\"%(BM_Direc, node)\n",
    "            #path = \"/eos/user/b/bmarzocc/HHWWgg/January_2021_Production/2017/Signal/GluGluToHHTo2G2Qlnu_node_%s_2017_LO_withNLOweights_HHWWggTag_0_MoreVars.root\"%(node)\n",
    "            f = uproot.open(path)\n",
    "            t = f[\"GluGluToHHTo2G2Qlnu_node_%s_13TeV_HHWWggTag_0_v1\"%(node)]\n",
    "            LO_NLO_v_thisNode = np.array(t[v].array())\n",
    "            LO_NLO_var = np.append(LO_NLO_var, LO_NLO_v_thisNode)        \n",
    "        \n",
    "#         LO_NLO_var = t_LO_NLO[v].array()\n",
    "        NLO_var = t_NLO[v].array()\n",
    "    nbins, xmin, xmax, unit = VarInfoDict[v]\n",
    "    bins = np.linspace(xmin, xmax, nbins + 1)\n",
    "    \n",
    "    ##-- Switch to dtype float for ratios avoiding zeros \n",
    "    LO_NLO_weighted_var_a = np.array(LO_NLO_var, dtype = float)\n",
    "    NLO_weighted_var_a = np.array(NLO_var, dtype = float)\n",
    "    \n",
    "#     MASK_LO_NLO = np.logical_and(LO_NLO_weighted_var_a != -999, LO_NLO_weighted_var_a != -99)\n",
    "#     MASK_NLO = np.logical_and(NLO_weighted_var_a != -999, NLO_weighted_var_a != -99)\n",
    "    \n",
    "#     LO_NLO_weighted_var_a = LO_NLO_weighted_var_a[MASK_LO_NLO]\n",
    "#     NLO_weighted_var_a = NLO_weighted_var_a[MASK_NLO]\n",
    "    \n",
    "#     LO_NLO_Full_Weight = LO_NLO_Full_Weight[MASK_LO_NLO]\n",
    "#     NLO_weight = NLO_weight[MASK_NLO]\n",
    "    \n",
    "    ##-- Bin into histograms to get bin heights \n",
    "    \n",
    "    #hist\n",
    "    LO_NLO_bin_vals, binedges = np.histogram(LO_NLO_weighted_var_a, bins = bins, weights = LO_NLO_Full_Weight)\n",
    "    NLO_bin_vals, binedges = np.histogram(NLO_weighted_var_a, bins = bins, weights = NLO_weight) \n",
    "    \n",
    "    LO_NLO_bin_NOMCWEIGHTS_vals, binedges = np.histogram(LO_NLO_weighted_var_a, bins = bins)\n",
    "    NLO_bin_NOMCWEIGHTS_vals, binedges = np.histogram(NLO_weighted_var_a, bins = bins)     \n",
    "    \n",
    "    LO_NLO_bin_NOMCWEIGHTS_vals_a = np.array(LO_NLO_bin_NOMCWEIGHTS_vals, dtype = float)\n",
    "    NLO_bin_NOMCWEIGHTS_vals_a = np.array(NLO_bin_NOMCWEIGHTS_vals, dtype = float)\n",
    "    \n",
    "    ##-- Normalize histograms to max height = 1\n",
    "#     LO_NLO_max = np.amax(LO_NLO_bin_vals)\n",
    "#     NLO_max = np.amax(NLO_bin_vals)\n",
    "#     LO_NLO_bin_vals_a_ = np.array([val/LO_NLO_max for val in LO_NLO_bin_vals])\n",
    "#     NLO_bin_vals_a_ = np.array([val/NLO_max for val in NLO_bin_vals])\n",
    "\n",
    "    ##-- Normalize histograms to sum = 1\n",
    "    LO_NLO_sum = np.sum(LO_NLO_bin_vals)\n",
    "    NLO_sum = np.sum(NLO_bin_vals)\n",
    "    \n",
    "    LO_NLO_bin_vals_a_ = np.array([val/LO_NLO_sum for val in LO_NLO_bin_vals])\n",
    "    NLO_bin_vals_a_ = np.array([val/NLO_sum for val in NLO_bin_vals])\n",
    "    \n",
    "    LO_NLO_bin_vals_a = np.array(LO_NLO_bin_vals_a_, dtype = float)\n",
    "    NLO_bin_vals_a = np.array(NLO_bin_vals_a_, dtype = float)\n",
    "    \n",
    "    ratio = np.true_divide(LO_NLO_bin_vals_a , NLO_bin_vals_a, out = np.zeros_like(NLO_bin_vals_a), where = NLO_bin_vals_a != 0)\n",
    "    \n",
    "    ##-- Get error on each bin ratio \n",
    "    ratio_errors = []\n",
    "    MCscaled_errors_1 = []\n",
    "    MCscaled_errors_2 = []\n",
    "    for i, ratio_val in enumerate(ratio):\n",
    "            \n",
    "        MCSCALED_val_1 = LO_NLO_bin_vals_a[i] \n",
    "        MCSCALED_val_2 = NLO_bin_vals_a[i]\n",
    "        val_1 = LO_NLO_bin_NOMCWEIGHTS_vals_a[i]\n",
    "        val_2 = NLO_bin_NOMCWEIGHTS_vals_a[i]\n",
    "        \n",
    "        if(val_2 == 0): \n",
    "\n",
    "            if(val_1 == 0):\n",
    "                MCscaled_errors_1.append(0)\n",
    "                \n",
    "            else:\n",
    "                relative_error_1 = float(NOMCWEIGHTS_error1)/float(val_1)\n",
    "                scaled_error_1 = float(MCSCALED_val_1) * float(relative_error_1)\n",
    "                MCscaled_errors_1.append(scaled_error_1)                \n",
    "            \n",
    "            MCscaled_errors_2.append(0)\n",
    "            ratio_errors.append(0)\n",
    "            continue \n",
    "        else:\n",
    "            NOMCWEIGHTS_ratio = val_1 / val_2\n",
    "            NOMCWEIGHTS_error1 = np.sqrt(val_1)\n",
    "            NOMCWEIGHTS_error2 = np.sqrt(val_2)\n",
    "            \n",
    "#             if(val_1 == 0):\n",
    "#                 MCscaled_errors_1.append(0)\n",
    "                \n",
    "#             else:\n",
    "#                 relative_error_1 = float(NOMCWEIGHTS_error1)/float(val_1)\n",
    "#                 scaled_error_1 = float(MCSCALED_val_1) * float(relative_error_1)\n",
    "#                 MCscaled_errors_1.append(scaled_error_1)               \n",
    "            \n",
    "            if(val_1 == 0):\n",
    "                relative_error_1 = 0\n",
    "            else: \n",
    "                relative_error_1 = float(NOMCWEIGHTS_error1)/float(val_1)\n",
    "            relative_error_2 = float(NOMCWEIGHTS_error2)/float(val_2)            \n",
    "            \n",
    "            relative_error = np.sqrt((relative_error_1)**2 + (relative_error_2)**2)\n",
    "            \n",
    "            scaled_error_1 = float(MCSCALED_val_1) * float(relative_error_1)\n",
    "            scaled_error_2 = float(MCSCALED_val_2) * float(relative_error_2)\n",
    "            \n",
    "            ratio_error = float(ratio_val) * float(relative_error) \n",
    "            \n",
    "            ratio_errors.append(ratio_error)  \n",
    "            MCscaled_errors_1.append(scaled_error_1)\n",
    "            MCscaled_errors_2.append(scaled_error_2)\n",
    "    \n",
    "            \n",
    "    ##-- Overlay two plots and plot ratio \n",
    "    fig, axarr = plt.subplots(2, \n",
    "                                sharex=True, \n",
    "                                gridspec_kw={\n",
    "                                    'hspace': 0.15,\n",
    "#                                     'height_ratios': (0.8,0.2)\n",
    "                                    'height_ratios': (0.7,0.3)\n",
    "                                    }\n",
    "                                )     \n",
    "      \n",
    "    upper = axarr[0]\n",
    "    lower = axarr[1]\n",
    "    lower.grid(True)    \n",
    "    \n",
    "    fig.set_size_inches(8, 6)\n",
    "    \n",
    "    bincenters = 0.5*(binedges[1:]+binedges[:-1])   \n",
    "\n",
    "    upper.hist(bins[:-1], bins = bins, weights = LO_NLO_bin_vals_a, histtype = 'step', label = r'LO$\\rightarrow$SM NLO Reweight', alpha = 1)\n",
    "    upper.hist(bins[:-1], bins = bins, weights = NLO_bin_vals_a, histtype = 'step', label = \"SM NLO\", alpha = 1)\n",
    "\n",
    "    upper.errorbar(\n",
    "                bincenters,\n",
    "                LO_NLO_bin_vals_a,\n",
    "#                 weights = LO_NLO_bin_vals_a,\n",
    "                yerr=MCscaled_errors_1,\n",
    "                ecolor = 'black',\n",
    "                linestyle = '',\n",
    "                fmt = 'none',\n",
    "#                 zorder = zorder_nominal + 0.5 \n",
    "#                     zorder = float(float(NUM_COLORS) - float(i)) ##-- For opposite mass point z-ordering in plot\n",
    "#                     zorder = i + 0.5\n",
    "    )  \n",
    "    \n",
    "    upper.errorbar(\n",
    "                bincenters,\n",
    "                NLO_bin_vals_a,\n",
    "                yerr=MCscaled_errors_2,\n",
    "                ecolor = 'black',\n",
    "                linestyle = '',\n",
    "                fmt = 'none',\n",
    "#                 zorder = zorder_nominal + 0.5 \n",
    "#                     zorder = float(float(NUM_COLORS) - float(i)) ##-- For opposite mass point z-ordering in plot\n",
    "#                     zorder = i + 0.5\n",
    "    )      \n",
    "    \n",
    "    plt.text(\n",
    "        # 0.05, 0.9, u\"CMS $\\it{Preliminary}$\",\n",
    "        0., 1., u\"CMS \",\n",
    "        fontsize=18, fontweight='bold',\n",
    "        horizontalalignment='left',\n",
    "        verticalalignment='bottom',\n",
    "        transform=upper.transAxes\n",
    "    )\n",
    "    plt.text(\n",
    "        # 0.05, 0.9, u\"CMS $\\it{Preliminary}$\",\n",
    "        0.11, 1., r\"$\\it{Simulation}$ $\\it{Preliminary}$\",\n",
    "        fontsize=18,\n",
    "        horizontalalignment='left',\n",
    "        verticalalignment='bottom',\n",
    "        transform=upper.transAxes\n",
    "    )    \n",
    "    \n",
    "    upper.set_ylabel(\"MC Scaled Yields\", fontsize = 15)\n",
    "    bin_centers = [ (((float(bins[i+1]) - float(bins[i])) / 2.) + float(bins[i])) for i in range(0, len(bins)-1)]\n",
    "    lower.plot([xmin,xmax],[1,1],linestyle=':', color = 'black')\n",
    "    xerr = [ ((float(bins[i+1]) - float(bins[i])) / 2.) for i in range(0, len(bins) - 1)]  \n",
    "    \n",
    "    zero_errors = [0 for entry in ratio_errors] ##-- for no errors \n",
    "    \n",
    "    lower.errorbar(bin_centers, ratio, xerr = xerr , yerr = ratio_errors, marker = '.', color = 'black', ls = '') #drawstyle = 'steps-mid')\n",
    "    lower.set_ylim(0.5,1.5)\n",
    "    lower.set_ylabel(\"Reweight / NLO\", fontsize = 10)\n",
    "    lower.set_xlabel(\"%s [%s]\"%(v, unit), fontsize = 15)   \n",
    "#     upper.legend(loc = 'best', prop={'size': 10})\n",
    "#     upper.legend(loc = 'best', prop={'size': 10})\n",
    "    upper.grid(True)\n",
    "    fig.tight_layout()\n",
    "    upper.legend(loc = 'best', prop={'size': 10})\n",
    "    plt.savefig(\"%s/nonlog/%s.png\"%(ol, v))\n",
    "    plt.savefig(\"%s/nonlog/%s.pdf\"%(ol, v))\n",
    "    upper.set_yscale('log')\n",
    "    plt.savefig(\"%s/log/%s_log.png\"%(ol, v))\n",
    "    plt.savefig(\"%s/log/%s_log.pdf\"%(ol, v))    \n",
    "    plt.close()      \n",
    "    \n",
    "print(\"DONE\")\n"
   ]
  },
  {
   "cell_type": "code",
   "execution_count": null,
   "id": "champion-italian",
   "metadata": {},
   "outputs": [],
   "source": []
  }
 ],
 "metadata": {
  "kernelspec": {
   "display_name": "Python 3",
   "language": "python",
   "name": "python3"
  },
  "language_info": {
   "codemirror_mode": {
    "name": "ipython",
    "version": 3
   },
   "file_extension": ".py",
   "mimetype": "text/x-python",
   "name": "python",
   "nbconvert_exporter": "python",
   "pygments_lexer": "ipython3",
   "version": "3.9.6"
  }
 },
 "nbformat": 4,
 "nbformat_minor": 5
}
