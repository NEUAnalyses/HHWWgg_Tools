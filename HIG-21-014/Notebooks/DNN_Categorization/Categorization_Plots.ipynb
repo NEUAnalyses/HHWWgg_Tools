{
 "cells": [
  {
   "cell_type": "code",
   "execution_count": 1,
   "id": "authorized-moldova",
   "metadata": {},
   "outputs": [],
   "source": [
    "from matplotlib import pyplot as plt \n",
    "import os \n",
    "import pandas as pd "
   ]
  },
  {
   "cell_type": "code",
   "execution_count": 2,
   "id": "imperial-manitoba",
   "metadata": {},
   "outputs": [],
   "source": [
    "# AN v6 \n",
    "#d = \"/eos/user/a/atishelm/www/HHWWgg/DNN/HHWWyyDNN_WithHggFactor2-200Epochs-3ClassMulticlass_EvenSingleH_2Hgg_withKinWeightCut10_BalanceYields/Categorization_UpdatedSmoothingNoNegatives/\"\n",
    "#d_soversqrtb = \"/eos/user/a/atishelm/www/HHWWgg/DNN/HHWWyyDNN_WithHggFactor2-200Epochs-3ClassMulticlass_EvenSingleH_2Hgg_withKinWeightCut10_BalanceYields/Categorization_UpdatedSmoothingNoNegatives_SoversqrtB/\"\n",
    "\n",
    "# AN v7 \n",
    "d = \"/eos/user/a/atishelm/www/HHWWgg/DNN/HIG-21-014_AN_20_165_v7/HHWWyyDNN_SL_MultiClass_WithMETFix_12LOHH_500epochs_BalanceYields/categorization/\"\n",
    "d_soversqrtb = \"/eos/user/a/atishelm/www/HHWWgg/DNN/HIG-21-014_AN_20_165_v7/HHWWyyDNN_SL_MultiClass_WithMETFix_12LOHH_500epochs_BalanceYields/categorization_SoversqrtB/\""
   ]
  },
  {
   "cell_type": "code",
   "execution_count": 11,
   "id": "overall-jacob",
   "metadata": {},
   "outputs": [],
   "source": [
    "files = [\"%s/%s\"%(d,f) for f in os.listdir(d) if \"nBins_90\" in f and \"massMin122\" in f and \"v2.txt\" in f]\n",
    "files_sOversqrtB = [\"%s/%s\"%(d_soversqrtb,f) for f in os.listdir(d_soversqrtb) if \"nBins_90\" in f and \"massMin122\" in f and \"v2.txt\" in f]"
   ]
  },
  {
   "cell_type": "code",
   "execution_count": 12,
   "id": "compatible-vehicle",
   "metadata": {},
   "outputs": [
    {
     "name": "stdout",
     "output_type": "stream",
     "text": [
      "files: ['/eos/user/a/atishelm/www/HHWWgg/DNN/HIG-21-014_AN_20_165_v7/HHWWyyDNN_SL_MultiClass_WithMETFix_12LOHH_500epochs_BalanceYields/categorization//categorize_nBins_90_nCat_1_massMin122.0_massMax128.0_v2.txt', '/eos/user/a/atishelm/www/HHWWgg/DNN/HIG-21-014_AN_20_165_v7/HHWWyyDNN_SL_MultiClass_WithMETFix_12LOHH_500epochs_BalanceYields/categorization//categorize_nBins_90_nCat_2_massMin122.0_massMax128.0_v2.txt', '/eos/user/a/atishelm/www/HHWWgg/DNN/HIG-21-014_AN_20_165_v7/HHWWyyDNN_SL_MultiClass_WithMETFix_12LOHH_500epochs_BalanceYields/categorization//categorize_nBins_90_nCat_3_massMin122.0_massMax128.0_v2.txt', '/eos/user/a/atishelm/www/HHWWgg/DNN/HIG-21-014_AN_20_165_v7/HHWWyyDNN_SL_MultiClass_WithMETFix_12LOHH_500epochs_BalanceYields/categorization//categorize_nBins_90_nCat_4_massMin122.0_massMax128.0_v2.txt', '/eos/user/a/atishelm/www/HHWWgg/DNN/HIG-21-014_AN_20_165_v7/HHWWyyDNN_SL_MultiClass_WithMETFix_12LOHH_500epochs_BalanceYields/categorization//categorize_nBins_90_nCat_5_massMin122.0_massMax128.0_v2.txt']\n",
      "=====\n",
      "files_sOversqrtB ['/eos/user/a/atishelm/www/HHWWgg/DNN/HIG-21-014_AN_20_165_v7/HHWWyyDNN_SL_MultiClass_WithMETFix_12LOHH_500epochs_BalanceYields/categorization_SoversqrtB//categorize_nBins_90_nCat_1_massMin122.0_massMax128.0_v2.txt', '/eos/user/a/atishelm/www/HHWWgg/DNN/HIG-21-014_AN_20_165_v7/HHWWyyDNN_SL_MultiClass_WithMETFix_12LOHH_500epochs_BalanceYields/categorization_SoversqrtB//categorize_nBins_90_nCat_2_massMin122.0_massMax128.0_v2.txt', '/eos/user/a/atishelm/www/HHWWgg/DNN/HIG-21-014_AN_20_165_v7/HHWWyyDNN_SL_MultiClass_WithMETFix_12LOHH_500epochs_BalanceYields/categorization_SoversqrtB//categorize_nBins_90_nCat_3_massMin122.0_massMax128.0_v2.txt', '/eos/user/a/atishelm/www/HHWWgg/DNN/HIG-21-014_AN_20_165_v7/HHWWyyDNN_SL_MultiClass_WithMETFix_12LOHH_500epochs_BalanceYields/categorization_SoversqrtB//categorize_nBins_90_nCat_4_massMin122.0_massMax128.0_v2.txt', '/eos/user/a/atishelm/www/HHWWgg/DNN/HIG-21-014_AN_20_165_v7/HHWWyyDNN_SL_MultiClass_WithMETFix_12LOHH_500epochs_BalanceYields/categorization_SoversqrtB//categorize_nBins_90_nCat_5_massMin122.0_massMax128.0_v2.txt']\n"
     ]
    }
   ],
   "source": [
    "print(\"files:\",files)\n",
    "print(\"=====\")\n",
    "print(\"files_sOversqrtB\",files_sOversqrtB)"
   ]
  },
  {
   "cell_type": "code",
   "execution_count": 7,
   "id": "difficult-stockholm",
   "metadata": {},
   "outputs": [
    {
     "name": "stdout",
     "output_type": "stream",
     "text": [
      "\\begin{table}[H]\n",
      "  \\begin{center}\n",
      "    \\begin{tabular}{c|c|c|c|c|c|c}\n",
      "    CatN & DNN Min & DNN Max & S & $B_{SR}$ & $Data_{Sideband}$ & Significance\\\\ \\hline\n",
      "    0 & 0.89 & 1.0 & 0.03568 & 0.81037 & 8.0 & 0.03935 \\\\ \n",
      "    \\end{tabular}\n",
      "  \\end{center}\n",
      "\\caption{\n",
      "    Semi-Leptonic DNN Category Boundaries and yields in signal region for 1 Categories\n",
      "}\n",
      "\\label{tab:SLcategories_1}\n",
      "\\end{table}\n",
      " \n",
      "\\begin{table}[H]\n",
      "  \\begin{center}\n",
      "    \\begin{tabular}{c|c|c|c|c|c|c}\n",
      "    CatN & DNN Min & DNN Max & S & $B_{SR}$ & $Data_{Sideband}$ & Significance\\\\ \\hline\n",
      "    0 & 0.89 & 1.0 & 0.03568 & 0.81037 & 8.0 & 0.03935 \\\\ \n",
      "    1 & 0.1 & 0.89 & 0.23129 & 511.65079 & 3580.0 & 0.01022 \\\\ \n",
      "    \\end{tabular}\n",
      "  \\end{center}\n",
      "\\caption{\n",
      "    Semi-Leptonic DNN Category Boundaries and yields in signal region for 2 Categories\n",
      "}\n",
      "\\label{tab:SLcategories_2}\n",
      "\\end{table}\n",
      " \n",
      "\\begin{table}[H]\n",
      "  \\begin{center}\n",
      "    \\begin{tabular}{c|c|c|c|c|c|c}\n",
      "    CatN & DNN Min & DNN Max & S & $B_{SR}$ & $Data_{Sideband}$ & Significance\\\\ \\hline\n",
      "    0 & 0.89 & 1.0 & 0.03568 & 0.81037 & 8.0 & 0.03935 \\\\ \n",
      "    1 & 0.64 & 0.89 & 0.09449 & 16.43561 & 114.0 & 0.02329 \\\\ \n",
      "    2 & 0.1 & 0.64 & 0.1368 & 495.21518 & 3466.0 & 0.00615 \\\\ \n",
      "    \\end{tabular}\n",
      "  \\end{center}\n",
      "\\caption{\n",
      "    Semi-Leptonic DNN Category Boundaries and yields in signal region for 3 Categories\n",
      "}\n",
      "\\label{tab:SLcategories_3}\n",
      "\\end{table}\n",
      " \n",
      "\\begin{table}[H]\n",
      "  \\begin{center}\n",
      "    \\begin{tabular}{c|c|c|c|c|c|c}\n",
      "    CatN & DNN Min & DNN Max & S & $B_{SR}$ & $Data_{Sideband}$ & Significance\\\\ \\hline\n",
      "    0 & 0.89 & 1.0 & 0.03568 & 0.81037 & 8.0 & 0.03935 \\\\ \n",
      "    1 & 0.84 & 0.89 & 0.02267 & 1.84053 & 12.0 & 0.01668 \\\\ \n",
      "    2 & 0.63 & 0.84 & 0.07483 & 15.73924 & 111.0 & 0.01885 \\\\ \n",
      "    3 & 0.1 & 0.63 & 0.13379 & 494.07101 & 3457.0 & 0.00602 \\\\ \n",
      "    \\end{tabular}\n",
      "  \\end{center}\n",
      "\\caption{\n",
      "    Semi-Leptonic DNN Category Boundaries and yields in signal region for 4 Categories\n",
      "}\n",
      "\\label{tab:SLcategories_4}\n",
      "\\end{table}\n",
      " \n",
      "\\begin{table}[H]\n",
      "  \\begin{center}\n",
      "    \\begin{tabular}{c|c|c|c|c|c|c}\n",
      "    CatN & DNN Min & DNN Max & S & $B_{SR}$ & $Data_{Sideband}$ & Significance\\\\ \\hline\n",
      "    0 & 0.89 & 1.0 & 0.03568 & 0.81037 & 8.0 & 0.03935 \\\\ \n",
      "    1 & 0.84 & 0.89 & 0.02267 & 1.84053 & 12.0 & 0.01668 \\\\ \n",
      "    2 & 0.64 & 0.84 & 0.07182 & 14.59508 & 102.0 & 0.01878 \\\\ \n",
      "    3 & 0.25 & 0.64 & 0.0964 & 157.99225 & 974.0 & 0.00767 \\\\ \n",
      "    4 & 0.1 & 0.25 & 0.0404 & 337.22293 & 2492.0 & 0.0022 \\\\ \n",
      "    \\end{tabular}\n",
      "  \\end{center}\n",
      "\\caption{\n",
      "    Semi-Leptonic DNN Category Boundaries and yields in signal region for 5 Categories\n",
      "}\n",
      "\\label{tab:SLcategories_5}\n",
      "\\end{table}\n",
      " \n"
     ]
    }
   ],
   "source": [
    "##-- Make table for each Number of categories for a given binning, \n",
    "\n",
    "roundPlace = 5\n",
    "\n",
    "for i, file in enumerate(files):\n",
    "    ##-- Begin Table\n",
    "    print(\"\\\\begin{table}[H]\")\n",
    "    print(\"  \\\\begin{center}\")\n",
    "    print(\"    \\\\begin{tabular}{c|c|c|c|c|c|c}\")\n",
    "    print(\"    CatN & DNN Min & DNN Max & S & $B_{SR}$ & $Data_{Sideband}$ & Significance\\\\\\ \\\\hline\")    \n",
    "    \n",
    "    ##-- Fill with category information\n",
    "    df = pd.read_csv(file, header=None)\n",
    "    Nrows = len(df.index)\n",
    "    Ncats = Nrows - 1 \n",
    "#     print(\"Nrows:\",Nrows)\n",
    "#     print(\"First Category:\",df.iloc[-2,:])\n",
    "    \n",
    "    ##-- Get: \n",
    "    # Category Number, DNN score Min, DNN score max, Nsignal, NBkg, Significance \n",
    "    for irow in range(0, Ncats):\n",
    "        thisRow = (irow * -1) - 2  \n",
    "    #     print(\"thisRow:\",thisRow)\n",
    "        row = df.iloc[thisRow, 0]\n",
    "        rowEntries = row.split()\n",
    "        CatNum = irow\n",
    "        DNNscoreMin = round(float(rowEntries[0]), roundPlace) \n",
    "        DNNscoreMax = round(float(rowEntries[1]), roundPlace)\n",
    "        Nsignal = round(float(rowEntries[5]),roundPlace)\n",
    "        NSB = round(float(rowEntries[-1]), roundPlace)\n",
    "#         Ncont = round(float(rowEntries[7]), roundPlace)\n",
    "#         NVH = round(float(rowEntries[9]), roundPlace)\n",
    "#         NttH = round(float(rowEntries[11]), roundPlace)\n",
    "        Nbkg = round(float(rowEntries[7]), roundPlace)\n",
    "        Significance = round(float(rowEntries[3]), roundPlace)\n",
    "\n",
    "        print(\"    %s & %s & %s & %s & %s & %s & %s \\\\\\ \"%(CatNum, DNNscoreMin, DNNscoreMax, Nsignal, Nbkg, NSB, Significance))\n",
    "#         print(\"    %s & %s & %s & %s & %s & %s & %s & %s & %s \\\\\\ \"%(CatNum, DNNscoreMin, DNNscoreMax, Nsignal, Nbkg, Ncont, NVH, NttH, Significance))\n",
    "        \n",
    "    \n",
    "    ##-- Finish table\n",
    "    print(\"    \\\\end{tabular}\")\n",
    "    print(\"  \\\\end{center}\")\n",
    "    print(\"\\\\caption{\")\n",
    "    print(\"    Semi-Leptonic DNN Category Boundaries and yields in signal region for %s Categories\"%(Ncats))\n",
    "    print(\"}\")\n",
    "    print(\"\\\\label{tab:SLcategories_%s}\"%(Ncats))\n",
    "    print(\"\\\\end{table}\")\n",
    "    print(\" \")\n",
    "    \n"
   ]
  },
  {
   "cell_type": "code",
   "execution_count": 13,
   "id": "boring-craft",
   "metadata": {},
   "outputs": [
    {
     "name": "stdout",
     "output_type": "stream",
     "text": [
      "NCats_vals: [1, 2, 3, 4, 5]\n",
      "Tot_Sig_vals: [0.0393496112562, 0.040656234281, 0.0461345366644, 0.0470948358866, 0.0473601100102]\n",
      "NCats_vals_SoversqrtB: [1, 2, 3, 4, 5]\n",
      "Tot_Sig_vals_SoversqrtB: [0.0396352532773, 0.0409329516767, 0.0463896375113, 0.0473517701546, 0.0476158721579]\n",
      "\\begin{table}[H]\n",
      "  \\begin{center}\n",
      "    \\begin{tabular}{c|c|c}\n",
      "    NCategories & Total Significance with Eq \\ref{eq:SignifianceDef} & $\\frac{S}{\\sqrt{B}}$ \\\\ \\hline\n",
      "    1 & 0.03935 & 0.039635  \\\\ \n",
      "    2 & 0.040656 & 0.040933  \\\\ \n",
      "    3 & 0.046135 & 0.04639  \\\\ \n",
      "    4 & 0.047095 & 0.047352  \\\\ \n",
      "    5 & 0.04736 & 0.047616  \\\\ \n",
      "    \\end{tabular}\n",
      "  \\end{center}\n",
      "\\caption{\n",
      "    Significance values using two equations for significance\n",
      "}\n",
      "\\label{tab:SigVsNcats_table}\n",
      "\\end{table}\n",
      " \n",
      "DONE\n"
     ]
    }
   ],
   "source": [
    "##-- To plot both together\n",
    "\n",
    "roundPlace = 6\n",
    "\n",
    "fig, ax = plt.subplots()\n",
    "\n",
    "NCats_vals = []\n",
    "Tot_Sig_vals = []\n",
    "\n",
    "for i, file in enumerate(files):\n",
    "    df = pd.read_csv(file, header=None)\n",
    "    NCats = len(df.index) - 1 \n",
    "    NCats_vals.append(NCats)\n",
    "    Tot_Sig = float(df.iloc[-1,-1].split(' ')[-1])\n",
    "    Tot_Sig_vals.append(Tot_Sig)\n",
    "    \n",
    "print(\"NCats_vals:\",NCats_vals)\n",
    "print(\"Tot_Sig_vals:\",Tot_Sig_vals)\n",
    "    \n",
    "plt.plot(NCats_vals, Tot_Sig_vals, 'o-', label = \"General Expression\")\n",
    "    \n",
    "NCats_vals_SoversqrtB = []\n",
    "Tot_Sig_vals_SoversqrtB = []\n",
    "\n",
    "for i, file in enumerate(files_sOversqrtB):\n",
    "    df = pd.read_csv(file, header=None)\n",
    "    NCats = len(df.index) - 1 \n",
    "    NCats_vals_SoversqrtB.append(NCats)\n",
    "    Tot_Sig = float(df.iloc[-1,-1].split(' ')[-1])\n",
    "    Tot_Sig_vals_SoversqrtB.append(Tot_Sig)\n",
    "    \n",
    "print(\"NCats_vals_SoversqrtB:\",NCats_vals_SoversqrtB)\n",
    "print(\"Tot_Sig_vals_SoversqrtB:\",Tot_Sig_vals_SoversqrtB)    \n",
    "    \n",
    "yMax_soversqrtb = max(Tot_Sig_vals_SoversqrtB)\n",
    "yMax_general = max(Tot_Sig_vals)\n",
    "overallYmax = -999 \n",
    "if(yMax_soversqrtb > yMax_general):\n",
    "    overallYmax = yMax_soversqrtb\n",
    "else:\n",
    "    overallYmax = yMax_general\n",
    "    \n",
    "print(\"\\\\begin{table}[H]\")\n",
    "print(\"  \\\\begin{center}\")\n",
    "print(\"    \\\\begin{tabular}{c|c|c}\")\n",
    "print(\"    NCategories & Total Significance with Eq \\\\ref{eq:SignifianceDef} & $\\\\frac{S}{\\\\sqrt{B}}$ \\\\\\ \\\\hline\")    \n",
    "print(\"    1 & %s & %s  \\\\\\ \"%(round(Tot_Sig_vals[0],roundPlace), round(Tot_Sig_vals_SoversqrtB[0],roundPlace)))\n",
    "print(\"    2 & %s & %s  \\\\\\ \"%(round(Tot_Sig_vals[1],roundPlace), round(Tot_Sig_vals_SoversqrtB[1],roundPlace)))\n",
    "print(\"    3 & %s & %s  \\\\\\ \"%(round(Tot_Sig_vals[2],roundPlace), round(Tot_Sig_vals_SoversqrtB[2],roundPlace)))\n",
    "print(\"    4 & %s & %s  \\\\\\ \"%(round(Tot_Sig_vals[3],roundPlace), round(Tot_Sig_vals_SoversqrtB[3],roundPlace)))\n",
    "print(\"    5 & %s & %s  \\\\\\ \"%(round(Tot_Sig_vals[4],roundPlace), round(Tot_Sig_vals_SoversqrtB[4],roundPlace)))\n",
    "print(\"    \\\\end{tabular}\")\n",
    "print(\"  \\\\end{center}\")\n",
    "print(\"\\\\caption{\")\n",
    "print(\"    Significance values using two equations for significance\")\n",
    "print(\"}\")\n",
    "print(\"\\\\label{tab:SigVsNcats_table}\")\n",
    "print(\"\\\\end{table}\")\n",
    "print(\" \")    \n",
    "    \n",
    "    \n",
    "plt.plot(NCats_vals_SoversqrtB, Tot_Sig_vals_SoversqrtB, 'o-', label = r\"S / $\\sqrt{B}$\")\n",
    "plt.legend(loc = 'best')\n",
    "plt.xlabel(\"Number of Categories\", fontsize = 15)\n",
    "plt.ylabel(\"Significance\", fontsize = 15)\n",
    "plt.ylim(0, overallYmax*1.1)\n",
    "plt.tight_layout()\n",
    "# plt.show()\n",
    "plt.savefig(\"%s/SigVsNCats.png\"%(d))\n",
    "plt.savefig(\"%s/SigVsNCats.pdf\"%(d))\n",
    "plt.close()\n",
    "print(\"DONE\")"
   ]
  },
  {
   "cell_type": "code",
   "execution_count": 8,
   "id": "macro-forestry",
   "metadata": {},
   "outputs": [
    {
     "name": "stdout",
     "output_type": "stream",
     "text": [
      "NCats_vals: [1, 2, 3, 4, 5]\n",
      "Tot_Sig_vals: [0.0393496112562, 0.040656234281, 0.0461345366644, 0.0470948358866, 0.0473601100102]\n"
     ]
    },
    {
     "data": {
      "image/png": "[encoded data removed]",
      "text/plain": [
       "<Figure size 432x288 with 1 Axes>"
      ]
     },
     "metadata": {
      "needs_background": "light"
     },
     "output_type": "display_data"
    }
   ],
   "source": [
    "##-- To plot one\n",
    "\n",
    "fig, ax = plt.subplots()\n",
    "\n",
    "NCats_vals = []\n",
    "Tot_Sig_vals = []\n",
    "\n",
    "for i, file in enumerate(files):\n",
    "    df = pd.read_csv(file, header=None)\n",
    "    NCats = len(df.index) - 1 \n",
    "    NCats_vals.append(NCats)\n",
    "    Tot_Sig = float(df.iloc[-1,-1].split(' ')[-1])\n",
    "    Tot_Sig_vals.append(Tot_Sig)\n",
    "    \n",
    "print(\"NCats_vals:\",NCats_vals)\n",
    "print(\"Tot_Sig_vals:\",Tot_Sig_vals)\n",
    "    \n",
    "plt.plot(NCats_vals, Tot_Sig_vals, 'o-', label = \"Significance\")\n",
    "\n",
    "plt.legend()\n",
    "plt.show()\n",
    "plt.close()"
   ]
  },
  {
   "cell_type": "code",
   "execution_count": null,
   "id": "fifth-player",
   "metadata": {},
   "outputs": [],
   "source": []
  },
  {
   "cell_type": "code",
   "execution_count": null,
   "id": "perceived-trader",
   "metadata": {},
   "outputs": [],
   "source": []
  },
  {
   "cell_type": "code",
   "execution_count": 3,
   "id": "lasting-state",
   "metadata": {},
   "outputs": [
    {
     "name": "stdout",
     "output_type": "stream",
     "text": [
      "Welcome to JupyROOT 6.24/06\n"
     ]
    }
   ],
   "source": [
    "import ROOT\n",
    "import numpy as np "
   ]
  },
  {
   "cell_type": "code",
   "execution_count": 21,
   "id": "surgical-career",
   "metadata": {},
   "outputs": [],
   "source": [
    "#f = ROOT.TFile.Open(\"/eos/user/a/atishelm/ntuples/HHWWgg_DNN/MultiClassifier/HHWWyyDNN_WithHggFactor2-200Epochs-3ClassMulticlass_EvenSingleH_2Hgg_withKinWeightCut10_BalanceYields/evalDNN_HH/evalDNN_HH_Histos_smoothing_SmoothSuper_bins70_massMin122.0_massMax128.0.root\")\n",
    "f = ROOT.TFile.Open(\"/eos/user/a/atishelm/ntuples/HHWWgg_DNN/MultiClassifier/HHWWyyDNN_SL_MultiClass_WithMETFix_12LOHH_500epochs_BalanceYields/evalDNN_HH/evalDNN_HH_Histos_smoothing_SmoothSuper_bins90_massMin122.0_massMax128.0.root\")\n",
    "Bkg_SR_h = f.Get(\"h_evalDNN_HH_bkg_SR_weighted_smooth\")\n",
    "ttH_SR_h = f.Get(\"h_evalDNN_HH_ttHtoGG_SR_2017_smooth\")\n",
    "VH_SR_h = f.Get(\"h_evalDNN_HH_VHtoGG_SR_2017_smooth\")\n",
    "Sig_SR_h = f.Get(\"h_evalDNN_HH_signal_SR\")\n",
    "\n",
    "# Options:\n",
    "# KEY: TH1F     h_evalDNN_HH_bkg_SR_weighted\n",
    "# KEY: TH1F     h_evalDNN_HH_bkg_SR_weighted_smooth\n",
    "# KEY: TH1F     h_evalDNN_HH_bkg_SR_weighted_smooth_up\n",
    "# KEY: TH1F     h_evalDNN_HH_bkg_SR_weighted_smooth_down\n",
    "\n",
    "# KEY: TH1F     h_evalDNN_HH_bkg_SR\n",
    "# KEY: TH1F     h_evalDNN_HH_bkg_SR_smooth\n",
    "# KEY: TH1F     h_evalDNN_HH_bkg_SR_smooth_up\n",
    "# KEY: TH1F     h_evalDNN_HH_bkg_SR_smooth_down"
   ]
  },
  {
   "cell_type": "code",
   "execution_count": 27,
   "id": "endangered-union",
   "metadata": {},
   "outputs": [
    {
     "name": "stdout",
     "output_type": "stream",
     "text": [
      "nBins: 90\n",
      "DONE\n"
     ]
    }
   ],
   "source": [
    "Bkg_vals = []\n",
    "Sig_vals = []\n",
    "\n",
    "nBins = len(range(Bkg_SR_h.GetNbinsX()))\n",
    "print(\"nBins:\",nBins)\n",
    "\n",
    "for bin in range(Bkg_SR_h.GetNbinsX()):\n",
    "    val = Bkg_SR_h.GetBinContent(bin + 1)\n",
    "#     VH_val = VH_SR_h.GetBinContent(bin + 1)\n",
    "#     ttH_val = ttH_SR_h.GetBinContent(bin + 1)\n",
    "#     total_val = float(val) - float(VH_val) - float(ttH_val)\n",
    "    \n",
    "#     Bkg_vals.append(total_val)\n",
    "    Bkg_vals.append(val)\n",
    "    \n",
    "for bin in range(Sig_SR_h.GetNbinsX()):\n",
    "    val = Sig_SR_h.GetBinContent(bin + 1)\n",
    "    Sig_vals.append(val)\n",
    "\n",
    "bins = np.linspace(0.1, 1, 91)\n",
    "    \n",
    "# print(\"Bkg_vals:\",Bkg_vals)    \n",
    "# print(\"bins[:-1]:\",bins[:-1])\n",
    "    \n",
    "fig, ax = plt.subplots()\n",
    "plt.hist(bins[:-1], weights = Bkg_vals, bins = bins, label = \"Background\")\n",
    "plt.hist(bins[:-1], weights = Sig_vals, bins = bins, label = \"Signal\")\n",
    "plt.yscale('log')\n",
    "plt.xlim(0.1, 1)\n",
    "plt.xlabel(\"evalDNN_HH\", fontsize = 15)\n",
    "plt.ylabel(\"Number of Expected Events\", fontsize = 15)\n",
    "plt.legend(loc = 'best')\n",
    "plt.tight_layout()\n",
    "plt.ylim(0.0006, 54)\n",
    "# plt.show()\n",
    "plt.savefig(\"%s/Bkg_Sig_SR_evalDNN_HH.png\"%(d))\n",
    "plt.savefig(\"%s/Bkg_Sig_SR_evalDNN_HH.pdf\"%(d))\n",
    "plt.close()\n",
    "\n",
    "print(\"DONE\")\n",
    "    "
   ]
  },
  {
   "cell_type": "code",
   "execution_count": 2,
   "id": "perfect-basketball",
   "metadata": {},
   "outputs": [],
   "source": [
    "import uproot"
   ]
  },
  {
   "cell_type": "code",
   "execution_count": 65,
   "id": "nearby-judgment",
   "metadata": {},
   "outputs": [
    {
     "ename": "AttributeError",
     "evalue": "'TH1F' object has no attribute 'all_members'",
     "output_type": "error",
     "traceback": [
      "\u001b[0;31m---------------------------------------------------------------------------\u001b[0m",
      "\u001b[0;31mAttributeError\u001b[0m                            Traceback (most recent call last)",
      "\u001b[0;32m<ipython-input-65-1af78a90ad66>\u001b[0m in \u001b[0;36m<module>\u001b[0;34m\u001b[0m\n\u001b[1;32m      1\u001b[0m \u001b[0mfile\u001b[0m \u001b[0;34m=\u001b[0m \u001b[0muproot\u001b[0m\u001b[0;34m.\u001b[0m\u001b[0mopen\u001b[0m\u001b[0;34m(\u001b[0m\u001b[0;34m\"https://scikit-hep.org/uproot3/examples/hepdata-example.root\"\u001b[0m\u001b[0;34m)\u001b[0m\u001b[0;34m\u001b[0m\u001b[0;34m\u001b[0m\u001b[0m\n\u001b[1;32m      2\u001b[0m \u001b[0mfile\u001b[0m\u001b[0;34m.\u001b[0m\u001b[0mclassnames\u001b[0m\u001b[0;34m(\u001b[0m\u001b[0;34m)\u001b[0m\u001b[0;34m\u001b[0m\u001b[0;34m\u001b[0m\u001b[0m\n\u001b[0;32m----> 3\u001b[0;31m \u001b[0mfile\u001b[0m\u001b[0;34m[\u001b[0m\u001b[0;34m\"hpx\"\u001b[0m\u001b[0;34m]\u001b[0m\u001b[0;34m.\u001b[0m\u001b[0mall_members\u001b[0m\u001b[0;34m\u001b[0m\u001b[0;34m\u001b[0m\u001b[0m\n\u001b[0m",
      "\u001b[0;31mAttributeError\u001b[0m: 'TH1F' object has no attribute 'all_members'"
     ]
    }
   ],
   "source": [
    "file = uproot.open(\"https://scikit-hep.org/uproot3/examples/hepdata-example.root\")\n",
    "file.classnames()\n",
    "file[\"hpx\"].all_members"
   ]
  },
  {
   "cell_type": "code",
   "execution_count": 60,
   "id": "incorrect-awareness",
   "metadata": {
    "scrolled": false
   },
   "outputs": [
    {
     "name": "stdout",
     "output_type": "stream",
     "text": [
      "(b'h_evalDNN_HH_bkg_SR_weighted;1', 'TH1F')\n",
      "(b'h_evalDNN_HH_bkg_SR_weighted_smooth;1', 'TH1F')\n",
      "(b'h_evalDNN_HH_bkg_SR_weighted_smooth_up;1', 'TH1F')\n",
      "(b'h_evalDNN_HH_bkg_SR_weighted_smooth_down;1', 'TH1F')\n",
      "(b'h_evalDNN_HH_bkg_SR;1', 'TH1F')\n",
      "(b'h_evalDNN_HH_bkg_SR_smooth;1', 'TH1F')\n",
      "(b'h_evalDNN_HH_bkg_SR_smooth_up;1', 'TH1F')\n",
      "(b'h_evalDNN_HH_bkg_SR_smooth_down;1', 'TH1F')\n",
      "(b'h_evalDNN_HH_bkg_SB_weighted;1', 'TH1F')\n",
      "(b'h_evalDNN_HH_bkg_SB_weighted_smooth;2', 'TH1F')\n",
      "(b'h_evalDNN_HH_bkg_SB_weighted_smooth;1', 'TH1F')\n",
      "(b'h_evalDNN_HH_bkg_SB_weighted_smooth_up;2', 'TH1F')\n",
      "(b'h_evalDNN_HH_bkg_SB_weighted_smooth_up;1', 'TH1F')\n",
      "(b'h_evalDNN_HH_bkg_SB_weighted_smooth_down;2', 'TH1F')\n",
      "(b'h_evalDNN_HH_bkg_SB_weighted_smooth_down;1', 'TH1F')\n",
      "(b'h_evalDNN_HH_data_SB;1', 'TH1F')\n",
      "(b'h_evalDNN_HH_VHtoGG_SR_2017;1', 'TH1F')\n",
      "(b'h_evalDNN_HH_VHtoGG_SR_2017_smooth;1', 'TH1F')\n",
      "(b'h_evalDNN_HH_VHtoGG_SR_2017_smooth_up;1', 'TH1F')\n",
      "(b'h_evalDNN_HH_VHtoGG_SR_2017_smooth_down;1', 'TH1F')\n",
      "(b'h_evalDNN_HH_ttHtoGG_SR_2017;1', 'TH1F')\n",
      "(b'h_evalDNN_HH_ttHtoGG_SR_2017_smooth;1', 'TH1F')\n",
      "(b'h_evalDNN_HH_ttHtoGG_SR_2017_smooth_up;1', 'TH1F')\n",
      "(b'h_evalDNN_HH_ttHtoGG_SR_2017_smooth_down;1', 'TH1F')\n",
      "(b'h_evalDNN_HH_signal_SR;1', 'TH1F')\n",
      "(b'h_evalDNN_HH_signal_SB;1', 'TH1F')\n",
      "(b'h_evalDNN_HH_data_SB_diffBins;1', 'TH1F')\n",
      "(b'h_evalDNN_HH_bkg_SB_diffBins;1', 'TH1F')\n",
      "(b'h_evalDNN_HH_bkg_SB_weighted_diffBins;1', 'TH1F')\n",
      "(b'h_evalDNN_HH_ggHtoGG_SR;1', 'TH1F')\n",
      "(b'h_evalDNN_HH_VBFHtoGG_SR;1', 'TH1F')\n",
      "(b'h_evalDNN_HH_VHtoGG_SR;1', 'TH1F')\n",
      "(b'h_evalDNN_HH_ttHtoGG_SR;1', 'TH1F')\n"
     ]
    }
   ],
   "source": [
    "\n",
    "\n",
    "##-- Make signal, smoothed background DNN score plot in signal region\n",
    "file = \"/eos/user/a/atishelm/ntuples/HHWWgg_DNN/MultiClassifier/HHWWyyDNN_WithHggFactor2-200Epochs-3ClassMulticlass_EvenSingleH_2Hgg_withKinWeightCut10_BalanceYields/evalDNN_HH/evalDNN_HH_Histos_smoothing_SmoothSuper_bins70_massMin122.0_massMax128.0.root\"\n",
    "f = uproot.open(file)\n",
    "# print(f.keys())\n",
    "# print(\" \")\n",
    "# print(f.classnames())\n",
    "for item in f.classnames():\n",
    "    print(item)\n",
    "\n",
    "Bkg_SR_h = f[\"h_evalDNN_HH_bkg_SR_weighted_smooth\"]\n",
    "Signal_SR_h = f[\"h_evalDNN_HH_signal_SR\"]"
   ]
  },
  {
   "cell_type": "code",
   "execution_count": 63,
   "id": "twelve-franklin",
   "metadata": {},
   "outputs": [
    {
     "ename": "AttributeError",
     "evalue": "'TH1F' object has no attribute 'all_members'",
     "output_type": "error",
     "traceback": [
      "\u001b[0;31m---------------------------------------------------------------------------\u001b[0m",
      "\u001b[0;31mAttributeError\u001b[0m                            Traceback (most recent call last)",
      "\u001b[0;32m<ipython-input-63-21b01b566590>\u001b[0m in \u001b[0;36m<module>\u001b[0;34m\u001b[0m\n\u001b[0;32m----> 1\u001b[0;31m \u001b[0mBkg_SR_h\u001b[0m\u001b[0;34m.\u001b[0m\u001b[0mall_members\u001b[0m\u001b[0;34m\u001b[0m\u001b[0;34m\u001b[0m\u001b[0m\n\u001b[0m",
      "\u001b[0;31mAttributeError\u001b[0m: 'TH1F' object has no attribute 'all_members'"
     ]
    }
   ],
   "source": [
    "Bkg_SR_h.all_members"
   ]
  },
  {
   "cell_type": "code",
   "execution_count": 53,
   "id": "standard-chuck",
   "metadata": {},
   "outputs": [
    {
     "ename": "AttributeError",
     "evalue": "'TH1F' object has no attribute 'print'",
     "output_type": "error",
     "traceback": [
      "\u001b[0;31m---------------------------------------------------------------------------\u001b[0m",
      "\u001b[0;31mAttributeError\u001b[0m                            Traceback (most recent call last)",
      "\u001b[0;32m<ipython-input-53-c1178de54684>\u001b[0m in \u001b[0;36m<module>\u001b[0;34m\u001b[0m\n\u001b[0;32m----> 1\u001b[0;31m \u001b[0mBkg_SR_h\u001b[0m\u001b[0;34m.\u001b[0m\u001b[0mprint\u001b[0m\u001b[0;34m(\u001b[0m\u001b[0;34m)\u001b[0m\u001b[0;34m\u001b[0m\u001b[0;34m\u001b[0m\u001b[0m\n\u001b[0m\u001b[1;32m      2\u001b[0m \u001b[0;31m# a = Bkg_SR_h.to_numpy()\u001b[0m\u001b[0;34m\u001b[0m\u001b[0;34m\u001b[0m\u001b[0;34m\u001b[0m\u001b[0m\n\u001b[1;32m      3\u001b[0m \u001b[0;34m\u001b[0m\u001b[0m\n\u001b[1;32m      4\u001b[0m \u001b[0;34m\u001b[0m\u001b[0m\n\u001b[1;32m      5\u001b[0m \u001b[0;31m# Bkg_SR_values = Bkg_SR_h.values()\u001b[0m\u001b[0;34m\u001b[0m\u001b[0;34m\u001b[0m\u001b[0;34m\u001b[0m\u001b[0m\n",
      "\u001b[0;31mAttributeError\u001b[0m: 'TH1F' object has no attribute 'print'"
     ]
    }
   ],
   "source": [
    "\n",
    "##-- https://indico.cern.ch/event/697389/contributions/3102807/attachments/1713054/2762448/Writing_files_with_uproot.pdf\n",
    "\n",
    "# a = Bkg_SR_h.to_numpy()\n",
    "\n",
    "\n",
    "# Bkg_SR_values = Bkg_SR_h.values()\n",
    "\n",
    "\n",
    "# fig, ax = plt.subplots()\n",
    "# plt.hist(Bkg_SR_h)\n",
    "# plt.show()\n",
    "# plt.close()"
   ]
  },
  {
   "cell_type": "code",
   "execution_count": null,
   "id": "julian-volunteer",
   "metadata": {},
   "outputs": [],
   "source": []
  }
 ],
 "metadata": {
  "kernelspec": {
   "display_name": "Python 3",
   "language": "python",
   "name": "python3"
  },
  "language_info": {
   "codemirror_mode": {
    "name": "ipython",
    "version": 3
   },
   "file_extension": ".py",
   "mimetype": "text/x-python",
   "name": "python",
   "nbconvert_exporter": "python",
   "pygments_lexer": "ipython3",
   "version": "3.9.6"
  }
 },
 "nbformat": 4,
 "nbformat_minor": 5
}
