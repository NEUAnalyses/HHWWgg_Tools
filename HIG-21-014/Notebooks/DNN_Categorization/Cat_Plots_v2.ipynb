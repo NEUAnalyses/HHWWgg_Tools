{
 "cells": [
  {
   "cell_type": "code",
   "execution_count": 1,
   "id": "finished-saskatchewan",
   "metadata": {},
   "outputs": [],
   "source": [
    "from matplotlib import pyplot as plt \n",
    "import os \n",
    "import pandas as pd \n",
    "import numpy as np "
   ]
  },
  {
   "cell_type": "code",
   "execution_count": 2,
   "id": "urban-roman",
   "metadata": {},
   "outputs": [],
   "source": [
    "d = \"/eos/user/a/atishelm/www/HHWWgg/DNN/HHWWyyDNN_MultiClass_2Hgg_HggClassWeightFactor2_BalanceYields/Categorization/\""
   ]
  },
  {
   "cell_type": "code",
   "execution_count": 2,
   "id": "martial-compilation",
   "metadata": {},
   "outputs": [],
   "source": [
    "# files = [\"%s/%s\"%(d,f) for f in os.listdir(d) if \"v2.txt\" in f]\n",
    "files = [\"/eos/user/b/bmarzocc/HHWWgg/January_2021_Production/HHWWyyDNN_binary_EFT_noHgg_noNegWeights_BalanceYields_allBkgs_LOSignals_noPtOverM_withKinWeight_weightSel/categorize_nBins_380_nCat_4_massMin115.0_massMax135.0_v2.txt\"]"
   ]
  },
  {
   "cell_type": "code",
   "execution_count": 3,
   "id": "senior-credits",
   "metadata": {},
   "outputs": [
    {
     "name": "stdout",
     "output_type": "stream",
     "text": [
      "num files: 1\n"
     ]
    }
   ],
   "source": [
    "print(\"num files:\",len(files))\n",
    "# for f in files:\n",
    "#     print(f.split('/')[-1])\n",
    "# print(\"files_sOversqrtB\",files_sOversqrtB)"
   ]
  },
  {
   "cell_type": "code",
   "execution_count": 4,
   "id": "welcome-census",
   "metadata": {
    "scrolled": false
   },
   "outputs": [
    {
     "data": {
      "image/png": "[encoded data removed]",
      "text/plain": [
       "<Figure size 432x288 with 2 Axes>"
      ]
     },
     "metadata": {
      "needs_background": "light"
     },
     "output_type": "display_data"
    },
    {
     "name": "stdout",
     "output_type": "stream",
     "text": [
      "Saving info for: 115.0, 1\n"
     ]
    },
    {
     "ename": "IndexError",
     "evalue": "too many indices for array",
     "output_type": "error",
     "traceback": [
      "\u001b[0;31m---------------------------------------------------------------------------\u001b[0m",
      "\u001b[0;31mIndexError\u001b[0m                                Traceback (most recent call last)",
      "\u001b[0;32m<ipython-input-4-49e1d7b3a046>\u001b[0m in \u001b[0;36m<module>\u001b[0;34m\u001b[0m\n\u001b[1;32m     64\u001b[0m \u001b[0;31m#         print(\"sortedLists[:,1]:\",sortedLists[:,1])\u001b[0m\u001b[0;34m\u001b[0m\u001b[0;34m\u001b[0m\u001b[0;34m\u001b[0m\u001b[0m\n\u001b[1;32m     65\u001b[0m \u001b[0;31m#         print(\"--------------------------\")\u001b[0m\u001b[0;34m\u001b[0m\u001b[0;34m\u001b[0m\u001b[0;34m\u001b[0m\u001b[0m\n\u001b[0;32m---> 66\u001b[0;31m         \u001b[0mexec\u001b[0m\u001b[0;34m(\u001b[0m\u001b[0;34m\"bins_massMin_%s_nCats_%s = sortedLists[:,0]\"\u001b[0m\u001b[0;34m%\u001b[0m\u001b[0;34m(\u001b[0m\u001b[0mmassMintoPlot_str\u001b[0m\u001b[0;34m,\u001b[0m \u001b[0mstr\u001b[0m\u001b[0;34m(\u001b[0m\u001b[0mnumcats\u001b[0m\u001b[0;34m)\u001b[0m\u001b[0;34m)\u001b[0m\u001b[0;34m)\u001b[0m\u001b[0;34m\u001b[0m\u001b[0;34m\u001b[0m\u001b[0m\n\u001b[0m\u001b[1;32m     67\u001b[0m         \u001b[0mexec\u001b[0m\u001b[0;34m(\u001b[0m\u001b[0;34m\"sigs_massMin_%s_nCats_%s = sortedLists[:,1]\"\u001b[0m\u001b[0;34m%\u001b[0m\u001b[0;34m(\u001b[0m\u001b[0mmassMintoPlot_str\u001b[0m\u001b[0;34m,\u001b[0m \u001b[0mstr\u001b[0m\u001b[0;34m(\u001b[0m\u001b[0mnumcats\u001b[0m\u001b[0;34m)\u001b[0m\u001b[0;34m)\u001b[0m\u001b[0;34m)\u001b[0m\u001b[0;34m\u001b[0m\u001b[0;34m\u001b[0m\u001b[0m\n\u001b[1;32m     68\u001b[0m \u001b[0;31m#         print(\"bins:\",bins_massMin_%s_nCats_%s\"%(massMintoPlot_str, str(numcats)))\u001b[0m\u001b[0;34m\u001b[0m\u001b[0;34m\u001b[0m\u001b[0;34m\u001b[0m\u001b[0m\n",
      "\u001b[0;32m<string>\u001b[0m in \u001b[0;36m<module>\u001b[0;34m\u001b[0m\n",
      "\u001b[0;31mIndexError\u001b[0m: too many indices for array"
     ]
    }
   ],
   "source": [
    "massMins = [115.0, 120.0, 121.0, 122.0, 123.0]\n",
    "for massMintoPlot in massMins:\n",
    "    NCats_vals, nBins_vals, sig_vals = [], [], []\n",
    "    for i, file in enumerate(files):\n",
    "        endPathArgs = file.split('/')[-1].split('_')\n",
    "        massMin = endPathArgs[5] \n",
    "        massMin = massMin.replace(\"massMin\", \"\")\n",
    "        massMin = float(massMin)\n",
    "        nBins = float(endPathArgs[2])\n",
    "        nCatsLabel = endPathArgs[4]\n",
    "        if(massMin != massMintoPlot): continue \n",
    "            \n",
    "        ##-- Fill with category information\n",
    "        df = pd.read_csv(file, header=None)\n",
    "        Nrows = len(df.index)\n",
    "        Ncats = Nrows - 1 \n",
    "        \n",
    "        ##-- Only get total significance\n",
    "        row = df.iloc[-1, 0]\n",
    "        rowEntries = row.split()\n",
    "        Significance = float(rowEntries[-1])\n",
    "        NCats_vals.append(Ncats)\n",
    "        nBins_vals.append(nBins)\n",
    "        sig_vals.append(Significance)\n",
    "\n",
    "    xBinning = np.linspace(10, 1000, 20)\n",
    "    yBinning = np.linspace(1, 5, 5)        \n",
    "        \n",
    "    fig, ax = plt.subplots()\n",
    "    plt.title(\"massMin: %s\"%(massMintoPlot))\n",
    "#     plt.hist2d(nBins_vals, NCats_vals, weights = sig_vals)\n",
    "    plt.hist2d(nBins_vals, NCats_vals, weights = sig_vals, bins = [xBinning, yBinning])\n",
    "    plt.xscale('log')\n",
    "    plt.xlabel(\"nBins\")\n",
    "    plt.ylabel(\"nCats\")\n",
    "    plt.colorbar()\n",
    "    plt.show()\n",
    "    plt.close()        \n",
    "        \n",
    "#     print(\"max sig:\",max(sig_vals))\n",
    "#     print(\"NCats_vals:\",NCats_vals)\n",
    "#     print(\"nBins_vals:\",nBins_vals)\n",
    "#     print(\"sig_vals:\",sig_vals)\n",
    "    \n",
    "    ##-- Make plot for each nCats \n",
    "    for numcats in [1, 2, 3, 4, 5]:\n",
    "        print(\"Saving info for: %s, %s\"%(massMintoPlot, numcats))\n",
    "        sigs_, bins_ = [], []\n",
    "        for ival, val in enumerate(NCats_vals):\n",
    "            if(val == numcats):\n",
    "#                 print(\"saving info from ncats:\",val)\n",
    "                sigs_.append(sig_vals[ival])\n",
    "                bins_.append(nBins_vals[ival])\n",
    "    \n",
    "        zippedLists = zip(bins_, sigs_)\n",
    "        sortedLists = np.array(sorted(zippedLists)) \n",
    "        massMintoPlot_str = str(massMintoPlot).replace(\".\", \"p\")\n",
    "#         print(\"--------------------------\")\n",
    "#         print(\"Saving values:\")\n",
    "#         print(\"massMintoPlot_str\",massMintoPlot_str)\n",
    "#         print(\"numcats\",numcats)\n",
    "#         print(\"sortedLists:\",sortedLists)\n",
    "#         print(\"sortedLists[:,0]:\",sortedLists[:,0])\n",
    "#         print(\"sortedLists[:,1]:\",sortedLists[:,1])\n",
    "#         print(\"--------------------------\")\n",
    "        exec(\"bins_massMin_%s_nCats_%s = sortedLists[:,0]\"%(massMintoPlot_str, str(numcats)))\n",
    "        exec(\"sigs_massMin_%s_nCats_%s = sortedLists[:,1]\"%(massMintoPlot_str, str(numcats)))\n",
    "#         print(\"bins:\",bins_massMin_%s_nCats_%s\"%(massMintoPlot_str, str(numcats)))\n",
    "#         exec(\"print(sigs_massMin_%s_nCats_%s)\"%(massMintoPlot_str, str(numcats)))\n",
    "#         print(\"sigs:\",sigs_massMin_%s_nCats_%s\"%(massMintoPlot_str, str(numcats)))\n",
    "    \n",
    "##-- One plot per number of categories \n",
    "\n",
    "maxSignificance = -999\n",
    "maxSig_Bins = -999\n",
    "maxSig_NCats = -999\n",
    "maxSig_massMin = -999\n",
    "\n",
    "SecondSignificance = -999\n",
    "SecondSig_Bins = -999\n",
    "SecondSig_NCats = -999\n",
    "SecondSig_massMin = -999\n",
    "\n",
    "for numcats in [1, 2, 3, 4, 5]:\n",
    "    fig, ax = plt.subplots()\n",
    "    ##-- One line per massMin\n",
    "    for massMintoPlot in massMins:\n",
    "        massMintoPlot_str = str(massMintoPlot).replace(\".\", \"p\")\n",
    "#         print(\"--------------------------\")\n",
    "#         print(\"Plotting values:\")\n",
    "#         print(\"massMintoPlot_str\",massMintoPlot_str)\n",
    "#         print(\"numcats\",numcats)\n",
    "#         print(\"--------------------------\")        \n",
    "        exec(\"bins = bins_massMin_%s_nCats_%s\"%(massMintoPlot_str, str(numcats)))\n",
    "        exec(\"sigs = sigs_massMin_%s_nCats_%s\"%(massMintoPlot_str, str(numcats)))\n",
    "        \n",
    "        for sig_i, sig in enumerate(sigs):\n",
    "            if(sig > maxSignificance):\n",
    "                maxSignificance = sig \n",
    "                maxSig_Bins = bins[sig_i]\n",
    "                maxSig_NCats = numcats\n",
    "                maxSig_massMin = massMintoPlot\n",
    "                \n",
    "        for sig_i, sig in enumerate(sigs):\n",
    "            if((sig > SecondSignificance) and (sig < maxSignificance) ):\n",
    "                SecondSignificance = sig \n",
    "                SecondSig_Bins = bins[sig_i]\n",
    "                SecondSig_NCats = numcats\n",
    "                SecondSig_massMin = massMintoPlot                \n",
    "        \n",
    "                \n",
    "#         exec(\"print(sigs_massMin_%s_nCats_%s)\"%(massMintoPlot_str, str(numcats)))\n",
    "        plt.plot(bins, sigs, '-o', label = \"massMin = %s\"%(massMintoPlot))\n",
    "    plt.title(\"Significance vs. nBins: %s Categories\"%(numcats))\n",
    "    plt.xscale('log')\n",
    "    plt.xlabel(\"nBins\")\n",
    "    plt.ylabel(\"Total Significance\")\n",
    "    plt.legend()\n",
    "    plt.show()\n",
    "    plt.close()\n",
    "        \n",
    "\n",
    "print(\"---\")\n",
    "print(\"Maximum significance case:\")\n",
    "print(\"Significance:\",maxSignificance)\n",
    "print(\"Bins:\",maxSig_Bins)\n",
    "print(\"NCats:\",maxSig_NCats)\n",
    "print(\"Minimum mass:\",maxSig_massMin)\n",
    "print(\"---\")\n",
    "        \n",
    "print(\"---\")\n",
    "print(\"Second highest significance case:\")\n",
    "print(\"Significance:\",SecondSignificance)\n",
    "print(\"Bins:\",SecondSig_Bins)\n",
    "print(\"NCats:\",SecondSig_NCats)\n",
    "print(\"Minimum mass:\",SecondSig_massMin)\n",
    "print(\"---\")\n",
    "            \n",
    "        \n",
    "    \n",
    "#         bins = sortedLists[:,0]\n",
    "#         sigs = sortedLists[:,1]\n",
    "#         fig, ax = plt.subplots()\n",
    "#         plt.title(\"NCats: %s, massMin: %s\"%(numcats, massMintoPlot))\n",
    "#         plt.plot(bins, sigs, 'o-')\n",
    "#         plt.show()\n",
    "#         plt.close()\n",
    "                \n",
    "        \n",
    "#     xBinning = np.linspace(10, 200, 21)\n",
    "#     yBinning = np.linspace(1, 5, 5)\n",
    "    \n",
    "\n",
    "print(\"DONE\")\n",
    "    \n"
   ]
  },
  {
   "cell_type": "code",
   "execution_count": 5,
   "id": "chinese-infection",
   "metadata": {},
   "outputs": [
    {
     "name": "stdout",
     "output_type": "stream",
     "text": [
      "NCats_vals [4]\n",
      "nBins_vals [380.0]\n",
      "sig_vals [0.0105262808801]\n"
     ]
    },
    {
     "ename": "ValueError",
     "evalue": "not enough values to unpack (expected 2, got 1)",
     "output_type": "error",
     "traceback": [
      "\u001b[0;31m---------------------------------------------------------------------------\u001b[0m",
      "\u001b[0;31mValueError\u001b[0m                                Traceback (most recent call last)",
      "\u001b[0;32m<ipython-input-5-5520257dfb10>\u001b[0m in \u001b[0;36m<module>\u001b[0;34m\u001b[0m\n\u001b[1;32m     16\u001b[0m \u001b[0mprint\u001b[0m\u001b[0;34m(\u001b[0m\u001b[0;34m\"sig_vals\"\u001b[0m\u001b[0;34m,\u001b[0m \u001b[0msig_vals\u001b[0m\u001b[0;34m)\u001b[0m\u001b[0;34m\u001b[0m\u001b[0;34m\u001b[0m\u001b[0m\n\u001b[1;32m     17\u001b[0m \u001b[0;34m\u001b[0m\u001b[0m\n\u001b[0;32m---> 18\u001b[0;31m \u001b[0mc\u001b[0m \u001b[0;34m=\u001b[0m \u001b[0max\u001b[0m\u001b[0;34m.\u001b[0m\u001b[0mpcolormesh\u001b[0m\u001b[0;34m(\u001b[0m\u001b[0mnp\u001b[0m\u001b[0;34m.\u001b[0m\u001b[0marray\u001b[0m\u001b[0;34m(\u001b[0m\u001b[0mNCats_vals\u001b[0m\u001b[0;34m)\u001b[0m\u001b[0;34m,\u001b[0m \u001b[0mnp\u001b[0m\u001b[0;34m.\u001b[0m\u001b[0marray\u001b[0m\u001b[0;34m(\u001b[0m\u001b[0mnBins_vals\u001b[0m\u001b[0;34m)\u001b[0m\u001b[0;34m,\u001b[0m \u001b[0mnp\u001b[0m\u001b[0;34m.\u001b[0m\u001b[0marray\u001b[0m\u001b[0;34m(\u001b[0m\u001b[0msig_vals\u001b[0m\u001b[0;34m)\u001b[0m\u001b[0;34m,\u001b[0m \u001b[0mcmap\u001b[0m\u001b[0;34m=\u001b[0m\u001b[0;34m'RdBu'\u001b[0m\u001b[0;34m,\u001b[0m \u001b[0mvmin\u001b[0m\u001b[0;34m=\u001b[0m\u001b[0msig_min\u001b[0m\u001b[0;34m,\u001b[0m \u001b[0mvmax\u001b[0m\u001b[0;34m=\u001b[0m\u001b[0msig_max\u001b[0m\u001b[0;34m)\u001b[0m\u001b[0;34m\u001b[0m\u001b[0;34m\u001b[0m\u001b[0m\n\u001b[0m\u001b[1;32m     19\u001b[0m \u001b[0max\u001b[0m\u001b[0;34m.\u001b[0m\u001b[0mset_title\u001b[0m\u001b[0;34m(\u001b[0m\u001b[0;34m'pcolor'\u001b[0m\u001b[0;34m)\u001b[0m\u001b[0;34m\u001b[0m\u001b[0;34m\u001b[0m\u001b[0m\n\u001b[1;32m     20\u001b[0m \u001b[0mfig\u001b[0m\u001b[0;34m.\u001b[0m\u001b[0mcolorbar\u001b[0m\u001b[0;34m(\u001b[0m\u001b[0mc\u001b[0m\u001b[0;34m,\u001b[0m \u001b[0max\u001b[0m\u001b[0;34m=\u001b[0m\u001b[0max\u001b[0m\u001b[0;34m)\u001b[0m\u001b[0;34m\u001b[0m\u001b[0;34m\u001b[0m\u001b[0m\n",
      "\u001b[0;32m/cvmfs/sft.cern.ch/lcg/views/LCG_99/x86_64-centos7-gcc8-opt/lib/python3.8/site-packages/matplotlib/__init__.py\u001b[0m in \u001b[0;36minner\u001b[0;34m(ax, data, *args, **kwargs)\u001b[0m\n\u001b[1;32m   1445\u001b[0m     \u001b[0;32mdef\u001b[0m \u001b[0minner\u001b[0m\u001b[0;34m(\u001b[0m\u001b[0max\u001b[0m\u001b[0;34m,\u001b[0m \u001b[0;34m*\u001b[0m\u001b[0margs\u001b[0m\u001b[0;34m,\u001b[0m \u001b[0mdata\u001b[0m\u001b[0;34m=\u001b[0m\u001b[0;32mNone\u001b[0m\u001b[0;34m,\u001b[0m \u001b[0;34m**\u001b[0m\u001b[0mkwargs\u001b[0m\u001b[0;34m)\u001b[0m\u001b[0;34m:\u001b[0m\u001b[0;34m\u001b[0m\u001b[0;34m\u001b[0m\u001b[0m\n\u001b[1;32m   1446\u001b[0m         \u001b[0;32mif\u001b[0m \u001b[0mdata\u001b[0m \u001b[0;32mis\u001b[0m \u001b[0;32mNone\u001b[0m\u001b[0;34m:\u001b[0m\u001b[0;34m\u001b[0m\u001b[0;34m\u001b[0m\u001b[0m\n\u001b[0;32m-> 1447\u001b[0;31m             \u001b[0;32mreturn\u001b[0m \u001b[0mfunc\u001b[0m\u001b[0;34m(\u001b[0m\u001b[0max\u001b[0m\u001b[0;34m,\u001b[0m \u001b[0;34m*\u001b[0m\u001b[0mmap\u001b[0m\u001b[0;34m(\u001b[0m\u001b[0msanitize_sequence\u001b[0m\u001b[0;34m,\u001b[0m \u001b[0margs\u001b[0m\u001b[0;34m)\u001b[0m\u001b[0;34m,\u001b[0m \u001b[0;34m**\u001b[0m\u001b[0mkwargs\u001b[0m\u001b[0;34m)\u001b[0m\u001b[0;34m\u001b[0m\u001b[0;34m\u001b[0m\u001b[0m\n\u001b[0m\u001b[1;32m   1448\u001b[0m \u001b[0;34m\u001b[0m\u001b[0m\n\u001b[1;32m   1449\u001b[0m         \u001b[0mbound\u001b[0m \u001b[0;34m=\u001b[0m \u001b[0mnew_sig\u001b[0m\u001b[0;34m.\u001b[0m\u001b[0mbind\u001b[0m\u001b[0;34m(\u001b[0m\u001b[0max\u001b[0m\u001b[0;34m,\u001b[0m \u001b[0;34m*\u001b[0m\u001b[0margs\u001b[0m\u001b[0;34m,\u001b[0m \u001b[0;34m**\u001b[0m\u001b[0mkwargs\u001b[0m\u001b[0;34m)\u001b[0m\u001b[0;34m\u001b[0m\u001b[0;34m\u001b[0m\u001b[0m\n",
      "\u001b[0;32m/cvmfs/sft.cern.ch/lcg/views/LCG_99/x86_64-centos7-gcc8-opt/lib/python3.8/site-packages/matplotlib/axes/_axes.py\u001b[0m in \u001b[0;36mpcolormesh\u001b[0;34m(self, alpha, norm, cmap, vmin, vmax, shading, antialiased, *args, **kwargs)\u001b[0m\n\u001b[1;32m   6090\u001b[0m         \u001b[0mkwargs\u001b[0m\u001b[0;34m.\u001b[0m\u001b[0msetdefault\u001b[0m\u001b[0;34m(\u001b[0m\u001b[0;34m'edgecolors'\u001b[0m\u001b[0;34m,\u001b[0m \u001b[0;34m'None'\u001b[0m\u001b[0;34m)\u001b[0m\u001b[0;34m\u001b[0m\u001b[0;34m\u001b[0m\u001b[0m\n\u001b[1;32m   6091\u001b[0m \u001b[0;34m\u001b[0m\u001b[0m\n\u001b[0;32m-> 6092\u001b[0;31m         X, Y, C, shading = self._pcolorargs('pcolormesh', *args,\n\u001b[0m\u001b[1;32m   6093\u001b[0m                                             shading=shading, kwargs=kwargs)\n\u001b[1;32m   6094\u001b[0m         \u001b[0mNy\u001b[0m\u001b[0;34m,\u001b[0m \u001b[0mNx\u001b[0m \u001b[0;34m=\u001b[0m \u001b[0mX\u001b[0m\u001b[0;34m.\u001b[0m\u001b[0mshape\u001b[0m\u001b[0;34m\u001b[0m\u001b[0;34m\u001b[0m\u001b[0m\n",
      "\u001b[0;32m/cvmfs/sft.cern.ch/lcg/views/LCG_99/x86_64-centos7-gcc8-opt/lib/python3.8/site-packages/matplotlib/axes/_axes.py\u001b[0m in \u001b[0;36m_pcolorargs\u001b[0;34m(self, funcname, shading, *args, **kwargs)\u001b[0m\n\u001b[1;32m   5583\u001b[0m                 \u001b[0;32mif\u001b[0m \u001b[0misinstance\u001b[0m\u001b[0;34m(\u001b[0m\u001b[0mY\u001b[0m\u001b[0;34m,\u001b[0m \u001b[0mnp\u001b[0m\u001b[0;34m.\u001b[0m\u001b[0mma\u001b[0m\u001b[0;34m.\u001b[0m\u001b[0mcore\u001b[0m\u001b[0;34m.\u001b[0m\u001b[0mMaskedArray\u001b[0m\u001b[0;34m)\u001b[0m\u001b[0;34m:\u001b[0m\u001b[0;34m\u001b[0m\u001b[0;34m\u001b[0m\u001b[0m\n\u001b[1;32m   5584\u001b[0m                     \u001b[0mY\u001b[0m \u001b[0;34m=\u001b[0m \u001b[0mY\u001b[0m\u001b[0;34m.\u001b[0m\u001b[0mdata\u001b[0m\u001b[0;34m\u001b[0m\u001b[0;34m\u001b[0m\u001b[0m\n\u001b[0;32m-> 5585\u001b[0;31m             \u001b[0mnrows\u001b[0m\u001b[0;34m,\u001b[0m \u001b[0mncols\u001b[0m \u001b[0;34m=\u001b[0m \u001b[0mC\u001b[0m\u001b[0;34m.\u001b[0m\u001b[0mshape\u001b[0m\u001b[0;34m\u001b[0m\u001b[0;34m\u001b[0m\u001b[0m\n\u001b[0m\u001b[1;32m   5586\u001b[0m         \u001b[0;32melse\u001b[0m\u001b[0;34m:\u001b[0m\u001b[0;34m\u001b[0m\u001b[0;34m\u001b[0m\u001b[0m\n\u001b[1;32m   5587\u001b[0m             raise TypeError(f'{funcname}() takes 1 or 3 positional arguments '\n",
      "\u001b[0;31mValueError\u001b[0m: not enough values to unpack (expected 2, got 1)"
     ]
    },
    {
     "data": {
      "image/png": "[encoded data removed]",
      "text/plain": [
       "<Figure size 432x288 with 1 Axes>"
      ]
     },
     "metadata": {
      "needs_background": "light"
     },
     "output_type": "display_data"
    }
   ],
   "source": [
    "# make these smaller to increase the resolution\n",
    "dx, dy = 0.15, 0.05\n",
    "\n",
    "\n",
    "\n",
    "y, x = np.mgrid[-3:3+dy:dy, -3:3+dx:dx]\n",
    "\n",
    "# x and y are bounds, so z should be the value *inside* those bounds.\n",
    "# Therefore, remove the last value from the z array.\n",
    "sig_min, sig_max = np.min(Significance), np.max(abs(Significance))\n",
    "\n",
    "fig, ax = plt.subplots()\n",
    "\n",
    "print(\"NCats_vals\", NCats_vals)\n",
    "print(\"nBins_vals\", nBins_vals)\n",
    "print(\"sig_vals\", sig_vals)\n",
    "\n",
    "c = ax.pcolormesh(np.array(NCats_vals), np.array(nBins_vals), np.array(sig_vals), cmap='RdBu', vmin=sig_min, vmax=sig_max)\n",
    "ax.set_title('pcolor')\n",
    "fig.colorbar(c, ax=ax)\n",
    "\n",
    "# ax = axs[0, 1]\n",
    "# c = ax.pcolormesh(x, y, z, cmap='RdBu', vmin=z_min, vmax=z_max)\n",
    "# ax.set_title('pcolormesh')\n",
    "# fig.colorbar(c, ax=ax)\n",
    "\n",
    "# ax = axs[1, 0]\n",
    "# c = ax.imshow(z, cmap='RdBu', vmin=z_min, vmax=z_max,\n",
    "#               extent=[x.min(), x.max(), y.min(), y.max()],\n",
    "#               interpolation='nearest', origin='lower', aspect='auto')\n",
    "# ax.set_title('image (nearest, aspect=\"auto\")')\n",
    "# fig.colorbar(c, ax=ax)\n",
    "\n",
    "# ax = axs[1, 1]\n",
    "# c = ax.pcolorfast(x, y, z, cmap='RdBu', vmin=z_min, vmax=z_max)\n",
    "# ax.set_title('pcolorfast')\n",
    "# fig.colorbar(c, ax=ax)\n",
    "\n",
    "fig.tight_layout()\n",
    "plt.show()    \n",
    "plt.close()    \n",
    "\n",
    "            \n",
    "print(\"DONE\")\n",
    "        \n",
    "#         print(\"    %s & %s & %s & %s & %s & %s & %s \\\\\\ \"%(CatNum, DNNscoreMin, DNNscoreMax, Nsignal, Nbkg, NSB, Significance))\n",
    "    "
   ]
  },
  {
   "cell_type": "code",
   "execution_count": 23,
   "id": "arbitrary-leave",
   "metadata": {},
   "outputs": [
    {
     "name": "stdout",
     "output_type": "stream",
     "text": [
      "x: [[-3.   -2.85 -2.7  ...  2.85  3.    3.15]\n",
      " [-3.   -2.85 -2.7  ...  2.85  3.    3.15]\n",
      " [-3.   -2.85 -2.7  ...  2.85  3.    3.15]\n",
      " ...\n",
      " [-3.   -2.85 -2.7  ...  2.85  3.    3.15]\n",
      " [-3.   -2.85 -2.7  ...  2.85  3.    3.15]\n",
      " [-3.   -2.85 -2.7  ...  2.85  3.    3.15]]\n",
      "y: [[-3.   -3.   -3.   ... -3.   -3.   -3.  ]\n",
      " [-2.95 -2.95 -2.95 ... -2.95 -2.95 -2.95]\n",
      " [-2.9  -2.9  -2.9  ... -2.9  -2.9  -2.9 ]\n",
      " ...\n",
      " [ 2.9   2.9   2.9  ...  2.9   2.9   2.9 ]\n",
      " [ 2.95  2.95  2.95 ...  2.95  2.95  2.95]\n",
      " [ 3.    3.    3.   ...  3.    3.    3.  ]]\n",
      "z: [[-4.07401958e-06 -7.78688374e-06 -1.41583137e-05 ...  9.77960320e-06\n",
      "   5.88231752e-06  3.28206063e-06]\n",
      " [-5.45839441e-06 -1.04194741e-05 -1.89134756e-05 ...  1.33186513e-05\n",
      "   7.98594644e-06  4.44648209e-06]\n",
      " [-7.27774767e-06 -1.38749305e-05 -2.51448058e-05 ...  1.80389190e-05\n",
      "   1.07841502e-05  5.99253582e-06]\n",
      " ...\n",
      " [-7.96075258e-06 -1.43092961e-05 -2.38935839e-05 ...  3.36742333e-05\n",
      "   1.85634925e-05  9.72973750e-06]\n",
      " [-5.93758641e-06 -1.06520035e-05 -1.77351058e-05 ...  2.54486190e-05\n",
      "   1.40070772e-05  7.33269708e-06]\n",
      " [-4.40546810e-06 -7.88731274e-06 -1.30918866e-05 ...  1.91402403e-05\n",
      "   1.05181079e-05  5.49940840e-06]]\n",
      "len(x): 121\n",
      "len(y): 121\n",
      "len(z): 120\n"
     ]
    },
    {
     "data": {
      "image/png": "[encoded data removed]",
      "text/plain": [
       "<Figure size 432x288 with 8 Axes>"
      ]
     },
     "metadata": {
      "needs_background": "light"
     },
     "output_type": "display_data"
    }
   ],
   "source": [
    "# make these smaller to increase the resolution\n",
    "dx, dy = 0.15, 0.05\n",
    "\n",
    "# generate 2 2d grids for the x & y bounds\n",
    "y, x = np.mgrid[-3:3+dy:dy, -3:3+dx:dx]\n",
    "z = (1 - x/2 + x**5 + y**3) * np.exp(-x**2 - y**2)\n",
    "# x and y are bounds, so z should be the value *inside* those bounds.\n",
    "# Therefore, remove the last value from the z array.\n",
    "z = z[:-1, :-1]\n",
    "z_min, z_max = -abs(z).max(), abs(z).max()\n",
    "\n",
    "print(\"x:\",x)\n",
    "print(\"y:\",y)\n",
    "print(\"z:\",z)\n",
    "\n",
    "print(\"len(x):\",len(x))\n",
    "print(\"len(y):\",len(y))\n",
    "print(\"len(z):\",len(z))\n",
    "\n",
    "fig, axs = plt.subplots(2, 2)\n",
    "\n",
    "ax = axs[0, 0]\n",
    "c = ax.pcolor(x, y, z, cmap='RdBu', vmin=z_min, vmax=z_max)\n",
    "ax.set_title('pcolor')\n",
    "fig.colorbar(c, ax=ax)\n",
    "\n",
    "ax = axs[0, 1]\n",
    "c = ax.pcolormesh(x, y, z, cmap='RdBu', vmin=z_min, vmax=z_max)\n",
    "ax.set_title('pcolormesh')\n",
    "fig.colorbar(c, ax=ax)\n",
    "\n",
    "ax = axs[1, 0]\n",
    "c = ax.imshow(z, cmap='RdBu', vmin=z_min, vmax=z_max,\n",
    "              extent=[x.min(), x.max(), y.min(), y.max()],\n",
    "              interpolation='nearest', origin='lower', aspect='auto')\n",
    "ax.set_title('image (nearest, aspect=\"auto\")')\n",
    "fig.colorbar(c, ax=ax)\n",
    "\n",
    "ax = axs[1, 1]\n",
    "c = ax.pcolorfast(x, y, z, cmap='RdBu', vmin=z_min, vmax=z_max)\n",
    "ax.set_title('pcolorfast')\n",
    "fig.colorbar(c, ax=ax)\n",
    "\n",
    "fig.tight_layout()\n",
    "plt.show()"
   ]
  },
  {
   "cell_type": "code",
   "execution_count": 6,
   "id": "spread-husband",
   "metadata": {},
   "outputs": [
    {
     "name": "stdout",
     "output_type": "stream",
     "text": [
      "\\begin{table}[H]\n",
      "  \\begin{center}\n",
      "    \\begin{tabular}{c|c|c|c|c|c|c}\n",
      "    CatN & DNN Min & DNN Max & S & $B_{SR}$ & $Data_{Sideband}$ & Significance\\\\ \\hline\n",
      "    0 & 0.99763 & 1.0 & 0.02696 & 9.69385 & 71.0 & 0.00866 \\\\ \n",
      "    1 & 0.98579 & 0.99763 & 0.0327 & 48.65192 & 85.0 & 0.00469 \\\\ \n",
      "    2 & 0.74658 & 0.98579 & 0.08363 & 539.39256 & 1081.0 & 0.0036 \\\\ \n",
      "    3 & 0.1 & 0.74658 & 0.04886 & 2494.74576 & 5660.0 & 0.00098 \\\\ \n",
      "    \\end{tabular}\n",
      "  \\end{center}\n",
      "\\caption{\n",
      "    Semi-Leptonic DNN Category Boundaries and yields in signal region for 4 Categories\n",
      "}\n",
      "\\label{tab:SLcategories_4}\n",
      "\\end{table}\n",
      " \n"
     ]
    }
   ],
   "source": [
    "##-- Make table for each Number of categories for a given binning, \n",
    "\n",
    "roundPlace = 5\n",
    "\n",
    "for i, file in enumerate(files):\n",
    "    ##-- Begin Table\n",
    "    print(\"\\\\begin{table}[H]\")\n",
    "    print(\"  \\\\begin{center}\")\n",
    "    print(\"    \\\\begin{tabular}{c|c|c|c|c|c|c}\")\n",
    "    print(\"    CatN & DNN Min & DNN Max & S & $B_{SR}$ & $Data_{Sideband}$ & Significance\\\\\\ \\\\hline\")    \n",
    "    \n",
    "    ##-- Fill with category information\n",
    "    df = pd.read_csv(file, header=None)\n",
    "    Nrows = len(df.index)\n",
    "    Ncats = Nrows - 1 \n",
    "#     print(\"Nrows:\",Nrows)\n",
    "#     print(\"First Category:\",df.iloc[-2,:])\n",
    "    \n",
    "    ##-- Get: \n",
    "    # Category Number, DNN score Min, DNN score max, Nsignal, NBkg, Significance \n",
    "    for irow in range(0, Ncats):\n",
    "        thisRow = (irow * -1) - 2  \n",
    "    #     print(\"thisRow:\",thisRow)\n",
    "        row = df.iloc[thisRow, 0]\n",
    "        rowEntries = row.split()\n",
    "        CatNum = irow\n",
    "        DNNscoreMin = round(float(rowEntries[0]), roundPlace) \n",
    "        DNNscoreMax = round(float(rowEntries[1]), roundPlace)\n",
    "        Nsignal = round(float(rowEntries[5]),roundPlace)\n",
    "        NSB = round(float(rowEntries[-1]), roundPlace)\n",
    "#         Ncont = round(float(rowEntries[7]), roundPlace)\n",
    "#         NVH = round(float(rowEntries[9]), roundPlace)\n",
    "#         NttH = round(float(rowEntries[11]), roundPlace)\n",
    "        Nbkg = round(float(rowEntries[7]), roundPlace)\n",
    "        Significance = round(float(rowEntries[3]), roundPlace)\n",
    "\n",
    "        print(\"    %s & %s & %s & %s & %s & %s & %s \\\\\\ \"%(CatNum, DNNscoreMin, DNNscoreMax, Nsignal, Nbkg, NSB, Significance))\n",
    "#         print(\"    %s & %s & %s & %s & %s & %s & %s & %s & %s \\\\\\ \"%(CatNum, DNNscoreMin, DNNscoreMax, Nsignal, Nbkg, Ncont, NVH, NttH, Significance))\n",
    "    \n",
    "    ##-- Finish table\n",
    "    print(\"    \\\\end{tabular}\")\n",
    "    print(\"  \\\\end{center}\")\n",
    "    print(\"\\\\caption{\")\n",
    "    print(\"    Semi-Leptonic DNN Category Boundaries and yields in signal region for %s Categories\"%(Ncats))\n",
    "    print(\"}\")\n",
    "    print(\"\\\\label{tab:SLcategories_%s}\"%(Ncats))\n",
    "    print(\"\\\\end{table}\")\n",
    "    print(\" \")\n",
    "    \n"
   ]
  },
  {
   "cell_type": "code",
   "execution_count": 33,
   "id": "announced-occupation",
   "metadata": {},
   "outputs": [
    {
     "name": "stdout",
     "output_type": "stream",
     "text": [
      "NCats_vals: [1, 2, 3, 4, 5]\n",
      "Tot_Sig_vals: [0.0329922790805, 0.0337958410606, 0.0380231750868, 0.0397628838051, 0.0404737782575]\n",
      "NCats_vals_SoversqrtB: [1, 2, 3, 4, 5]\n",
      "Tot_Sig_vals_SoversqrtB: [0.0331510743721, 0.0339509521894, 0.0382341675516, 0.0399754140597, 0.0406839576573]\n",
      "\\begin{table}[H]\n",
      "  \\begin{center}\n",
      "    \\begin{tabular}{c|c|c}\n",
      "    NCategories & Total Significance with Eq \\ref{eq:SignifianceDef} & $\\frac{S}{\\sqrt{B}}$ \\\\ \\hline\n",
      "    1 & 0.032992 & 0.033151  \\\\ \n",
      "    2 & 0.033796 & 0.033951  \\\\ \n",
      "    3 & 0.038023 & 0.038234  \\\\ \n",
      "    4 & 0.039763 & 0.039975  \\\\ \n",
      "    5 & 0.040474 & 0.040684  \\\\ \n",
      "    \\end{tabular}\n",
      "  \\end{center}\n",
      "\\caption{\n",
      "    Significance values using two equations for significance\n",
      "}\n",
      "\\label{tab:SigVsNcats_table}\n",
      "\\end{table}\n",
      " \n",
      "DONE\n"
     ]
    }
   ],
   "source": [
    "##-- To plot both together\n",
    "\n",
    "roundPlace = 6\n",
    "\n",
    "fig, ax = plt.subplots()\n",
    "\n",
    "NCats_vals = []\n",
    "Tot_Sig_vals = []\n",
    "\n",
    "for i, file in enumerate(files):\n",
    "    df = pd.read_csv(file, header=None)\n",
    "    NCats = len(df.index) - 1 \n",
    "    NCats_vals.append(NCats)\n",
    "    Tot_Sig = float(df.iloc[-1,-1].split(' ')[-1])\n",
    "    Tot_Sig_vals.append(Tot_Sig)\n",
    "    \n",
    "print(\"NCats_vals:\",NCats_vals)\n",
    "print(\"Tot_Sig_vals:\",Tot_Sig_vals)\n",
    "    \n",
    "plt.plot(NCats_vals, Tot_Sig_vals, 'o-', label = \"General Expression\")\n",
    "    \n",
    "NCats_vals_SoversqrtB = []\n",
    "Tot_Sig_vals_SoversqrtB = []\n",
    "\n",
    "for i, file in enumerate(files_sOversqrtB):\n",
    "    df = pd.read_csv(file, header=None)\n",
    "    NCats = len(df.index) - 1 \n",
    "    NCats_vals_SoversqrtB.append(NCats)\n",
    "    Tot_Sig = float(df.iloc[-1,-1].split(' ')[-1])\n",
    "    Tot_Sig_vals_SoversqrtB.append(Tot_Sig)\n",
    "    \n",
    "print(\"NCats_vals_SoversqrtB:\",NCats_vals_SoversqrtB)\n",
    "print(\"Tot_Sig_vals_SoversqrtB:\",Tot_Sig_vals_SoversqrtB)    \n",
    "print(\"Tot_Sig_vals_SoversqrtB:\",Tot_Sig_vals_SoversqrtB)    \n",
    "    \n",
    "yMax_soversqrtb = max(Tot_Sig_vals_SoversqrtB)\n",
    "yMax_general = max(Tot_Sig_vals)\n",
    "overallYmax = -999 \n",
    "if(yMax_soversqrtb > yMax_general):\n",
    "    overallYmax = yMax_soversqrtb\n",
    "else:\n",
    "    overallYmax = yMax_general\n",
    "    \n",
    "print(\"\\\\begin{table}[H]\")\n",
    "print(\"  \\\\begin{center}\")\n",
    "print(\"    \\\\begin{tabular}{c|c|c}\")\n",
    "print(\"    NCategories & Total Significance with Eq \\\\ref{eq:SignifianceDef} & $\\\\frac{S}{\\\\sqrt{B}}$ \\\\\\ \\\\hline\")    \n",
    "print(\"    1 & %s & %s  \\\\\\ \"%(round(Tot_Sig_vals[0],roundPlace), round(Tot_Sig_vals_SoversqrtB[0],roundPlace)))\n",
    "print(\"    2 & %s & %s  \\\\\\ \"%(round(Tot_Sig_vals[1],roundPlace), round(Tot_Sig_vals_SoversqrtB[1],roundPlace)))\n",
    "print(\"    3 & %s & %s  \\\\\\ \"%(round(Tot_Sig_vals[2],roundPlace), round(Tot_Sig_vals_SoversqrtB[2],roundPlace)))\n",
    "print(\"    4 & %s & %s  \\\\\\ \"%(round(Tot_Sig_vals[3],roundPlace), round(Tot_Sig_vals_SoversqrtB[3],roundPlace)))\n",
    "print(\"    5 & %s & %s  \\\\\\ \"%(round(Tot_Sig_vals[4],roundPlace), round(Tot_Sig_vals_SoversqrtB[4],roundPlace)))\n",
    "print(\"    \\\\end{tabular}\")\n",
    "print(\"  \\\\end{center}\")\n",
    "print(\"\\\\caption{\")\n",
    "print(\"    Significance values using two equations for significance\")\n",
    "print(\"}\")\n",
    "print(\"\\\\label{tab:SigVsNcats_table}\")\n",
    "print(\"\\\\end{table}\")\n",
    "print(\" \")    \n",
    "    \n",
    "    \n",
    "plt.plot(NCats_vals_SoversqrtB, Tot_Sig_vals_SoversqrtB, 'o-', label = r\"S / $\\sqrt{B}$\")\n",
    "plt.legend(loc = 'best')\n",
    "plt.xlabel(\"Number of Categories\", fontsize = 15)\n",
    "plt.ylabel(\"Significance\", fontsize = 15)\n",
    "plt.ylim(0, overallYmax*1.1)\n",
    "plt.tight_layout()\n",
    "# plt.show()\n",
    "plt.savefig(\"%s/SigVsNCats.png\"%(d))\n",
    "plt.savefig(\"%s/SigVsNCats.pdf\"%(d))\n",
    "plt.close()\n",
    "print(\"DONE\")"
   ]
  },
  {
   "cell_type": "code",
   "execution_count": 61,
   "id": "sustained-philadelphia",
   "metadata": {},
   "outputs": [
    {
     "name": "stdout",
     "output_type": "stream",
     "text": [
      "NCats_vals: [1, 2, 3, 4, 5]\n",
      "Tot_Sig_vals: [0.0171322929157, 0.0172213680096, 0.0690187816042, 0.0691652102274, 0.0692055028059]\n"
     ]
    },
    {
     "data": {
      "image/png": "[encoded data removed]",
      "text/plain": [
       "<Figure size 432x288 with 1 Axes>"
      ]
     },
     "metadata": {
      "needs_background": "light"
     },
     "output_type": "display_data"
    }
   ],
   "source": [
    "##-- To plot one\n",
    "\n",
    "fig, ax = plt.subplots()\n",
    "\n",
    "NCats_vals = []\n",
    "Tot_Sig_vals = []\n",
    "\n",
    "for i, file in enumerate(files):\n",
    "    df = pd.read_csv(file, header=None)\n",
    "    NCats = len(df.index) - 1 \n",
    "    NCats_vals.append(NCats)\n",
    "    Tot_Sig = float(df.iloc[-1,-1].split(' ')[-1])\n",
    "    Tot_Sig_vals.append(Tot_Sig)\n",
    "    \n",
    "print(\"NCats_vals:\",NCats_vals)\n",
    "print(\"Tot_Sig_vals:\",Tot_Sig_vals)\n",
    "    \n",
    "plt.plot(NCats_vals, Tot_Sig_vals, 'o-', label = \"Significance\")\n",
    "\n",
    "plt.legend()\n",
    "plt.show()\n",
    "plt.close()"
   ]
  },
  {
   "cell_type": "code",
   "execution_count": null,
   "id": "subjective-pension",
   "metadata": {},
   "outputs": [],
   "source": []
  },
  {
   "cell_type": "code",
   "execution_count": null,
   "id": "willing-turning",
   "metadata": {},
   "outputs": [],
   "source": []
  },
  {
   "cell_type": "code",
   "execution_count": 27,
   "id": "tropical-saint",
   "metadata": {},
   "outputs": [],
   "source": [
    "import ROOT\n",
    "import numpy as np "
   ]
  },
  {
   "cell_type": "code",
   "execution_count": 28,
   "id": "backed-saturn",
   "metadata": {},
   "outputs": [],
   "source": [
    "f = ROOT.TFile.Open(\"/eos/user/a/atishelm/ntuples/HHWWgg_DNN/MultiClassifier/HHWWyyDNN_WithHggFactor2-200Epochs-3ClassMulticlass_EvenSingleH_2Hgg_withKinWeightCut10_BalanceYields/evalDNN_HH/evalDNN_HH_Histos_smoothing_SmoothSuper_bins70_massMin122.0_massMax128.0.root\")\n",
    "Bkg_SR_h = f.Get(\"h_evalDNN_HH_bkg_SR_weighted_smooth\")\n",
    "Sig_SR_h = f.Get(\"h_evalDNN_HH_signal_SR\")"
   ]
  },
  {
   "cell_type": "code",
   "execution_count": 34,
   "id": "cardiac-opposition",
   "metadata": {},
   "outputs": [
    {
     "name": "stdout",
     "output_type": "stream",
     "text": [
      "DONE\n"
     ]
    }
   ],
   "source": [
    "Bkg_vals = []\n",
    "Sig_vals = []\n",
    "\n",
    "for bin in range(Bkg_SR_h.GetNbinsX()):\n",
    "    val = Bkg_SR_h.GetBinContent(bin + 1)\n",
    "    Bkg_vals.append(val)\n",
    "for bin in range(Sig_SR_h.GetNbinsX()):\n",
    "    val = Sig_SR_h.GetBinContent(bin + 1)\n",
    "    Sig_vals.append(val)\n",
    "\n",
    "bins = np.linspace(0.1, 1, 71)\n",
    "    \n",
    "# print(\"Bkg_vals:\",Bkg_vals)    \n",
    "# print(\"bins[:-1]:\",bins[:-1])\n",
    "    \n",
    "fig, ax = plt.subplots()\n",
    "plt.hist(bins[:-1], weights = Bkg_vals, bins = bins, label = \"Background\")\n",
    "plt.hist(bins[:-1], weights = Sig_vals, bins = bins, label = \"Signal\")\n",
    "plt.yscale('log')\n",
    "plt.xlim(0.1, 1)\n",
    "plt.xlabel(\"evalDNN_HH\", fontsize = 15)\n",
    "plt.ylabel(\"Number of Expected Events\", fontsize = 15)\n",
    "plt.legend(loc = 'best')\n",
    "plt.tight_layout()\n",
    "# plt.show()\n",
    "plt.savefig(\"/eos/user/a/atishelm/www/HHWWgg/DNN/HHWWyyDNN_WithHggFactor2-200Epochs-3ClassMulticlass_EvenSingleH_2Hgg_withKinWeightCut10_BalanceYields/Categorization_UpdatedSmoothingNoNegatives/Bkg_Sig_SR_evalDNN_HH.png\")\n",
    "plt.savefig(\"/eos/user/a/atishelm/www/HHWWgg/DNN/HHWWyyDNN_WithHggFactor2-200Epochs-3ClassMulticlass_EvenSingleH_2Hgg_withKinWeightCut10_BalanceYields/Categorization_UpdatedSmoothingNoNegatives/Bkg_Sig_SR_evalDNN_HH.pdf\")\n",
    "plt.close()\n",
    "\n",
    "print(\"DONE\")\n",
    "    "
   ]
  },
  {
   "cell_type": "code",
   "execution_count": 2,
   "id": "magnetic-encoding",
   "metadata": {},
   "outputs": [],
   "source": [
    "import uproot"
   ]
  },
  {
   "cell_type": "code",
   "execution_count": 65,
   "id": "polyphonic-congress",
   "metadata": {},
   "outputs": [
    {
     "ename": "AttributeError",
     "evalue": "'TH1F' object has no attribute 'all_members'",
     "output_type": "error",
     "traceback": [
      "\u001b[0;31m---------------------------------------------------------------------------\u001b[0m",
      "\u001b[0;31mAttributeError\u001b[0m                            Traceback (most recent call last)",
      "\u001b[0;32m<ipython-input-65-1af78a90ad66>\u001b[0m in \u001b[0;36m<module>\u001b[0;34m\u001b[0m\n\u001b[1;32m      1\u001b[0m \u001b[0mfile\u001b[0m \u001b[0;34m=\u001b[0m \u001b[0muproot\u001b[0m\u001b[0;34m.\u001b[0m\u001b[0mopen\u001b[0m\u001b[0;34m(\u001b[0m\u001b[0;34m\"https://scikit-hep.org/uproot3/examples/hepdata-example.root\"\u001b[0m\u001b[0;34m)\u001b[0m\u001b[0;34m\u001b[0m\u001b[0;34m\u001b[0m\u001b[0m\n\u001b[1;32m      2\u001b[0m \u001b[0mfile\u001b[0m\u001b[0;34m.\u001b[0m\u001b[0mclassnames\u001b[0m\u001b[0;34m(\u001b[0m\u001b[0;34m)\u001b[0m\u001b[0;34m\u001b[0m\u001b[0;34m\u001b[0m\u001b[0m\n\u001b[0;32m----> 3\u001b[0;31m \u001b[0mfile\u001b[0m\u001b[0;34m[\u001b[0m\u001b[0;34m\"hpx\"\u001b[0m\u001b[0;34m]\u001b[0m\u001b[0;34m.\u001b[0m\u001b[0mall_members\u001b[0m\u001b[0;34m\u001b[0m\u001b[0;34m\u001b[0m\u001b[0m\n\u001b[0m",
      "\u001b[0;31mAttributeError\u001b[0m: 'TH1F' object has no attribute 'all_members'"
     ]
    }
   ],
   "source": [
    "file = uproot.open(\"https://scikit-hep.org/uproot3/examples/hepdata-example.root\")\n",
    "file.classnames()\n",
    "file[\"hpx\"].all_members"
   ]
  },
  {
   "cell_type": "code",
   "execution_count": 60,
   "id": "broken-arrival",
   "metadata": {
    "scrolled": false
   },
   "outputs": [
    {
     "name": "stdout",
     "output_type": "stream",
     "text": [
      "(b'h_evalDNN_HH_bkg_SR_weighted;1', 'TH1F')\n",
      "(b'h_evalDNN_HH_bkg_SR_weighted_smooth;1', 'TH1F')\n",
      "(b'h_evalDNN_HH_bkg_SR_weighted_smooth_up;1', 'TH1F')\n",
      "(b'h_evalDNN_HH_bkg_SR_weighted_smooth_down;1', 'TH1F')\n",
      "(b'h_evalDNN_HH_bkg_SR;1', 'TH1F')\n",
      "(b'h_evalDNN_HH_bkg_SR_smooth;1', 'TH1F')\n",
      "(b'h_evalDNN_HH_bkg_SR_smooth_up;1', 'TH1F')\n",
      "(b'h_evalDNN_HH_bkg_SR_smooth_down;1', 'TH1F')\n",
      "(b'h_evalDNN_HH_bkg_SB_weighted;1', 'TH1F')\n",
      "(b'h_evalDNN_HH_bkg_SB_weighted_smooth;2', 'TH1F')\n",
      "(b'h_evalDNN_HH_bkg_SB_weighted_smooth;1', 'TH1F')\n",
      "(b'h_evalDNN_HH_bkg_SB_weighted_smooth_up;2', 'TH1F')\n",
      "(b'h_evalDNN_HH_bkg_SB_weighted_smooth_up;1', 'TH1F')\n",
      "(b'h_evalDNN_HH_bkg_SB_weighted_smooth_down;2', 'TH1F')\n",
      "(b'h_evalDNN_HH_bkg_SB_weighted_smooth_down;1', 'TH1F')\n",
      "(b'h_evalDNN_HH_data_SB;1', 'TH1F')\n",
      "(b'h_evalDNN_HH_VHtoGG_SR_2017;1', 'TH1F')\n",
      "(b'h_evalDNN_HH_VHtoGG_SR_2017_smooth;1', 'TH1F')\n",
      "(b'h_evalDNN_HH_VHtoGG_SR_2017_smooth_up;1', 'TH1F')\n",
      "(b'h_evalDNN_HH_VHtoGG_SR_2017_smooth_down;1', 'TH1F')\n",
      "(b'h_evalDNN_HH_ttHtoGG_SR_2017;1', 'TH1F')\n",
      "(b'h_evalDNN_HH_ttHtoGG_SR_2017_smooth;1', 'TH1F')\n",
      "(b'h_evalDNN_HH_ttHtoGG_SR_2017_smooth_up;1', 'TH1F')\n",
      "(b'h_evalDNN_HH_ttHtoGG_SR_2017_smooth_down;1', 'TH1F')\n",
      "(b'h_evalDNN_HH_signal_SR;1', 'TH1F')\n",
      "(b'h_evalDNN_HH_signal_SB;1', 'TH1F')\n",
      "(b'h_evalDNN_HH_data_SB_diffBins;1', 'TH1F')\n",
      "(b'h_evalDNN_HH_bkg_SB_diffBins;1', 'TH1F')\n",
      "(b'h_evalDNN_HH_bkg_SB_weighted_diffBins;1', 'TH1F')\n",
      "(b'h_evalDNN_HH_ggHtoGG_SR;1', 'TH1F')\n",
      "(b'h_evalDNN_HH_VBFHtoGG_SR;1', 'TH1F')\n",
      "(b'h_evalDNN_HH_VHtoGG_SR;1', 'TH1F')\n",
      "(b'h_evalDNN_HH_ttHtoGG_SR;1', 'TH1F')\n"
     ]
    }
   ],
   "source": [
    "\n",
    "\n",
    "##-- Make signal, smoothed background DNN score plot in signal region\n",
    "file = \"/eos/user/a/atishelm/ntuples/HHWWgg_DNN/MultiClassifier/HHWWyyDNN_WithHggFactor2-200Epochs-3ClassMulticlass_EvenSingleH_2Hgg_withKinWeightCut10_BalanceYields/evalDNN_HH/evalDNN_HH_Histos_smoothing_SmoothSuper_bins70_massMin122.0_massMax128.0.root\"\n",
    "f = uproot.open(file)\n",
    "# print(f.keys())\n",
    "# print(\" \")\n",
    "# print(f.classnames())\n",
    "for item in f.classnames():\n",
    "    print(item)\n",
    "\n",
    "Bkg_SR_h = f[\"h_evalDNN_HH_bkg_SR_weighted_smooth\"]\n",
    "Signal_SR_h = f[\"h_evalDNN_HH_signal_SR\"]"
   ]
  },
  {
   "cell_type": "code",
   "execution_count": 63,
   "id": "distinct-onion",
   "metadata": {},
   "outputs": [
    {
     "ename": "AttributeError",
     "evalue": "'TH1F' object has no attribute 'all_members'",
     "output_type": "error",
     "traceback": [
      "\u001b[0;31m---------------------------------------------------------------------------\u001b[0m",
      "\u001b[0;31mAttributeError\u001b[0m                            Traceback (most recent call last)",
      "\u001b[0;32m<ipython-input-63-21b01b566590>\u001b[0m in \u001b[0;36m<module>\u001b[0;34m\u001b[0m\n\u001b[0;32m----> 1\u001b[0;31m \u001b[0mBkg_SR_h\u001b[0m\u001b[0;34m.\u001b[0m\u001b[0mall_members\u001b[0m\u001b[0;34m\u001b[0m\u001b[0;34m\u001b[0m\u001b[0m\n\u001b[0m",
      "\u001b[0;31mAttributeError\u001b[0m: 'TH1F' object has no attribute 'all_members'"
     ]
    }
   ],
   "source": [
    "Bkg_SR_h.all_members"
   ]
  },
  {
   "cell_type": "code",
   "execution_count": 53,
   "id": "nearby-thunder",
   "metadata": {},
   "outputs": [
    {
     "ename": "AttributeError",
     "evalue": "'TH1F' object has no attribute 'print'",
     "output_type": "error",
     "traceback": [
      "\u001b[0;31m---------------------------------------------------------------------------\u001b[0m",
      "\u001b[0;31mAttributeError\u001b[0m                            Traceback (most recent call last)",
      "\u001b[0;32m<ipython-input-53-c1178de54684>\u001b[0m in \u001b[0;36m<module>\u001b[0;34m\u001b[0m\n\u001b[0;32m----> 1\u001b[0;31m \u001b[0mBkg_SR_h\u001b[0m\u001b[0;34m.\u001b[0m\u001b[0mprint\u001b[0m\u001b[0;34m(\u001b[0m\u001b[0;34m)\u001b[0m\u001b[0;34m\u001b[0m\u001b[0;34m\u001b[0m\u001b[0m\n\u001b[0m\u001b[1;32m      2\u001b[0m \u001b[0;31m# a = Bkg_SR_h.to_numpy()\u001b[0m\u001b[0;34m\u001b[0m\u001b[0;34m\u001b[0m\u001b[0;34m\u001b[0m\u001b[0m\n\u001b[1;32m      3\u001b[0m \u001b[0;34m\u001b[0m\u001b[0m\n\u001b[1;32m      4\u001b[0m \u001b[0;34m\u001b[0m\u001b[0m\n\u001b[1;32m      5\u001b[0m \u001b[0;31m# Bkg_SR_values = Bkg_SR_h.values()\u001b[0m\u001b[0;34m\u001b[0m\u001b[0;34m\u001b[0m\u001b[0;34m\u001b[0m\u001b[0m\n",
      "\u001b[0;31mAttributeError\u001b[0m: 'TH1F' object has no attribute 'print'"
     ]
    }
   ],
   "source": [
    "\n",
    "##-- https://indico.cern.ch/event/697389/contributions/3102807/attachments/1713054/2762448/Writing_files_with_uproot.pdf\n",
    "\n",
    "# a = Bkg_SR_h.to_numpy()\n",
    "\n",
    "\n",
    "# Bkg_SR_values = Bkg_SR_h.values()\n",
    "\n",
    "\n",
    "# fig, ax = plt.subplots()\n",
    "# plt.hist(Bkg_SR_h)\n",
    "# plt.show()\n",
    "# plt.close()"
   ]
  },
  {
   "cell_type": "code",
   "execution_count": null,
   "id": "worst-upset",
   "metadata": {},
   "outputs": [],
   "source": []
  }
 ],
 "metadata": {
  "kernelspec": {
   "display_name": "Python 3",
   "language": "python",
   "name": "python3"
  },
  "language_info": {
   "codemirror_mode": {
    "name": "ipython",
    "version": 3
   },
   "file_extension": ".py",
   "mimetype": "text/x-python",
   "name": "python",
   "nbconvert_exporter": "python",
   "pygments_lexer": "ipython3",
   "version": "3.9.6"
  }
 },
 "nbformat": 4,
 "nbformat_minor": 5
}
